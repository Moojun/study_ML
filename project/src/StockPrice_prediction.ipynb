{
 "cells": [
  {
   "cell_type": "code",
   "execution_count": 2,
   "id": "bd382282",
   "metadata": {},
   "outputs": [],
   "source": [
    "import pandas as pd\n",
    "import numpy as np\n",
    "import FinanceDataReader as fdr\n",
    "\n",
    "# To print multiple outputs in a cell\n",
    "from IPython.core.interactiveshell import InteractiveShell\n",
    "InteractiveShell.ast_node_interactivity = \"all\"\n",
    "\n",
    "# Display data to three deciaml places.\n",
    "pd.set_option('display.float_format', lambda x: '%.3f' % x)\n",
    "\n",
    "# To print all columns\n",
    "pd.set_option('max_columns', None)"
   ]
  },
  {
   "cell_type": "markdown",
   "id": "f604ccbb",
   "metadata": {},
   "source": [
    "## data used "
   ]
  },
  {
   "cell_type": "code",
   "execution_count": 3,
   "id": "bac09bbb",
   "metadata": {},
   "outputs": [
    {
     "data": {
      "text/html": [
       "<div>\n",
       "<style scoped>\n",
       "    .dataframe tbody tr th:only-of-type {\n",
       "        vertical-align: middle;\n",
       "    }\n",
       "\n",
       "    .dataframe tbody tr th {\n",
       "        vertical-align: top;\n",
       "    }\n",
       "\n",
       "    .dataframe thead th {\n",
       "        text-align: right;\n",
       "    }\n",
       "</style>\n",
       "<table border=\"1\" class=\"dataframe\">\n",
       "  <thead>\n",
       "    <tr style=\"text-align: right;\">\n",
       "      <th></th>\n",
       "      <th>stock_name</th>\n",
       "    </tr>\n",
       "  </thead>\n",
       "  <tbody>\n",
       "    <tr>\n",
       "      <th>1</th>\n",
       "      <td>NETFLIX</td>\n",
       "    </tr>\n",
       "    <tr>\n",
       "      <th>2</th>\n",
       "      <td>Amazon</td>\n",
       "    </tr>\n",
       "    <tr>\n",
       "      <th>3</th>\n",
       "      <td>Apple</td>\n",
       "    </tr>\n",
       "    <tr>\n",
       "      <th>4</th>\n",
       "      <td>Microsoft</td>\n",
       "    </tr>\n",
       "    <tr>\n",
       "      <th>5</th>\n",
       "      <td>NVIDIA</td>\n",
       "    </tr>\n",
       "    <tr>\n",
       "      <th>6</th>\n",
       "      <td>Tesla</td>\n",
       "    </tr>\n",
       "    <tr>\n",
       "      <th>7</th>\n",
       "      <td>Autodesk</td>\n",
       "    </tr>\n",
       "    <tr>\n",
       "      <th>8</th>\n",
       "      <td>NIKE</td>\n",
       "    </tr>\n",
       "    <tr>\n",
       "      <th>9</th>\n",
       "      <td>Pfizer</td>\n",
       "    </tr>\n",
       "    <tr>\n",
       "      <th>10</th>\n",
       "      <td>Disney</td>\n",
       "    </tr>\n",
       "  </tbody>\n",
       "</table>\n",
       "</div>"
      ],
      "text/plain": [
       "   stock_name\n",
       "1     NETFLIX\n",
       "2      Amazon\n",
       "3       Apple\n",
       "4   Microsoft\n",
       "5      NVIDIA\n",
       "6       Tesla\n",
       "7    Autodesk\n",
       "8        NIKE\n",
       "9      Pfizer\n",
       "10     Disney"
      ]
     },
     "execution_count": 3,
     "metadata": {},
     "output_type": "execute_result"
    }
   ],
   "source": [
    "code_stock_name = pd.Series(np.array(['NETFLIX', 'Amazon', 'Apple', 'Microsoft', 'NVIDIA', 'Tesla', \n",
    "                                     'Autodesk', 'NIKE', 'Pfizer', 'Disney']))\n",
    "use_stock = pd.DataFrame(\n",
    "    {\n",
    "        'stock_name': code_stock_name\n",
    "    }\n",
    ")\n",
    "use_stock.index = np.arange(1,len(use_stock) + 1) # start row index from 1 instead of zero. \n",
    "\n",
    "use_stock"
   ]
  },
  {
   "cell_type": "markdown",
   "id": "26ad501f",
   "metadata": {},
   "source": [
    "## load datasets\n",
    "* Getting the NASDAQ Symbols in [here](https://finance.yahoo.com/)\n",
    "* Date : '2015-01-01' to '2021-11-25'"
   ]
  },
  {
   "cell_type": "code",
   "execution_count": 4,
   "id": "149c03ba",
   "metadata": {},
   "outputs": [
    {
     "data": {
      "text/plain": [
       "(1739, 6)"
      ]
     },
     "execution_count": 4,
     "metadata": {},
     "output_type": "execute_result"
    },
    {
     "data": {
      "text/plain": [
       "(1739, 6)"
      ]
     },
     "execution_count": 4,
     "metadata": {},
     "output_type": "execute_result"
    },
    {
     "data": {
      "text/plain": [
       "(1738, 6)"
      ]
     },
     "execution_count": 4,
     "metadata": {},
     "output_type": "execute_result"
    },
    {
     "data": {
      "text/plain": [
       "(1739, 6)"
      ]
     },
     "execution_count": 4,
     "metadata": {},
     "output_type": "execute_result"
    },
    {
     "data": {
      "text/plain": [
       "(1739, 6)"
      ]
     },
     "execution_count": 4,
     "metadata": {},
     "output_type": "execute_result"
    },
    {
     "data": {
      "text/plain": [
       "(1739, 6)"
      ]
     },
     "execution_count": 4,
     "metadata": {},
     "output_type": "execute_result"
    },
    {
     "data": {
      "text/plain": [
       "(1738, 6)"
      ]
     },
     "execution_count": 4,
     "metadata": {},
     "output_type": "execute_result"
    },
    {
     "data": {
      "text/plain": [
       "(1738, 6)"
      ]
     },
     "execution_count": 4,
     "metadata": {},
     "output_type": "execute_result"
    },
    {
     "data": {
      "text/plain": [
       "(1738, 6)"
      ]
     },
     "execution_count": 4,
     "metadata": {},
     "output_type": "execute_result"
    },
    {
     "data": {
      "text/plain": [
       "(1738, 6)"
      ]
     },
     "execution_count": 4,
     "metadata": {},
     "output_type": "execute_result"
    }
   ],
   "source": [
    "NETFLIX_df = fdr.DataReader(\"NFLX\", '2015-01-01', '2021-11-25')\n",
    "AMAZON_df = fdr.DataReader(\"AMZN\", '2015-01-01', '2021-11-25')\n",
    "APPLE_DF = fdr.DataReader(\"AAPL\", '2015-01-01', '2021-11-25')\n",
    "MICROSOFT_df = fdr.DataReader(\"MSFT\", '2015-01-01', '2021-11-25')\n",
    "NVIDIA_df = fdr.DataReader(\"NVDA\", '2015-01-01', '2021-11-25')\n",
    "TESLA_dF = fdr.DataReader(\"TSLA\", '2015-01-01', '2021-11-25')\n",
    "AUTODESK_DF = fdr.DataReader(\"ADSK\", '2015-01-01', '2021-11-25')\n",
    "NIKE_DF = fdr.DataReader(\"NKE\", '2015-01-01', '2021-11-25')\n",
    "PFIZER_DF = fdr.DataReader(\"PFE\", '2015-01-01', '2021-11-25')\n",
    "DISNEY_DF = fdr.DataReader(\"DIS\", '2015-01-01', '2021-11-25')\n",
    "\n",
    "NETFLIX_df.shape\n",
    "AMAZON_df.shape\n",
    "APPLE_DF.shape\n",
    "MICROSOFT_df.shape\n",
    "NVIDIA_df.shape\n",
    "TESLA_dF.shape\n",
    "AUTODESK_DF.shape\n",
    "NIKE_DF.shape\n",
    "PFIZER_DF.shape\n",
    "DISNEY_DF.shape"
   ]
  },
  {
   "cell_type": "code",
   "execution_count": 8,
   "id": "ca62f489",
   "metadata": {},
   "outputs": [
    {
     "data": {
      "text/plain": [
       "(1739, 6)"
      ]
     },
     "execution_count": 8,
     "metadata": {},
     "output_type": "execute_result"
    },
    {
     "data": {
      "text/plain": [
       "(1739, 6)"
      ]
     },
     "execution_count": 8,
     "metadata": {},
     "output_type": "execute_result"
    },
    {
     "data": {
      "text/plain": [
       "(1739, 6)"
      ]
     },
     "execution_count": 8,
     "metadata": {},
     "output_type": "execute_result"
    },
    {
     "data": {
      "text/plain": [
       "(1739, 6)"
      ]
     },
     "execution_count": 8,
     "metadata": {},
     "output_type": "execute_result"
    },
    {
     "data": {
      "text/plain": [
       "(1739, 6)"
      ]
     },
     "execution_count": 8,
     "metadata": {},
     "output_type": "execute_result"
    },
    {
     "data": {
      "text/html": [
       "<div>\n",
       "<style scoped>\n",
       "    .dataframe tbody tr th:only-of-type {\n",
       "        vertical-align: middle;\n",
       "    }\n",
       "\n",
       "    .dataframe tbody tr th {\n",
       "        vertical-align: top;\n",
       "    }\n",
       "\n",
       "    .dataframe thead th {\n",
       "        text-align: right;\n",
       "    }\n",
       "</style>\n",
       "<table border=\"1\" class=\"dataframe\">\n",
       "  <thead>\n",
       "    <tr style=\"text-align: right;\">\n",
       "      <th></th>\n",
       "      <th>Close</th>\n",
       "      <th>Open</th>\n",
       "      <th>High</th>\n",
       "      <th>Low</th>\n",
       "      <th>Volume</th>\n",
       "      <th>Change</th>\n",
       "    </tr>\n",
       "    <tr>\n",
       "      <th>Date</th>\n",
       "      <th></th>\n",
       "      <th></th>\n",
       "      <th></th>\n",
       "      <th></th>\n",
       "      <th></th>\n",
       "      <th></th>\n",
       "    </tr>\n",
       "  </thead>\n",
       "  <tbody>\n",
       "    <tr>\n",
       "      <th>2015-01-02</th>\n",
       "      <td>27.330</td>\n",
       "      <td>27.850</td>\n",
       "      <td>27.860</td>\n",
       "      <td>26.840</td>\n",
       "      <td>212820000.000</td>\n",
       "      <td>-0.009</td>\n",
       "    </tr>\n",
       "    <tr>\n",
       "      <th>2015-01-05</th>\n",
       "      <td>26.560</td>\n",
       "      <td>27.070</td>\n",
       "      <td>27.160</td>\n",
       "      <td>26.350</td>\n",
       "      <td>257140000.000</td>\n",
       "      <td>-0.028</td>\n",
       "    </tr>\n",
       "    <tr>\n",
       "      <th>2015-01-06</th>\n",
       "      <td>26.570</td>\n",
       "      <td>26.640</td>\n",
       "      <td>26.860</td>\n",
       "      <td>26.160</td>\n",
       "      <td>263190000.000</td>\n",
       "      <td>0.000</td>\n",
       "    </tr>\n",
       "    <tr>\n",
       "      <th>2015-01-07</th>\n",
       "      <td>26.940</td>\n",
       "      <td>26.800</td>\n",
       "      <td>27.050</td>\n",
       "      <td>26.670</td>\n",
       "      <td>160420000.000</td>\n",
       "      <td>0.014</td>\n",
       "    </tr>\n",
       "    <tr>\n",
       "      <th>2015-01-08</th>\n",
       "      <td>27.970</td>\n",
       "      <td>27.310</td>\n",
       "      <td>28.040</td>\n",
       "      <td>27.180</td>\n",
       "      <td>237460000.000</td>\n",
       "      <td>0.038</td>\n",
       "    </tr>\n",
       "  </tbody>\n",
       "</table>\n",
       "</div>"
      ],
      "text/plain": [
       "            Close   Open   High    Low        Volume  Change\n",
       "Date                                                        \n",
       "2015-01-02 27.330 27.850 27.860 26.840 212820000.000  -0.009\n",
       "2015-01-05 26.560 27.070 27.160 26.350 257140000.000  -0.028\n",
       "2015-01-06 26.570 26.640 26.860 26.160 263190000.000   0.000\n",
       "2015-01-07 26.940 26.800 27.050 26.670 160420000.000   0.014\n",
       "2015-01-08 27.970 27.310 28.040 27.180 237460000.000   0.038"
      ]
     },
     "execution_count": 8,
     "metadata": {},
     "output_type": "execute_result"
    },
    {
     "data": {
      "text/html": [
       "<div>\n",
       "<style scoped>\n",
       "    .dataframe tbody tr th:only-of-type {\n",
       "        vertical-align: middle;\n",
       "    }\n",
       "\n",
       "    .dataframe tbody tr th {\n",
       "        vertical-align: top;\n",
       "    }\n",
       "\n",
       "    .dataframe thead th {\n",
       "        text-align: right;\n",
       "    }\n",
       "</style>\n",
       "<table border=\"1\" class=\"dataframe\">\n",
       "  <thead>\n",
       "    <tr style=\"text-align: right;\">\n",
       "      <th></th>\n",
       "      <th>Close</th>\n",
       "      <th>Open</th>\n",
       "      <th>High</th>\n",
       "      <th>Low</th>\n",
       "      <th>Volume</th>\n",
       "      <th>Change</th>\n",
       "    </tr>\n",
       "    <tr>\n",
       "      <th>Date</th>\n",
       "      <th></th>\n",
       "      <th></th>\n",
       "      <th></th>\n",
       "      <th></th>\n",
       "      <th></th>\n",
       "      <th></th>\n",
       "    </tr>\n",
       "  </thead>\n",
       "  <tbody>\n",
       "    <tr>\n",
       "      <th>2015-01-02</th>\n",
       "      <td>59.530</td>\n",
       "      <td>60.060</td>\n",
       "      <td>60.490</td>\n",
       "      <td>58.950</td>\n",
       "      <td>901930.000</td>\n",
       "      <td>-0.009</td>\n",
       "    </tr>\n",
       "    <tr>\n",
       "      <th>2015-01-05</th>\n",
       "      <td>58.660</td>\n",
       "      <td>59.150</td>\n",
       "      <td>59.440</td>\n",
       "      <td>58.460</td>\n",
       "      <td>2130000.000</td>\n",
       "      <td>-0.015</td>\n",
       "    </tr>\n",
       "    <tr>\n",
       "      <th>2015-01-06</th>\n",
       "      <td>57.500</td>\n",
       "      <td>58.890</td>\n",
       "      <td>59.220</td>\n",
       "      <td>57.310</td>\n",
       "      <td>1940000.000</td>\n",
       "      <td>-0.020</td>\n",
       "    </tr>\n",
       "    <tr>\n",
       "      <th>2015-01-07</th>\n",
       "      <td>57.380</td>\n",
       "      <td>57.780</td>\n",
       "      <td>58.520</td>\n",
       "      <td>57.100</td>\n",
       "      <td>1220000.000</td>\n",
       "      <td>-0.002</td>\n",
       "    </tr>\n",
       "    <tr>\n",
       "      <th>2015-01-08</th>\n",
       "      <td>58.800</td>\n",
       "      <td>57.870</td>\n",
       "      <td>59.130</td>\n",
       "      <td>57.740</td>\n",
       "      <td>1310000.000</td>\n",
       "      <td>0.025</td>\n",
       "    </tr>\n",
       "  </tbody>\n",
       "</table>\n",
       "</div>"
      ],
      "text/plain": [
       "            Close   Open   High    Low      Volume  Change\n",
       "Date                                                      \n",
       "2015-01-02 59.530 60.060 60.490 58.950  901930.000  -0.009\n",
       "2015-01-05 58.660 59.150 59.440 58.460 2130000.000  -0.015\n",
       "2015-01-06 57.500 58.890 59.220 57.310 1940000.000  -0.020\n",
       "2015-01-07 57.380 57.780 58.520 57.100 1220000.000  -0.002\n",
       "2015-01-08 58.800 57.870 59.130 57.740 1310000.000   0.025"
      ]
     },
     "execution_count": 8,
     "metadata": {},
     "output_type": "execute_result"
    },
    {
     "data": {
      "text/html": [
       "<div>\n",
       "<style scoped>\n",
       "    .dataframe tbody tr th:only-of-type {\n",
       "        vertical-align: middle;\n",
       "    }\n",
       "\n",
       "    .dataframe tbody tr th {\n",
       "        vertical-align: top;\n",
       "    }\n",
       "\n",
       "    .dataframe thead th {\n",
       "        text-align: right;\n",
       "    }\n",
       "</style>\n",
       "<table border=\"1\" class=\"dataframe\">\n",
       "  <thead>\n",
       "    <tr style=\"text-align: right;\">\n",
       "      <th></th>\n",
       "      <th>Close</th>\n",
       "      <th>Open</th>\n",
       "      <th>High</th>\n",
       "      <th>Low</th>\n",
       "      <th>Volume</th>\n",
       "      <th>Change</th>\n",
       "    </tr>\n",
       "    <tr>\n",
       "      <th>Date</th>\n",
       "      <th></th>\n",
       "      <th></th>\n",
       "      <th></th>\n",
       "      <th></th>\n",
       "      <th></th>\n",
       "      <th></th>\n",
       "    </tr>\n",
       "  </thead>\n",
       "  <tbody>\n",
       "    <tr>\n",
       "      <th>2015-01-02</th>\n",
       "      <td>47.520</td>\n",
       "      <td>48.270</td>\n",
       "      <td>48.480</td>\n",
       "      <td>47.050</td>\n",
       "      <td>4990000.000</td>\n",
       "      <td>-0.012</td>\n",
       "    </tr>\n",
       "    <tr>\n",
       "      <th>2015-01-05</th>\n",
       "      <td>46.750</td>\n",
       "      <td>47.260</td>\n",
       "      <td>47.270</td>\n",
       "      <td>46.560</td>\n",
       "      <td>6890000.000</td>\n",
       "      <td>-0.016</td>\n",
       "    </tr>\n",
       "    <tr>\n",
       "      <th>2015-01-06</th>\n",
       "      <td>46.480</td>\n",
       "      <td>46.950</td>\n",
       "      <td>47.080</td>\n",
       "      <td>46.030</td>\n",
       "      <td>7580000.000</td>\n",
       "      <td>-0.006</td>\n",
       "    </tr>\n",
       "    <tr>\n",
       "      <th>2015-01-07</th>\n",
       "      <td>47.440</td>\n",
       "      <td>46.800</td>\n",
       "      <td>47.650</td>\n",
       "      <td>46.550</td>\n",
       "      <td>7260000.000</td>\n",
       "      <td>0.021</td>\n",
       "    </tr>\n",
       "    <tr>\n",
       "      <th>2015-01-08</th>\n",
       "      <td>48.530</td>\n",
       "      <td>47.830</td>\n",
       "      <td>48.550</td>\n",
       "      <td>47.810</td>\n",
       "      <td>6000000.000</td>\n",
       "      <td>0.023</td>\n",
       "    </tr>\n",
       "  </tbody>\n",
       "</table>\n",
       "</div>"
      ],
      "text/plain": [
       "            Close   Open   High    Low      Volume  Change\n",
       "Date                                                      \n",
       "2015-01-02 47.520 48.270 48.480 47.050 4990000.000  -0.012\n",
       "2015-01-05 46.750 47.260 47.270 46.560 6890000.000  -0.016\n",
       "2015-01-06 46.480 46.950 47.080 46.030 7580000.000  -0.006\n",
       "2015-01-07 47.440 46.800 47.650 46.550 7260000.000   0.021\n",
       "2015-01-08 48.530 47.830 48.550 47.810 6000000.000   0.023"
      ]
     },
     "execution_count": 8,
     "metadata": {},
     "output_type": "execute_result"
    },
    {
     "data": {
      "text/html": [
       "<div>\n",
       "<style scoped>\n",
       "    .dataframe tbody tr th:only-of-type {\n",
       "        vertical-align: middle;\n",
       "    }\n",
       "\n",
       "    .dataframe tbody tr th {\n",
       "        vertical-align: top;\n",
       "    }\n",
       "\n",
       "    .dataframe thead th {\n",
       "        text-align: right;\n",
       "    }\n",
       "</style>\n",
       "<table border=\"1\" class=\"dataframe\">\n",
       "  <thead>\n",
       "    <tr style=\"text-align: right;\">\n",
       "      <th></th>\n",
       "      <th>Close</th>\n",
       "      <th>Open</th>\n",
       "      <th>High</th>\n",
       "      <th>Low</th>\n",
       "      <th>Volume</th>\n",
       "      <th>Change</th>\n",
       "    </tr>\n",
       "    <tr>\n",
       "      <th>Date</th>\n",
       "      <th></th>\n",
       "      <th></th>\n",
       "      <th></th>\n",
       "      <th></th>\n",
       "      <th></th>\n",
       "      <th></th>\n",
       "    </tr>\n",
       "  </thead>\n",
       "  <tbody>\n",
       "    <tr>\n",
       "      <th>2015-01-02</th>\n",
       "      <td>29.700</td>\n",
       "      <td>29.640</td>\n",
       "      <td>30.130</td>\n",
       "      <td>29.590</td>\n",
       "      <td>15530000.000</td>\n",
       "      <td>0.006</td>\n",
       "    </tr>\n",
       "    <tr>\n",
       "      <th>2015-01-05</th>\n",
       "      <td>29.540</td>\n",
       "      <td>29.720</td>\n",
       "      <td>29.780</td>\n",
       "      <td>29.400</td>\n",
       "      <td>23520000.000</td>\n",
       "      <td>-0.005</td>\n",
       "    </tr>\n",
       "    <tr>\n",
       "      <th>2015-01-06</th>\n",
       "      <td>29.780</td>\n",
       "      <td>29.640</td>\n",
       "      <td>30.200</td>\n",
       "      <td>29.500</td>\n",
       "      <td>27960000.000</td>\n",
       "      <td>0.008</td>\n",
       "    </tr>\n",
       "    <tr>\n",
       "      <th>2015-01-07</th>\n",
       "      <td>30.190</td>\n",
       "      <td>30.070</td>\n",
       "      <td>30.210</td>\n",
       "      <td>29.940</td>\n",
       "      <td>19210000.000</td>\n",
       "      <td>0.014</td>\n",
       "    </tr>\n",
       "    <tr>\n",
       "      <th>2015-01-08</th>\n",
       "      <td>30.810</td>\n",
       "      <td>30.660</td>\n",
       "      <td>30.940</td>\n",
       "      <td>30.540</td>\n",
       "      <td>46650000.000</td>\n",
       "      <td>0.020</td>\n",
       "    </tr>\n",
       "  </tbody>\n",
       "</table>\n",
       "</div>"
      ],
      "text/plain": [
       "            Close   Open   High    Low       Volume  Change\n",
       "Date                                                       \n",
       "2015-01-02 29.700 29.640 30.130 29.590 15530000.000   0.006\n",
       "2015-01-05 29.540 29.720 29.780 29.400 23520000.000  -0.005\n",
       "2015-01-06 29.780 29.640 30.200 29.500 27960000.000   0.008\n",
       "2015-01-07 30.190 30.070 30.210 29.940 19210000.000   0.014\n",
       "2015-01-08 30.810 30.660 30.940 30.540 46650000.000   0.020"
      ]
     },
     "execution_count": 8,
     "metadata": {},
     "output_type": "execute_result"
    },
    {
     "data": {
      "text/html": [
       "<div>\n",
       "<style scoped>\n",
       "    .dataframe tbody tr th:only-of-type {\n",
       "        vertical-align: middle;\n",
       "    }\n",
       "\n",
       "    .dataframe tbody tr th {\n",
       "        vertical-align: top;\n",
       "    }\n",
       "\n",
       "    .dataframe thead th {\n",
       "        text-align: right;\n",
       "    }\n",
       "</style>\n",
       "<table border=\"1\" class=\"dataframe\">\n",
       "  <thead>\n",
       "    <tr style=\"text-align: right;\">\n",
       "      <th></th>\n",
       "      <th>Close</th>\n",
       "      <th>Open</th>\n",
       "      <th>High</th>\n",
       "      <th>Low</th>\n",
       "      <th>Volume</th>\n",
       "      <th>Change</th>\n",
       "    </tr>\n",
       "    <tr>\n",
       "      <th>Date</th>\n",
       "      <th></th>\n",
       "      <th></th>\n",
       "      <th></th>\n",
       "      <th></th>\n",
       "      <th></th>\n",
       "      <th></th>\n",
       "    </tr>\n",
       "  </thead>\n",
       "  <tbody>\n",
       "    <tr>\n",
       "      <th>2015-01-02</th>\n",
       "      <td>93.750</td>\n",
       "      <td>94.910</td>\n",
       "      <td>95.280</td>\n",
       "      <td>92.850</td>\n",
       "      <td>5870000.000</td>\n",
       "      <td>-0.005</td>\n",
       "    </tr>\n",
       "    <tr>\n",
       "      <th>2015-01-05</th>\n",
       "      <td>92.380</td>\n",
       "      <td>93.280</td>\n",
       "      <td>93.350</td>\n",
       "      <td>91.780</td>\n",
       "      <td>7790000.000</td>\n",
       "      <td>-0.015</td>\n",
       "    </tr>\n",
       "    <tr>\n",
       "      <th>2015-01-06</th>\n",
       "      <td>91.890</td>\n",
       "      <td>92.570</td>\n",
       "      <td>93.190</td>\n",
       "      <td>91.160</td>\n",
       "      <td>6800000.000</td>\n",
       "      <td>-0.005</td>\n",
       "    </tr>\n",
       "    <tr>\n",
       "      <th>2015-01-07</th>\n",
       "      <td>92.830</td>\n",
       "      <td>92.720</td>\n",
       "      <td>93.150</td>\n",
       "      <td>92.100</td>\n",
       "      <td>6590000.000</td>\n",
       "      <td>0.010</td>\n",
       "    </tr>\n",
       "    <tr>\n",
       "      <th>2015-01-08</th>\n",
       "      <td>93.790</td>\n",
       "      <td>93.870</td>\n",
       "      <td>94.300</td>\n",
       "      <td>93.560</td>\n",
       "      <td>7580000.000</td>\n",
       "      <td>0.010</td>\n",
       "    </tr>\n",
       "  </tbody>\n",
       "</table>\n",
       "</div>"
      ],
      "text/plain": [
       "            Close   Open   High    Low      Volume  Change\n",
       "Date                                                      \n",
       "2015-01-02 93.750 94.910 95.280 92.850 5870000.000  -0.005\n",
       "2015-01-05 92.380 93.280 93.350 91.780 7790000.000  -0.015\n",
       "2015-01-06 91.890 92.570 93.190 91.160 6800000.000  -0.005\n",
       "2015-01-07 92.830 92.720 93.150 92.100 6590000.000   0.010\n",
       "2015-01-08 93.790 93.870 94.300 93.560 7580000.000   0.010"
      ]
     },
     "execution_count": 8,
     "metadata": {},
     "output_type": "execute_result"
    }
   ],
   "source": [
    "# The shape is not the same because of several reasons.\n",
    "# First, Suspended trading occurs because of serious concerns about a company's assets, \n",
    "# operations, or other financial information.\n",
    "# Second, a Trading halt is implemented to correct an order imbalance,\n",
    "# Third, If the provider omits a specific day's data\n",
    "# etc..\n",
    "# So we must match the shape because of the imbalance.\n",
    "\n",
    "# In this project, I'll take df1(NFLX) as a criteria.\n",
    "\n",
    "\n",
    "# using 'reindex' to make the same shape\n",
    "APPLE_df = APPLE_DF.reindex(NETFLIX_df.index)\n",
    "AUTODESK_df = AUTODESK_DF.reindex(NETFLIX_df.index)\n",
    "NIKE_df = NIKE_DF.reindex(NETFLIX_df.index)\n",
    "PFIZER_df = PFIZER_DF.reindex(NETFLIX_df.index)\n",
    "DISNEY_df = DISNEY_DF.reindex(NETFLIX_df.index)\n",
    "\n",
    "# Check : Is the Shape the same? 이부분은 나중에 출력에서 지우기\n",
    "APPLE_df.shape\n",
    "AUTODESK_df.shape\n",
    "NIKE_df.shape\n",
    "PFIZER_df.shape\n",
    "DISNEY_df.shape\n",
    "\n",
    "# Fill the data \n",
    "# pandas.DataFrame.fillna : Fill NA/NaN values using the specified method.\n",
    "# \"ffill\" : forward fill\n",
    "APPLE_df.fillna(method=\"ffill\").head()\n",
    "AUTODESK_df.fillna(method=\"ffill\").head()\n",
    "NIKE_df.fillna(method=\"ffill\").head()\n",
    "PFIZER_df.fillna(method=\"ffill\").head()\n",
    "DISNEY_df.fillna(method=\"ffill\").head()\n"
   ]
  },
  {
   "cell_type": "code",
   "execution_count": 6,
   "id": "45674a96",
   "metadata": {},
   "outputs": [
    {
     "data": {
      "text/plain": [
       "Close     1475\n",
       "Open      1474\n",
       "High      1473\n",
       "Low       1483\n",
       "Volume    1643\n",
       "Change     621\n",
       "dtype: int64"
      ]
     },
     "execution_count": 6,
     "metadata": {},
     "output_type": "execute_result"
    }
   ],
   "source": [
    "APPLE_df.nunique()"
   ]
  },
  {
   "cell_type": "code",
   "execution_count": null,
   "id": "5ba684d6",
   "metadata": {},
   "outputs": [],
   "source": []
  },
  {
   "cell_type": "code",
   "execution_count": null,
   "id": "274a32b8",
   "metadata": {},
   "outputs": [],
   "source": []
  }
 ],
 "metadata": {
  "kernelspec": {
   "display_name": "Python 3 (ipykernel)",
   "language": "python",
   "name": "python3"
  },
  "language_info": {
   "codemirror_mode": {
    "name": "ipython",
    "version": 3
   },
   "file_extension": ".py",
   "mimetype": "text/x-python",
   "name": "python",
   "nbconvert_exporter": "python",
   "pygments_lexer": "ipython3",
   "version": "3.9.7"
  }
 },
 "nbformat": 4,
 "nbformat_minor": 5
}
