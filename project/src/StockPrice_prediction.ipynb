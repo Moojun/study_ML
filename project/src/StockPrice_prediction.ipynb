{
 "cells": [
  {
   "cell_type": "code",
   "execution_count": 1,
   "id": "bd382282",
   "metadata": {},
   "outputs": [],
   "source": [
    "import pandas as pd\n",
    "import numpy as np\n",
    "import FinanceDataReader as fdr\n",
    "\n",
    "# To print multiple outputs in a cell\n",
    "from IPython.core.interactiveshell import InteractiveShell\n",
    "InteractiveShell.ast_node_interactivity = \"all\"\n",
    "\n",
    "# Display data to three deciaml places.\n",
    "pd.set_option('display.float_format', lambda x: '%.3f' % x)\n",
    "\n",
    "# To print all columns\n",
    "pd.set_option('max_columns', None)"
   ]
  },
  {
   "cell_type": "markdown",
   "id": "f604ccbb",
   "metadata": {},
   "source": [
    "## data used "
   ]
  },
  {
   "cell_type": "code",
   "execution_count": 2,
   "id": "bac09bbb",
   "metadata": {},
   "outputs": [
    {
     "data": {
      "text/html": [
       "<div>\n",
       "<style scoped>\n",
       "    .dataframe tbody tr th:only-of-type {\n",
       "        vertical-align: middle;\n",
       "    }\n",
       "\n",
       "    .dataframe tbody tr th {\n",
       "        vertical-align: top;\n",
       "    }\n",
       "\n",
       "    .dataframe thead th {\n",
       "        text-align: right;\n",
       "    }\n",
       "</style>\n",
       "<table border=\"1\" class=\"dataframe\">\n",
       "  <thead>\n",
       "    <tr style=\"text-align: right;\">\n",
       "      <th></th>\n",
       "      <th>stock_name</th>\n",
       "    </tr>\n",
       "  </thead>\n",
       "  <tbody>\n",
       "    <tr>\n",
       "      <th>1</th>\n",
       "      <td>NETFLIX</td>\n",
       "    </tr>\n",
       "    <tr>\n",
       "      <th>2</th>\n",
       "      <td>Amazon</td>\n",
       "    </tr>\n",
       "    <tr>\n",
       "      <th>3</th>\n",
       "      <td>Apple</td>\n",
       "    </tr>\n",
       "    <tr>\n",
       "      <th>4</th>\n",
       "      <td>Microsoft</td>\n",
       "    </tr>\n",
       "    <tr>\n",
       "      <th>5</th>\n",
       "      <td>NVIDIA</td>\n",
       "    </tr>\n",
       "    <tr>\n",
       "      <th>6</th>\n",
       "      <td>Tesla</td>\n",
       "    </tr>\n",
       "    <tr>\n",
       "      <th>7</th>\n",
       "      <td>Autodesk</td>\n",
       "    </tr>\n",
       "    <tr>\n",
       "      <th>8</th>\n",
       "      <td>NIKE</td>\n",
       "    </tr>\n",
       "    <tr>\n",
       "      <th>9</th>\n",
       "      <td>Pfizer</td>\n",
       "    </tr>\n",
       "    <tr>\n",
       "      <th>10</th>\n",
       "      <td>Disney</td>\n",
       "    </tr>\n",
       "  </tbody>\n",
       "</table>\n",
       "</div>"
      ],
      "text/plain": [
       "   stock_name\n",
       "1     NETFLIX\n",
       "2      Amazon\n",
       "3       Apple\n",
       "4   Microsoft\n",
       "5      NVIDIA\n",
       "6       Tesla\n",
       "7    Autodesk\n",
       "8        NIKE\n",
       "9      Pfizer\n",
       "10     Disney"
      ]
     },
     "execution_count": 2,
     "metadata": {},
     "output_type": "execute_result"
    }
   ],
   "source": [
    "code_stock_name = pd.Series(np.array(['NETFLIX', 'Amazon', 'Apple', 'Microsoft', 'NVIDIA', 'Tesla', \n",
    "                                     'Autodesk', 'NIKE', 'Pfizer', 'Disney']))\n",
    "use_stock = pd.DataFrame(\n",
    "    {\n",
    "        'stock_name': code_stock_name\n",
    "    }\n",
    ")\n",
    "use_stock.index = np.arange(1,len(use_stock) + 1) # start row index from 1 instead of zero. \n",
    "\n",
    "use_stock"
   ]
  },
  {
   "cell_type": "markdown",
   "id": "26ad501f",
   "metadata": {},
   "source": [
    "## load datasets\n",
    "* Getting the NASDAQ Symbols in [here](https://finance.yahoo.com/)\n",
    "* Date : '2015-01-01' to '2021-11-25'"
   ]
  },
  {
   "cell_type": "code",
   "execution_count": 3,
   "id": "149c03ba",
   "metadata": {},
   "outputs": [
    {
     "data": {
      "text/plain": [
       "(1739, 6)"
      ]
     },
     "execution_count": 3,
     "metadata": {},
     "output_type": "execute_result"
    },
    {
     "data": {
      "text/plain": [
       "(1739, 6)"
      ]
     },
     "execution_count": 3,
     "metadata": {},
     "output_type": "execute_result"
    },
    {
     "data": {
      "text/plain": [
       "(1738, 6)"
      ]
     },
     "execution_count": 3,
     "metadata": {},
     "output_type": "execute_result"
    },
    {
     "data": {
      "text/plain": [
       "(1739, 6)"
      ]
     },
     "execution_count": 3,
     "metadata": {},
     "output_type": "execute_result"
    },
    {
     "data": {
      "text/plain": [
       "(1739, 6)"
      ]
     },
     "execution_count": 3,
     "metadata": {},
     "output_type": "execute_result"
    },
    {
     "data": {
      "text/plain": [
       "(1739, 6)"
      ]
     },
     "execution_count": 3,
     "metadata": {},
     "output_type": "execute_result"
    },
    {
     "data": {
      "text/plain": [
       "(1738, 6)"
      ]
     },
     "execution_count": 3,
     "metadata": {},
     "output_type": "execute_result"
    },
    {
     "data": {
      "text/plain": [
       "(1738, 6)"
      ]
     },
     "execution_count": 3,
     "metadata": {},
     "output_type": "execute_result"
    },
    {
     "data": {
      "text/plain": [
       "(1738, 6)"
      ]
     },
     "execution_count": 3,
     "metadata": {},
     "output_type": "execute_result"
    },
    {
     "data": {
      "text/plain": [
       "(1738, 6)"
      ]
     },
     "execution_count": 3,
     "metadata": {},
     "output_type": "execute_result"
    }
   ],
   "source": [
    "df1 = fdr.DataReader(\"NFLX\", '2015-01-01', '2021-11-25')\n",
    "df2 = fdr.DataReader(\"AMZN\", '2015-01-01', '2021-11-25')\n",
    "df3 = fdr.DataReader(\"AAPL\", '2015-01-01', '2021-11-25')\n",
    "df4 = fdr.DataReader(\"MSFT\", '2015-01-01', '2021-11-25')\n",
    "df5 = fdr.DataReader(\"NVDA\", '2015-01-01', '2021-11-25')\n",
    "df6 = fdr.DataReader(\"TSLA\", '2015-01-01', '2021-11-25')\n",
    "df7 = fdr.DataReader(\"ADSK\", '2015-01-01', '2021-11-25')\n",
    "df8 = fdr.DataReader(\"NKE\", '2015-01-01', '2021-11-25')\n",
    "df9 = fdr.DataReader(\"PFE\", '2015-01-01', '2021-11-25')\n",
    "df10 = fdr.DataReader(\"DIS\", '2015-01-01', '2021-11-25')\n",
    "\n",
    "df1.shape\n",
    "df2.shape\n",
    "df3.shape\n",
    "df4.shape\n",
    "df5.shape\n",
    "df6.shape\n",
    "df7.shape\n",
    "df8.shape\n",
    "df9.shape\n",
    "df10.shape"
   ]
  },
  {
   "cell_type": "code",
   "execution_count": null,
   "id": "ca62f489",
   "metadata": {},
   "outputs": [],
   "source": []
  }
 ],
 "metadata": {
  "kernelspec": {
   "display_name": "Python 3 (ipykernel)",
   "language": "python",
   "name": "python3"
  },
  "language_info": {
   "codemirror_mode": {
    "name": "ipython",
    "version": 3
   },
   "file_extension": ".py",
   "mimetype": "text/x-python",
   "name": "python",
   "nbconvert_exporter": "python",
   "pygments_lexer": "ipython3",
   "version": "3.9.7"
  }
 },
 "nbformat": 4,
 "nbformat_minor": 5
}
