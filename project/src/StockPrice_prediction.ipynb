{
 "cells": [
  {
   "cell_type": "code",
   "execution_count": 30,
   "id": "bd382282",
   "metadata": {},
   "outputs": [],
   "source": [
    "import pandas as pd\n",
    "import numpy as np\n",
    "import FinanceDataReader as fdr\n",
    "\n",
    "# To print multiple outputs in a cell\n",
    "from IPython.core.interactiveshell import InteractiveShell\n",
    "InteractiveShell.ast_node_interactivity = \"all\"\n",
    "\n",
    "# Display data to three deciaml places.\n",
    "pd.set_option('display.float_format', lambda x: '%.3f' % x)\n",
    "\n",
    "# To print all columns\n",
    "pd.set_option('max_columns', None)"
   ]
  },
  {
   "cell_type": "markdown",
   "id": "f604ccbb",
   "metadata": {},
   "source": [
    "## data used "
   ]
  },
  {
   "cell_type": "code",
   "execution_count": 31,
   "id": "bac09bbb",
   "metadata": {},
   "outputs": [
    {
     "data": {
      "text/html": [
       "<div>\n",
       "<style scoped>\n",
       "    .dataframe tbody tr th:only-of-type {\n",
       "        vertical-align: middle;\n",
       "    }\n",
       "\n",
       "    .dataframe tbody tr th {\n",
       "        vertical-align: top;\n",
       "    }\n",
       "\n",
       "    .dataframe thead th {\n",
       "        text-align: right;\n",
       "    }\n",
       "</style>\n",
       "<table border=\"1\" class=\"dataframe\">\n",
       "  <thead>\n",
       "    <tr style=\"text-align: right;\">\n",
       "      <th></th>\n",
       "      <th>stock_name</th>\n",
       "    </tr>\n",
       "  </thead>\n",
       "  <tbody>\n",
       "    <tr>\n",
       "      <th>1</th>\n",
       "      <td>NETFLIX</td>\n",
       "    </tr>\n",
       "    <tr>\n",
       "      <th>2</th>\n",
       "      <td>Amazon</td>\n",
       "    </tr>\n",
       "    <tr>\n",
       "      <th>3</th>\n",
       "      <td>Apple</td>\n",
       "    </tr>\n",
       "    <tr>\n",
       "      <th>4</th>\n",
       "      <td>Microsoft</td>\n",
       "    </tr>\n",
       "    <tr>\n",
       "      <th>5</th>\n",
       "      <td>NVIDIA</td>\n",
       "    </tr>\n",
       "    <tr>\n",
       "      <th>6</th>\n",
       "      <td>Tesla</td>\n",
       "    </tr>\n",
       "    <tr>\n",
       "      <th>7</th>\n",
       "      <td>Autodesk</td>\n",
       "    </tr>\n",
       "    <tr>\n",
       "      <th>8</th>\n",
       "      <td>NIKE</td>\n",
       "    </tr>\n",
       "    <tr>\n",
       "      <th>9</th>\n",
       "      <td>Pfizer</td>\n",
       "    </tr>\n",
       "    <tr>\n",
       "      <th>10</th>\n",
       "      <td>Disney</td>\n",
       "    </tr>\n",
       "  </tbody>\n",
       "</table>\n",
       "</div>"
      ],
      "text/plain": [
       "   stock_name\n",
       "1     NETFLIX\n",
       "2      Amazon\n",
       "3       Apple\n",
       "4   Microsoft\n",
       "5      NVIDIA\n",
       "6       Tesla\n",
       "7    Autodesk\n",
       "8        NIKE\n",
       "9      Pfizer\n",
       "10     Disney"
      ]
     },
     "execution_count": 31,
     "metadata": {},
     "output_type": "execute_result"
    }
   ],
   "source": [
    "code_stock_name = pd.Series(np.array(['NETFLIX', 'Amazon', 'Apple', 'Microsoft', 'NVIDIA', 'Tesla', \n",
    "                                     'Autodesk', 'NIKE', 'Pfizer', 'Disney']))\n",
    "use_stock = pd.DataFrame(\n",
    "    {\n",
    "        'stock_name': code_stock_name\n",
    "    }\n",
    ")\n",
    "use_stock.index = np.arange(1,len(use_stock) + 1) # start row index from 1 instead of zero. \n",
    "\n",
    "use_stock"
   ]
  },
  {
   "cell_type": "markdown",
   "id": "26ad501f",
   "metadata": {},
   "source": [
    "## load datasets\n",
    "* Getting the NASDAQ Symbols in [here](https://finance.yahoo.com/)\n",
    "* Date : '2015-01-01' to '2021-11-25'"
   ]
  },
  {
   "cell_type": "code",
   "execution_count": 32,
   "id": "149c03ba",
   "metadata": {},
   "outputs": [
    {
     "data": {
      "text/plain": [
       "(1739, 6)"
      ]
     },
     "execution_count": 32,
     "metadata": {},
     "output_type": "execute_result"
    },
    {
     "data": {
      "text/plain": [
       "(1739, 6)"
      ]
     },
     "execution_count": 32,
     "metadata": {},
     "output_type": "execute_result"
    },
    {
     "data": {
      "text/plain": [
       "(1738, 6)"
      ]
     },
     "execution_count": 32,
     "metadata": {},
     "output_type": "execute_result"
    },
    {
     "data": {
      "text/plain": [
       "(1739, 6)"
      ]
     },
     "execution_count": 32,
     "metadata": {},
     "output_type": "execute_result"
    },
    {
     "data": {
      "text/plain": [
       "(1739, 6)"
      ]
     },
     "execution_count": 32,
     "metadata": {},
     "output_type": "execute_result"
    },
    {
     "data": {
      "text/plain": [
       "(1739, 6)"
      ]
     },
     "execution_count": 32,
     "metadata": {},
     "output_type": "execute_result"
    },
    {
     "data": {
      "text/plain": [
       "(1738, 6)"
      ]
     },
     "execution_count": 32,
     "metadata": {},
     "output_type": "execute_result"
    },
    {
     "data": {
      "text/plain": [
       "(1738, 6)"
      ]
     },
     "execution_count": 32,
     "metadata": {},
     "output_type": "execute_result"
    },
    {
     "data": {
      "text/plain": [
       "(1738, 6)"
      ]
     },
     "execution_count": 32,
     "metadata": {},
     "output_type": "execute_result"
    },
    {
     "data": {
      "text/plain": [
       "(1738, 6)"
      ]
     },
     "execution_count": 32,
     "metadata": {},
     "output_type": "execute_result"
    }
   ],
   "source": [
    "NETFLIX_df = fdr.DataReader(\"NFLX\", '2015-01-01', '2021-11-25')\n",
    "AMAZON_df = fdr.DataReader(\"AMZN\", '2015-01-01', '2021-11-25')\n",
    "APPLE_DF = fdr.DataReader(\"AAPL\", '2015-01-01', '2021-11-25')\n",
    "MICROSOFT_df = fdr.DataReader(\"MSFT\", '2015-01-01', '2021-11-25')\n",
    "NVIDIA_df = fdr.DataReader(\"NVDA\", '2015-01-01', '2021-11-25')\n",
    "TESLA_dF = fdr.DataReader(\"TSLA\", '2015-01-01', '2021-11-25')\n",
    "AUTODESK_DF = fdr.DataReader(\"ADSK\", '2015-01-01', '2021-11-25')\n",
    "NIKE_DF = fdr.DataReader(\"NKE\", '2015-01-01', '2021-11-25')\n",
    "PFIZER_DF = fdr.DataReader(\"PFE\", '2015-01-01', '2021-11-25')\n",
    "DISNEY_DF = fdr.DataReader(\"DIS\", '2015-01-01', '2021-11-25')\n",
    "\n",
    "NETFLIX_df.shape\n",
    "AMAZON_df.shape\n",
    "APPLE_DF.shape\n",
    "MICROSOFT_df.shape\n",
    "NVIDIA_df.shape\n",
    "TESLA_dF.shape\n",
    "AUTODESK_DF.shape\n",
    "NIKE_DF.shape\n",
    "PFIZER_DF.shape\n",
    "DISNEY_DF.shape"
   ]
  },
  {
   "cell_type": "code",
   "execution_count": 33,
   "id": "ca62f489",
   "metadata": {},
   "outputs": [
    {
     "data": {
      "text/plain": [
       "(1739, 6)"
      ]
     },
     "execution_count": 33,
     "metadata": {},
     "output_type": "execute_result"
    },
    {
     "data": {
      "text/plain": [
       "(1739, 6)"
      ]
     },
     "execution_count": 33,
     "metadata": {},
     "output_type": "execute_result"
    },
    {
     "data": {
      "text/plain": [
       "(1739, 6)"
      ]
     },
     "execution_count": 33,
     "metadata": {},
     "output_type": "execute_result"
    },
    {
     "data": {
      "text/plain": [
       "(1739, 6)"
      ]
     },
     "execution_count": 33,
     "metadata": {},
     "output_type": "execute_result"
    },
    {
     "data": {
      "text/plain": [
       "(1739, 6)"
      ]
     },
     "execution_count": 33,
     "metadata": {},
     "output_type": "execute_result"
    }
   ],
   "source": [
    "# The shape is not the same because of several reasons.\n",
    "# For example, Suspended trading occurs because of serious concerns about a company's assets, \n",
    "# operations, or other financial information.\n",
    "# Or a Trading halt is implemented to correct an order imbalance,\n",
    "# Or If the provider omits a specific day's data, etc..\n",
    "# So we must match the shape because of the imbalance.\n",
    "\n",
    "# In this project, I'll take df1(NFLX) as a criteria.\n",
    "\n",
    "\n",
    "# using 'reindex' to make the same shape\n",
    "APPLE_df = APPLE_DF.reindex(NETFLIX_df.index)\n",
    "AUTODESK_df = AUTODESK_DF.reindex(NETFLIX_df.index)\n",
    "NIKE_df = NIKE_DF.reindex(NETFLIX_df.index)\n",
    "PFIZER_df = PFIZER_DF.reindex(NETFLIX_df.index)\n",
    "DISNEY_df = DISNEY_DF.reindex(NETFLIX_df.index)\n",
    "\n",
    "# Shape is the same.\n",
    "APPLE_df.shape\n",
    "AUTODESK_df.shape\n",
    "NIKE_df.shape\n",
    "PFIZER_df.shape\n",
    "DISNEY_df.shape\n",
    "\n",
    "# Fill the data \n",
    "# pandas.DataFrame.fillna : Fill NA/NaN values using the specified method.\n",
    "# \"ffill\" : forward fill\n",
    "APPLE_df.fillna(method=\"ffill\")\n",
    "AUTODESK_df.fillna(method=\"ffill\")\n",
    "NIKE_df.fillna(method=\"ffill\")\n",
    "PFIZER_df.fillna(method=\"ffill\")\n",
    "DISNEY_df.fillna(method=\"ffill\")\n"
   ]
  },
  {
   "cell_type": "code",
   "execution_count": null,
   "id": "45674a96",
   "metadata": {},
   "outputs": [],
   "source": []
  },
  {
   "cell_type": "code",
   "execution_count": null,
   "id": "5ba684d6",
   "metadata": {},
   "outputs": [],
   "source": []
  }
 ],
 "metadata": {
  "kernelspec": {
   "display_name": "Python 3 (ipykernel)",
   "language": "python",
   "name": "python3"
  },
  "language_info": {
   "codemirror_mode": {
    "name": "ipython",
    "version": 3
   },
   "file_extension": ".py",
   "mimetype": "text/x-python",
   "name": "python",
   "nbconvert_exporter": "python",
   "pygments_lexer": "ipython3",
   "version": "3.9.7"
  }
 },
 "nbformat": 4,
 "nbformat_minor": 5
}
