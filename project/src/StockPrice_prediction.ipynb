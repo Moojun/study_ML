{
 "cells": [
  {
   "cell_type": "code",
   "execution_count": 25,
   "id": "bd382282",
   "metadata": {},
   "outputs": [],
   "source": [
    "import pandas as pd\n",
    "import numpy as np\n",
    "import FinanceDataReader as fdr\n",
    "\n",
    "from sklearn.model_selection import train_test_split\n",
    "from sklearn.linear_model import LinearRegression\n",
    "from sklearn.metrics import mean_squared_error\n",
    "\n",
    "# To print multiple outputs in a cell\n",
    "from IPython.core.interactiveshell import InteractiveShell\n",
    "InteractiveShell.ast_node_interactivity = \"all\"\n",
    "\n",
    "# Display data to three deciaml places.\n",
    "pd.set_option('display.float_format', lambda x: '%.3f' % x)\n",
    "\n",
    "# To print all columns\n",
    "pd.set_option('max_columns', None)"
   ]
  },
  {
   "cell_type": "markdown",
   "id": "f604ccbb",
   "metadata": {},
   "source": [
    "## data used "
   ]
  },
  {
   "cell_type": "code",
   "execution_count": 26,
   "id": "bac09bbb",
   "metadata": {},
   "outputs": [
    {
     "data": {
      "text/html": [
       "<div>\n",
       "<style scoped>\n",
       "    .dataframe tbody tr th:only-of-type {\n",
       "        vertical-align: middle;\n",
       "    }\n",
       "\n",
       "    .dataframe tbody tr th {\n",
       "        vertical-align: top;\n",
       "    }\n",
       "\n",
       "    .dataframe thead th {\n",
       "        text-align: right;\n",
       "    }\n",
       "</style>\n",
       "<table border=\"1\" class=\"dataframe\">\n",
       "  <thead>\n",
       "    <tr style=\"text-align: right;\">\n",
       "      <th></th>\n",
       "      <th>stock_name</th>\n",
       "    </tr>\n",
       "  </thead>\n",
       "  <tbody>\n",
       "    <tr>\n",
       "      <th>1</th>\n",
       "      <td>NETFLIX</td>\n",
       "    </tr>\n",
       "    <tr>\n",
       "      <th>2</th>\n",
       "      <td>Amazon</td>\n",
       "    </tr>\n",
       "    <tr>\n",
       "      <th>3</th>\n",
       "      <td>Apple</td>\n",
       "    </tr>\n",
       "    <tr>\n",
       "      <th>4</th>\n",
       "      <td>Microsoft</td>\n",
       "    </tr>\n",
       "    <tr>\n",
       "      <th>5</th>\n",
       "      <td>NVIDIA</td>\n",
       "    </tr>\n",
       "    <tr>\n",
       "      <th>6</th>\n",
       "      <td>Tesla</td>\n",
       "    </tr>\n",
       "    <tr>\n",
       "      <th>7</th>\n",
       "      <td>Autodesk</td>\n",
       "    </tr>\n",
       "    <tr>\n",
       "      <th>8</th>\n",
       "      <td>NIKE</td>\n",
       "    </tr>\n",
       "    <tr>\n",
       "      <th>9</th>\n",
       "      <td>Pfizer</td>\n",
       "    </tr>\n",
       "    <tr>\n",
       "      <th>10</th>\n",
       "      <td>Disney</td>\n",
       "    </tr>\n",
       "  </tbody>\n",
       "</table>\n",
       "</div>"
      ],
      "text/plain": [
       "   stock_name\n",
       "1     NETFLIX\n",
       "2      Amazon\n",
       "3       Apple\n",
       "4   Microsoft\n",
       "5      NVIDIA\n",
       "6       Tesla\n",
       "7    Autodesk\n",
       "8        NIKE\n",
       "9      Pfizer\n",
       "10     Disney"
      ]
     },
     "execution_count": 26,
     "metadata": {},
     "output_type": "execute_result"
    }
   ],
   "source": [
    "code_stock_name = pd.Series(np.array(['NETFLIX', 'Amazon', 'Apple', 'Microsoft', 'NVIDIA', 'Tesla', \n",
    "                                     'Autodesk', 'NIKE', 'Pfizer', 'Disney']))\n",
    "use_stock = pd.DataFrame(\n",
    "    {\n",
    "        'stock_name': code_stock_name\n",
    "    }\n",
    ")\n",
    "use_stock.index = np.arange(1,len(use_stock) + 1) # start row index from 1 instead of zero. \n",
    "\n",
    "use_stock"
   ]
  },
  {
   "cell_type": "markdown",
   "id": "9fddb52b",
   "metadata": {},
   "source": [
    "## load datasets\n",
    "* Getting the NASDAQ Symbols in [here](https://finance.yahoo.com/)\n",
    "* Date : '2015-01-01' to '2021-11-25'"
   ]
  },
  {
   "cell_type": "code",
   "execution_count": 27,
   "id": "149c03ba",
   "metadata": {},
   "outputs": [
    {
     "data": {
      "text/html": [
       "<div>\n",
       "<style scoped>\n",
       "    .dataframe tbody tr th:only-of-type {\n",
       "        vertical-align: middle;\n",
       "    }\n",
       "\n",
       "    .dataframe tbody tr th {\n",
       "        vertical-align: top;\n",
       "    }\n",
       "\n",
       "    .dataframe thead th {\n",
       "        text-align: right;\n",
       "    }\n",
       "</style>\n",
       "<table border=\"1\" class=\"dataframe\">\n",
       "  <thead>\n",
       "    <tr style=\"text-align: right;\">\n",
       "      <th></th>\n",
       "      <th>Close</th>\n",
       "      <th>Open</th>\n",
       "      <th>High</th>\n",
       "      <th>Low</th>\n",
       "      <th>Volume</th>\n",
       "      <th>Change</th>\n",
       "    </tr>\n",
       "    <tr>\n",
       "      <th>Date</th>\n",
       "      <th></th>\n",
       "      <th></th>\n",
       "      <th></th>\n",
       "      <th></th>\n",
       "      <th></th>\n",
       "      <th></th>\n",
       "    </tr>\n",
       "  </thead>\n",
       "  <tbody>\n",
       "    <tr>\n",
       "      <th>2015-01-02</th>\n",
       "      <td>49.850</td>\n",
       "      <td>49.150</td>\n",
       "      <td>50.330</td>\n",
       "      <td>48.730</td>\n",
       "      <td>13470000.000</td>\n",
       "      <td>0.021</td>\n",
       "    </tr>\n",
       "    <tr>\n",
       "      <th>2015-01-05</th>\n",
       "      <td>47.310</td>\n",
       "      <td>49.260</td>\n",
       "      <td>49.260</td>\n",
       "      <td>47.150</td>\n",
       "      <td>18170000.000</td>\n",
       "      <td>-0.051</td>\n",
       "    </tr>\n",
       "    <tr>\n",
       "      <th>2015-01-06</th>\n",
       "      <td>46.500</td>\n",
       "      <td>47.350</td>\n",
       "      <td>47.640</td>\n",
       "      <td>45.660</td>\n",
       "      <td>16040000.000</td>\n",
       "      <td>-0.017</td>\n",
       "    </tr>\n",
       "    <tr>\n",
       "      <th>2015-01-07</th>\n",
       "      <td>46.740</td>\n",
       "      <td>47.350</td>\n",
       "      <td>47.420</td>\n",
       "      <td>46.270</td>\n",
       "      <td>9850000.000</td>\n",
       "      <td>0.005</td>\n",
       "    </tr>\n",
       "    <tr>\n",
       "      <th>2015-01-08</th>\n",
       "      <td>47.780</td>\n",
       "      <td>47.120</td>\n",
       "      <td>47.840</td>\n",
       "      <td>46.480</td>\n",
       "      <td>9620000.000</td>\n",
       "      <td>0.022</td>\n",
       "    </tr>\n",
       "    <tr>\n",
       "      <th>...</th>\n",
       "      <td>...</td>\n",
       "      <td>...</td>\n",
       "      <td>...</td>\n",
       "      <td>...</td>\n",
       "      <td>...</td>\n",
       "      <td>...</td>\n",
       "    </tr>\n",
       "    <tr>\n",
       "      <th>2021-11-18</th>\n",
       "      <td>682.020</td>\n",
       "      <td>691.610</td>\n",
       "      <td>691.740</td>\n",
       "      <td>679.730</td>\n",
       "      <td>2010000.000</td>\n",
       "      <td>-0.014</td>\n",
       "    </tr>\n",
       "    <tr>\n",
       "      <th>2021-11-19</th>\n",
       "      <td>678.800</td>\n",
       "      <td>692.350</td>\n",
       "      <td>694.160</td>\n",
       "      <td>675.000</td>\n",
       "      <td>2610000.000</td>\n",
       "      <td>-0.005</td>\n",
       "    </tr>\n",
       "    <tr>\n",
       "      <th>2021-11-22</th>\n",
       "      <td>659.200</td>\n",
       "      <td>676.020</td>\n",
       "      <td>679.480</td>\n",
       "      <td>656.470</td>\n",
       "      <td>2720000.000</td>\n",
       "      <td>-0.029</td>\n",
       "    </tr>\n",
       "    <tr>\n",
       "      <th>2021-11-23</th>\n",
       "      <td>654.060</td>\n",
       "      <td>658.180</td>\n",
       "      <td>666.430</td>\n",
       "      <td>646.050</td>\n",
       "      <td>2310000.000</td>\n",
       "      <td>-0.008</td>\n",
       "    </tr>\n",
       "    <tr>\n",
       "      <th>2021-11-24</th>\n",
       "      <td>658.290</td>\n",
       "      <td>658.010</td>\n",
       "      <td>661.440</td>\n",
       "      <td>651.100</td>\n",
       "      <td>1870000.000</td>\n",
       "      <td>0.007</td>\n",
       "    </tr>\n",
       "  </tbody>\n",
       "</table>\n",
       "<p>1739 rows × 6 columns</p>\n",
       "</div>"
      ],
      "text/plain": [
       "             Close    Open    High     Low       Volume  Change\n",
       "Date                                                           \n",
       "2015-01-02  49.850  49.150  50.330  48.730 13470000.000   0.021\n",
       "2015-01-05  47.310  49.260  49.260  47.150 18170000.000  -0.051\n",
       "2015-01-06  46.500  47.350  47.640  45.660 16040000.000  -0.017\n",
       "2015-01-07  46.740  47.350  47.420  46.270  9850000.000   0.005\n",
       "2015-01-08  47.780  47.120  47.840  46.480  9620000.000   0.022\n",
       "...            ...     ...     ...     ...          ...     ...\n",
       "2021-11-18 682.020 691.610 691.740 679.730  2010000.000  -0.014\n",
       "2021-11-19 678.800 692.350 694.160 675.000  2610000.000  -0.005\n",
       "2021-11-22 659.200 676.020 679.480 656.470  2720000.000  -0.029\n",
       "2021-11-23 654.060 658.180 666.430 646.050  2310000.000  -0.008\n",
       "2021-11-24 658.290 658.010 661.440 651.100  1870000.000   0.007\n",
       "\n",
       "[1739 rows x 6 columns]"
      ]
     },
     "execution_count": 27,
     "metadata": {},
     "output_type": "execute_result"
    },
    {
     "data": {
      "text/plain": [
       "(1739, 6)"
      ]
     },
     "execution_count": 27,
     "metadata": {},
     "output_type": "execute_result"
    }
   ],
   "source": [
    "NETFLIX_df = fdr.DataReader(\"NFLX\", '2015-01-01', '2021-11-25')\n",
    "NETFLIX_df\n",
    "\n",
    "# 전체 주석\n",
    "# AMAZON_df = fdr.DataReader(\"AMZN\", '2015-01-01', '2021-11-25')\n",
    "# APPLE_DF = fdr.DataReader(\"AAPL\", '2015-01-01', '2021-11-25')\n",
    "# MICROSOFT_df = fdr.DataReader(\"MSFT\", '2015-01-01', '2021-11-25')\n",
    "# NVIDIA_df = fdr.DataReader(\"NVDA\", '2015-01-01', '2021-11-25')\n",
    "# TESLA_df = fdr.DataReader(\"TSLA\", '2015-01-01', '2021-11-25')\n",
    "# AUTODESK_DF = fdr.DataReader(\"ADSK\", '2015-01-01', '2021-11-25')\n",
    "# NIKE_DF = fdr.DataReader(\"NKE\", '2015-01-01', '2021-11-25')\n",
    "# PFIZER_DF = fdr.DataReader(\"PFE\", '2015-01-01', '2021-11-25')\n",
    "# DISNEY_DF = fdr.DataReader(\"DIS\", '2015-01-01', '2021-11-25')\n",
    "\n",
    "# Check data's row and column numbers\n",
    "NETFLIX_df.shape\n",
    "\n",
    "# 전체 주석\n",
    "# AMAZON_df.shape\n",
    "# APPLE_DF.shape\n",
    "# MICROSOFT_df.shape\n",
    "# NVIDIA_df.shape\n",
    "# TESLA_dF.shape\n",
    "# AUTODESK_DF.shape\n",
    "# NIKE_DF.shape\n",
    "# PFIZER_DF.shape\n",
    "# DISNEY_DF.shape"
   ]
  },
  {
   "cell_type": "code",
   "execution_count": 28,
   "id": "ca62f489",
   "metadata": {},
   "outputs": [],
   "source": [
    "# The shape is not the same because of several reasons.\n",
    "# First, Suspended trading occurs because of serious concerns about a company's assets, \n",
    "# operations, or other financial information.\n",
    "# Second, a Trading halt is implemented to correct an order imbalance,\n",
    "# Third, If the provider omits a specific day's data\n",
    "# etc..\n",
    "# So we must match the shape because of the imbalance.\n",
    "\n",
    "# In this project, I'll take df1(NFLX) as a criteria.\n",
    "\n",
    "# 전체 주석\n",
    "# # using 'reindex' to make the same shape\n",
    "# APPLE_df = APPLE_DF.reindex(NETFLIX_df.index)\n",
    "# AUTODESK_df = AUTODESK_DF.reindex(NETFLIX_df.index)\n",
    "# NIKE_df = NIKE_DF.reindex(NETFLIX_df.index)\n",
    "# PFIZER_df = PFIZER_DF.reindex(NETFLIX_df.index)\n",
    "# DISNEY_df = DISNEY_DF.reindex(NETFLIX_df.index)\n",
    "\n",
    "# # Fill the data \n",
    "# # pandas.DataFrame.fillna : Fill NA/NaN values using the specified method.\n",
    "# # \"ffill\" : forward fill. Propagate last valid observation forward to next valid backfil\n",
    "# APPLE_df = APPLE_df.fillna(method=\"ffill\")\n",
    "# AUTODESK_df = AUTODESK_df.fillna(method=\"ffill\").head()\n",
    "# NIKE_df = NIKE_df.fillna(method=\"ffill\").head()\n",
    "# PFIZER_df = PFIZER_df.fillna(method=\"ffill\").head()\n",
    "# DISNEY_df = DISNEY_df.fillna(method=\"ffill\").head()\n",
    "# 여기까지"
   ]
  },
  {
   "cell_type": "markdown",
   "id": "f4ce3c6b",
   "metadata": {},
   "source": [
    "## Check if dataframe has null values"
   ]
  },
  {
   "cell_type": "code",
   "execution_count": 29,
   "id": "45674a96",
   "metadata": {},
   "outputs": [
    {
     "data": {
      "text/plain": [
       "False"
      ]
     },
     "execution_count": 29,
     "metadata": {},
     "output_type": "execute_result"
    }
   ],
   "source": [
    "NETFLIX_df.isnull().values.any()\n",
    "# AMAZON_df.isnull().values.any()\n",
    "# APPLE_df.isnull().values.any()\n",
    "# MICROSOFT_df.isnull().values.any()\n",
    "# NVIDIA_df.isnull().values.any()\n",
    "# TESLA_df.isnull().values.any()\n",
    "# AUTODESK_df.isnull().values.any()\n",
    "# NIKE_df.isnull().values.any()\n",
    "# PFIZER_df.isnull().values.any()\n",
    "# DISNEY_df.isnull().values.any()"
   ]
  },
  {
   "cell_type": "code",
   "execution_count": 30,
   "id": "015c565d",
   "metadata": {},
   "outputs": [
    {
     "data": {
      "text/plain": [
       "(1739,)"
      ]
     },
     "execution_count": 30,
     "metadata": {},
     "output_type": "execute_result"
    }
   ],
   "source": [
    "high_prices = NETFLIX_df['High'].values\n",
    "low_prices = NETFLIX_df['Low'].values\n",
    "mid_prices = (high_prices + low_prices) / 2\n",
    "\n",
    "mid_prices.shape"
   ]
  },
  {
   "cell_type": "code",
   "execution_count": 33,
   "id": "eb68cf41",
   "metadata": {},
   "outputs": [
    {
     "data": {
      "text/plain": [
       "(1391, 6)"
      ]
     },
     "execution_count": 33,
     "metadata": {},
     "output_type": "execute_result"
    },
    {
     "data": {
      "text/plain": [
       "(348, 6)"
      ]
     },
     "execution_count": 33,
     "metadata": {},
     "output_type": "execute_result"
    },
    {
     "data": {
      "text/plain": [
       "(1391,)"
      ]
     },
     "execution_count": 33,
     "metadata": {},
     "output_type": "execute_result"
    },
    {
     "data": {
      "text/plain": [
       "(348,)"
      ]
     },
     "execution_count": 33,
     "metadata": {},
     "output_type": "execute_result"
    }
   ],
   "source": [
    "x_train, x_test, y_train, y_test = train_test_split(NETFLIX_df, mid_prices, test_size = 0.2, random_state = 5)\n",
    "\n",
    "x_train.shape\n",
    "x_test.shape\n",
    "y_train.shape\n",
    "y_test.shape"
   ]
  },
  {
   "cell_type": "code",
   "execution_count": 32,
   "id": "834c40d2",
   "metadata": {},
   "outputs": [
    {
     "data": {
      "text/plain": [
       "LinearRegression()"
      ]
     },
     "execution_count": 32,
     "metadata": {},
     "output_type": "execute_result"
    },
    {
     "data": {
      "text/plain": [
       "1.0"
      ]
     },
     "execution_count": 32,
     "metadata": {},
     "output_type": "execute_result"
    }
   ],
   "source": [
    "model = LinearRegression()\n",
    "model.fit(x_train, y_train)\n",
    "\n",
    "score = model.score(x_test, y_test)\n",
    "score"
   ]
  },
  {
   "cell_type": "code",
   "execution_count": null,
   "id": "9576f7f2",
   "metadata": {},
   "outputs": [],
   "source": []
  }
 ],
 "metadata": {
  "kernelspec": {
   "display_name": "Python 3 (ipykernel)",
   "language": "python",
   "name": "python3"
  },
  "language_info": {
   "codemirror_mode": {
    "name": "ipython",
    "version": 3
   },
   "file_extension": ".py",
   "mimetype": "text/x-python",
   "name": "python",
   "nbconvert_exporter": "python",
   "pygments_lexer": "ipython3",
   "version": "3.9.7"
  }
 },
 "nbformat": 4,
 "nbformat_minor": 5
}
