{
 "cells": [
  {
   "cell_type": "markdown",
   "id": "bc1e7a0a",
   "metadata": {},
   "source": [
    "> Reference link: [basic use of linearRegression function in sklearn](https://hleecaster.com/ml-linear-regression-example/), [R-squared](https://www.ncbi.nlm.nih.gov/pmc/articles/PMC4678365/), [Regression analysis](http://www.sthda.com/english/articles/40-regression-analysis/164-interaction-effect-in-multiple-regression-essentials/)"
   ]
  },
  {
   "cell_type": "code",
   "execution_count": 1,
   "id": "f94bb602",
   "metadata": {},
   "outputs": [],
   "source": [
    "%matplotlib inline\n",
    "\n",
    "import numpy as np\n",
    "import pandas as pd\n",
    "\n",
    "import seaborn as sns\n",
    "import matplotlib.pyplot as plt\n",
    "\n",
    "pd.set_option(\"precision\", 2) # number precision for pandas\n",
    "# pd.set_option(\"display.max_rows\", 10)\n",
    "pd.set_option(\"display.float_format\", \"{:20,.2f}\".format) # display float values to two decimal places\n",
    "plt.style.use(\"seaborn\") # pretty matplotlib plots\n",
    "\n",
    "# To display print all the interactive output, not only the last result.\n",
    "from IPython.core.interactiveshell import InteractiveShell\n",
    "InteractiveShell.ast_node_interactivity = \"all\""
   ]
  },
  {
   "cell_type": "markdown",
   "id": "b1cce7d6",
   "metadata": {},
   "source": [
    "# 1 Data Selection and Filtering"
   ]
  },
  {
   "cell_type": "code",
   "execution_count": 2,
   "id": "548bf864",
   "metadata": {
    "scrolled": true
   },
   "outputs": [
    {
     "data": {
      "text/html": [
       "<div>\n",
       "<style scoped>\n",
       "    .dataframe tbody tr th:only-of-type {\n",
       "        vertical-align: middle;\n",
       "    }\n",
       "\n",
       "    .dataframe tbody tr th {\n",
       "        vertical-align: top;\n",
       "    }\n",
       "\n",
       "    .dataframe thead th {\n",
       "        text-align: right;\n",
       "    }\n",
       "</style>\n",
       "<table border=\"1\" class=\"dataframe\">\n",
       "  <thead>\n",
       "    <tr style=\"text-align: right;\">\n",
       "      <th></th>\n",
       "      <th>brand</th>\n",
       "      <th>model</th>\n",
       "      <th>processor_brand</th>\n",
       "      <th>processor_name</th>\n",
       "      <th>processor_gnrtn</th>\n",
       "      <th>ram_gb</th>\n",
       "      <th>ram_type</th>\n",
       "      <th>ssd</th>\n",
       "      <th>hdd</th>\n",
       "      <th>os</th>\n",
       "      <th>...</th>\n",
       "      <th>display_size</th>\n",
       "      <th>warranty</th>\n",
       "      <th>Touchscreen</th>\n",
       "      <th>msoffice</th>\n",
       "      <th>latest_price</th>\n",
       "      <th>old_price</th>\n",
       "      <th>discount</th>\n",
       "      <th>star_rating</th>\n",
       "      <th>ratings</th>\n",
       "      <th>reviews</th>\n",
       "    </tr>\n",
       "  </thead>\n",
       "  <tbody>\n",
       "    <tr>\n",
       "      <th>0</th>\n",
       "      <td>ASUS</td>\n",
       "      <td>Celeron</td>\n",
       "      <td>Intel</td>\n",
       "      <td>Celeron Dual</td>\n",
       "      <td>Missing</td>\n",
       "      <td>4</td>\n",
       "      <td>DDR4</td>\n",
       "      <td>0</td>\n",
       "      <td>1024</td>\n",
       "      <td>Windows</td>\n",
       "      <td>...</td>\n",
       "      <td>15.6</td>\n",
       "      <td>1</td>\n",
       "      <td>No</td>\n",
       "      <td>No</td>\n",
       "      <td>23990</td>\n",
       "      <td>26990</td>\n",
       "      <td>11</td>\n",
       "      <td>3.80</td>\n",
       "      <td>15279</td>\n",
       "      <td>1947</td>\n",
       "    </tr>\n",
       "    <tr>\n",
       "      <th>1</th>\n",
       "      <td>ASUS</td>\n",
       "      <td>VivoBook</td>\n",
       "      <td>Intel</td>\n",
       "      <td>Core i3</td>\n",
       "      <td>10th</td>\n",
       "      <td>8</td>\n",
       "      <td>DDR4</td>\n",
       "      <td>512</td>\n",
       "      <td>0</td>\n",
       "      <td>Windows</td>\n",
       "      <td>...</td>\n",
       "      <td>15.6</td>\n",
       "      <td>1</td>\n",
       "      <td>No</td>\n",
       "      <td>No</td>\n",
       "      <td>37990</td>\n",
       "      <td>50990</td>\n",
       "      <td>25</td>\n",
       "      <td>4.30</td>\n",
       "      <td>990</td>\n",
       "      <td>108</td>\n",
       "    </tr>\n",
       "    <tr>\n",
       "      <th>2</th>\n",
       "      <td>ASUS</td>\n",
       "      <td>Vivobook</td>\n",
       "      <td>Intel</td>\n",
       "      <td>Core i3</td>\n",
       "      <td>10th</td>\n",
       "      <td>8</td>\n",
       "      <td>DDR4</td>\n",
       "      <td>0</td>\n",
       "      <td>1024</td>\n",
       "      <td>Windows</td>\n",
       "      <td>...</td>\n",
       "      <td>14.1</td>\n",
       "      <td>1</td>\n",
       "      <td>No</td>\n",
       "      <td>No</td>\n",
       "      <td>32890</td>\n",
       "      <td>46990</td>\n",
       "      <td>30</td>\n",
       "      <td>3.90</td>\n",
       "      <td>28</td>\n",
       "      <td>4</td>\n",
       "    </tr>\n",
       "    <tr>\n",
       "      <th>3</th>\n",
       "      <td>HP</td>\n",
       "      <td>Core</td>\n",
       "      <td>Intel</td>\n",
       "      <td>Core i3</td>\n",
       "      <td>11th</td>\n",
       "      <td>8</td>\n",
       "      <td>DDR4</td>\n",
       "      <td>512</td>\n",
       "      <td>0</td>\n",
       "      <td>Windows</td>\n",
       "      <td>...</td>\n",
       "      <td>15.6</td>\n",
       "      <td>1</td>\n",
       "      <td>No</td>\n",
       "      <td>Yes</td>\n",
       "      <td>42990</td>\n",
       "      <td>57330</td>\n",
       "      <td>25</td>\n",
       "      <td>4.40</td>\n",
       "      <td>158</td>\n",
       "      <td>18</td>\n",
       "    </tr>\n",
       "    <tr>\n",
       "      <th>4</th>\n",
       "      <td>HP</td>\n",
       "      <td>Core</td>\n",
       "      <td>Intel</td>\n",
       "      <td>Core i5</td>\n",
       "      <td>11th</td>\n",
       "      <td>8</td>\n",
       "      <td>DDR4</td>\n",
       "      <td>512</td>\n",
       "      <td>0</td>\n",
       "      <td>Windows</td>\n",
       "      <td>...</td>\n",
       "      <td>15.6</td>\n",
       "      <td>0</td>\n",
       "      <td>No</td>\n",
       "      <td>No</td>\n",
       "      <td>54990</td>\n",
       "      <td>70171</td>\n",
       "      <td>21</td>\n",
       "      <td>4.20</td>\n",
       "      <td>116</td>\n",
       "      <td>15</td>\n",
       "    </tr>\n",
       "  </tbody>\n",
       "</table>\n",
       "<p>5 rows × 23 columns</p>\n",
       "</div>"
      ],
      "text/plain": [
       "  brand     model processor_brand processor_name processor_gnrtn ram_gb  \\\n",
       "0  ASUS   Celeron           Intel   Celeron Dual         Missing      4   \n",
       "1  ASUS  VivoBook           Intel        Core i3            10th      8   \n",
       "2  ASUS  Vivobook           Intel        Core i3            10th      8   \n",
       "3    HP      Core           Intel        Core i3            11th      8   \n",
       "4    HP      Core           Intel        Core i5            11th      8   \n",
       "\n",
       "  ram_type  ssd   hdd       os  ...  display_size  warranty Touchscreen  \\\n",
       "0     DDR4    0  1024  Windows  ...          15.6         1          No   \n",
       "1     DDR4  512     0  Windows  ...          15.6         1          No   \n",
       "2     DDR4    0  1024  Windows  ...          14.1         1          No   \n",
       "3     DDR4  512     0  Windows  ...          15.6         1          No   \n",
       "4     DDR4  512     0  Windows  ...          15.6         0          No   \n",
       "\n",
       "  msoffice  latest_price old_price discount          star_rating  ratings  \\\n",
       "0       No         23990     26990       11                 3.80    15279   \n",
       "1       No         37990     50990       25                 4.30      990   \n",
       "2       No         32890     46990       30                 3.90       28   \n",
       "3      Yes         42990     57330       25                 4.40      158   \n",
       "4       No         54990     70171       21                 4.20      116   \n",
       "\n",
       "   reviews  \n",
       "0     1947  \n",
       "1      108  \n",
       "2        4  \n",
       "3       18  \n",
       "4       15  \n",
       "\n",
       "[5 rows x 23 columns]"
      ]
     },
     "execution_count": 2,
     "metadata": {},
     "output_type": "execute_result"
    }
   ],
   "source": [
    "# load datasets\n",
    "\n",
    "Laptop_df = pd.read_csv(\"../datasets/2022_March_LaptopData_India.csv\")\n",
    "Laptop_df.head(5)"
   ]
  },
  {
   "cell_type": "markdown",
   "id": "429dcb1f",
   "metadata": {},
   "source": [
    "> [reference data link from kaggle](https://www.kaggle.com/datasets/kuchhbhi/2022-march-laptop-data?select=Cleaned_Laptop_data.csv)\n",
    "### Each column means\n",
    "Dataset has a total of 23 columns. But I didn't write columns that could be understood easily.\n",
    "* brand: Name of Manufacturer company\n",
    "* model: Model of laptop\n",
    "* processor_brand: The name of the processor brand\n",
    "* processor_gnrtn: Generation of processor\n",
    "* ram_gb: RAM capacity installed in laptop\n",
    "* ram_type: type of RAM\n",
    "* ssd: SSD capacity in GB\n",
    "* hhd: HDD capacity in GB\n",
    "* weight: thinNight, casual, heavy(gaming)\n",
    "* warranty: (measure: year)\n",
    "* msoffice: pre-installed or not\n",
    "* latest_price: (measure: INR), INR is the Indian Rupee, which is The Republic of India's official currency.\n",
    "* old_price: The actual price of the laptop, in INRs\n",
    "* discount: (measure: %)\n",
    "* star_rating: The evaluation score. It represents what the score is out of a total of 5.\n",
    "* ratings: The number of evaluations related to a star_rating column\n",
    "* reviews: The number of reviews written by the end-user"
   ]
  },
  {
   "cell_type": "markdown",
   "id": "d228b6d7",
   "metadata": {},
   "source": [
    "In this analysis, I'll predict the old_price(Actual price), not a latest_price."
   ]
  },
  {
   "cell_type": "code",
   "execution_count": 3,
   "id": "71559af2",
   "metadata": {},
   "outputs": [
    {
     "data": {
      "text/html": [
       "<div>\n",
       "<style scoped>\n",
       "    .dataframe tbody tr th:only-of-type {\n",
       "        vertical-align: middle;\n",
       "    }\n",
       "\n",
       "    .dataframe tbody tr th {\n",
       "        vertical-align: top;\n",
       "    }\n",
       "\n",
       "    .dataframe thead th {\n",
       "        text-align: right;\n",
       "    }\n",
       "</style>\n",
       "<table border=\"1\" class=\"dataframe\">\n",
       "  <thead>\n",
       "    <tr style=\"text-align: right;\">\n",
       "      <th></th>\n",
       "      <th>brand</th>\n",
       "      <th>model</th>\n",
       "      <th>processor_brand</th>\n",
       "      <th>processor_name</th>\n",
       "      <th>ram_gb</th>\n",
       "      <th>ssd</th>\n",
       "      <th>hdd</th>\n",
       "      <th>graphic_card_gb</th>\n",
       "      <th>weight</th>\n",
       "      <th>display_size</th>\n",
       "      <th>Touchscreen</th>\n",
       "      <th>msoffice</th>\n",
       "      <th>old_price</th>\n",
       "      <th>star_rating</th>\n",
       "      <th>ratings</th>\n",
       "      <th>reviews</th>\n",
       "    </tr>\n",
       "  </thead>\n",
       "  <tbody>\n",
       "    <tr>\n",
       "      <th>0</th>\n",
       "      <td>ASUS</td>\n",
       "      <td>Celeron</td>\n",
       "      <td>Intel</td>\n",
       "      <td>Celeron Dual</td>\n",
       "      <td>4</td>\n",
       "      <td>0</td>\n",
       "      <td>1024</td>\n",
       "      <td>0</td>\n",
       "      <td>Casual</td>\n",
       "      <td>15.6</td>\n",
       "      <td>No</td>\n",
       "      <td>No</td>\n",
       "      <td>26990</td>\n",
       "      <td>3.80</td>\n",
       "      <td>15279</td>\n",
       "      <td>1947</td>\n",
       "    </tr>\n",
       "    <tr>\n",
       "      <th>1</th>\n",
       "      <td>ASUS</td>\n",
       "      <td>VivoBook</td>\n",
       "      <td>Intel</td>\n",
       "      <td>Core i3</td>\n",
       "      <td>8</td>\n",
       "      <td>512</td>\n",
       "      <td>0</td>\n",
       "      <td>0</td>\n",
       "      <td>Casual</td>\n",
       "      <td>15.6</td>\n",
       "      <td>No</td>\n",
       "      <td>No</td>\n",
       "      <td>50990</td>\n",
       "      <td>4.30</td>\n",
       "      <td>990</td>\n",
       "      <td>108</td>\n",
       "    </tr>\n",
       "    <tr>\n",
       "      <th>2</th>\n",
       "      <td>ASUS</td>\n",
       "      <td>Vivobook</td>\n",
       "      <td>Intel</td>\n",
       "      <td>Core i3</td>\n",
       "      <td>8</td>\n",
       "      <td>0</td>\n",
       "      <td>1024</td>\n",
       "      <td>0</td>\n",
       "      <td>Casual</td>\n",
       "      <td>14.1</td>\n",
       "      <td>No</td>\n",
       "      <td>No</td>\n",
       "      <td>46990</td>\n",
       "      <td>3.90</td>\n",
       "      <td>28</td>\n",
       "      <td>4</td>\n",
       "    </tr>\n",
       "    <tr>\n",
       "      <th>3</th>\n",
       "      <td>HP</td>\n",
       "      <td>Core</td>\n",
       "      <td>Intel</td>\n",
       "      <td>Core i3</td>\n",
       "      <td>8</td>\n",
       "      <td>512</td>\n",
       "      <td>0</td>\n",
       "      <td>0</td>\n",
       "      <td>ThinNlight</td>\n",
       "      <td>15.6</td>\n",
       "      <td>No</td>\n",
       "      <td>Yes</td>\n",
       "      <td>57330</td>\n",
       "      <td>4.40</td>\n",
       "      <td>158</td>\n",
       "      <td>18</td>\n",
       "    </tr>\n",
       "    <tr>\n",
       "      <th>4</th>\n",
       "      <td>HP</td>\n",
       "      <td>Core</td>\n",
       "      <td>Intel</td>\n",
       "      <td>Core i5</td>\n",
       "      <td>8</td>\n",
       "      <td>512</td>\n",
       "      <td>0</td>\n",
       "      <td>0</td>\n",
       "      <td>ThinNlight</td>\n",
       "      <td>15.6</td>\n",
       "      <td>No</td>\n",
       "      <td>No</td>\n",
       "      <td>70171</td>\n",
       "      <td>4.20</td>\n",
       "      <td>116</td>\n",
       "      <td>15</td>\n",
       "    </tr>\n",
       "    <tr>\n",
       "      <th>...</th>\n",
       "      <td>...</td>\n",
       "      <td>...</td>\n",
       "      <td>...</td>\n",
       "      <td>...</td>\n",
       "      <td>...</td>\n",
       "      <td>...</td>\n",
       "      <td>...</td>\n",
       "      <td>...</td>\n",
       "      <td>...</td>\n",
       "      <td>...</td>\n",
       "      <td>...</td>\n",
       "      <td>...</td>\n",
       "      <td>...</td>\n",
       "      <td>...</td>\n",
       "      <td>...</td>\n",
       "      <td>...</td>\n",
       "    </tr>\n",
       "    <tr>\n",
       "      <th>95</th>\n",
       "      <td>APPLE</td>\n",
       "      <td>2020</td>\n",
       "      <td>Apple</td>\n",
       "      <td>M1 Processor</td>\n",
       "      <td>8</td>\n",
       "      <td>512</td>\n",
       "      <td>0</td>\n",
       "      <td>0</td>\n",
       "      <td>Casual</td>\n",
       "      <td>13.3</td>\n",
       "      <td>No</td>\n",
       "      <td>No</td>\n",
       "      <td>142900</td>\n",
       "      <td>4.60</td>\n",
       "      <td>399</td>\n",
       "      <td>45</td>\n",
       "    </tr>\n",
       "    <tr>\n",
       "      <th>96</th>\n",
       "      <td>ASUS</td>\n",
       "      <td>VivoBook</td>\n",
       "      <td>Intel</td>\n",
       "      <td>Core i3</td>\n",
       "      <td>8</td>\n",
       "      <td>256</td>\n",
       "      <td>0</td>\n",
       "      <td>0</td>\n",
       "      <td>Casual</td>\n",
       "      <td>15.6</td>\n",
       "      <td>No</td>\n",
       "      <td>No</td>\n",
       "      <td>58990</td>\n",
       "      <td>4.50</td>\n",
       "      <td>816</td>\n",
       "      <td>147</td>\n",
       "    </tr>\n",
       "    <tr>\n",
       "      <th>97</th>\n",
       "      <td>MSI</td>\n",
       "      <td>GF63</td>\n",
       "      <td>Intel</td>\n",
       "      <td>Core i5</td>\n",
       "      <td>8</td>\n",
       "      <td>512</td>\n",
       "      <td>0</td>\n",
       "      <td>4</td>\n",
       "      <td>Casual</td>\n",
       "      <td>15.6</td>\n",
       "      <td>No</td>\n",
       "      <td>No</td>\n",
       "      <td>83990</td>\n",
       "      <td>4.50</td>\n",
       "      <td>1597</td>\n",
       "      <td>228</td>\n",
       "    </tr>\n",
       "    <tr>\n",
       "      <th>98</th>\n",
       "      <td>MSI</td>\n",
       "      <td>Katana</td>\n",
       "      <td>Intel</td>\n",
       "      <td>i7</td>\n",
       "      <td>NaN</td>\n",
       "      <td>0</td>\n",
       "      <td>0</td>\n",
       "      <td>4</td>\n",
       "      <td>Casual</td>\n",
       "      <td>0</td>\n",
       "      <td>No</td>\n",
       "      <td>No</td>\n",
       "      <td>117990</td>\n",
       "      <td>4.50</td>\n",
       "      <td>218</td>\n",
       "      <td>27</td>\n",
       "    </tr>\n",
       "    <tr>\n",
       "      <th>99</th>\n",
       "      <td>ASUS</td>\n",
       "      <td>Zenbook</td>\n",
       "      <td>Intel</td>\n",
       "      <td>Core i7</td>\n",
       "      <td>16</td>\n",
       "      <td>1024</td>\n",
       "      <td>0</td>\n",
       "      <td>2</td>\n",
       "      <td>Casual</td>\n",
       "      <td>14</td>\n",
       "      <td>Yes</td>\n",
       "      <td>Yes</td>\n",
       "      <td>146990</td>\n",
       "      <td>0.00</td>\n",
       "      <td>0</td>\n",
       "      <td>0</td>\n",
       "    </tr>\n",
       "  </tbody>\n",
       "</table>\n",
       "<p>100 rows × 16 columns</p>\n",
       "</div>"
      ],
      "text/plain": [
       "    brand     model processor_brand processor_name ram_gb   ssd   hdd  \\\n",
       "0    ASUS   Celeron           Intel   Celeron Dual      4     0  1024   \n",
       "1    ASUS  VivoBook           Intel        Core i3      8   512     0   \n",
       "2    ASUS  Vivobook           Intel        Core i3      8     0  1024   \n",
       "3      HP      Core           Intel        Core i3      8   512     0   \n",
       "4      HP      Core           Intel        Core i5      8   512     0   \n",
       "..    ...       ...             ...            ...    ...   ...   ...   \n",
       "95  APPLE      2020           Apple   M1 Processor      8   512     0   \n",
       "96   ASUS  VivoBook           Intel        Core i3      8   256     0   \n",
       "97    MSI      GF63           Intel        Core i5      8   512     0   \n",
       "98    MSI    Katana           Intel             i7    NaN     0     0   \n",
       "99   ASUS   Zenbook           Intel        Core i7     16  1024     0   \n",
       "\n",
       "    graphic_card_gb      weight display_size Touchscreen msoffice  old_price  \\\n",
       "0                 0      Casual         15.6          No       No      26990   \n",
       "1                 0      Casual         15.6          No       No      50990   \n",
       "2                 0      Casual         14.1          No       No      46990   \n",
       "3                 0  ThinNlight         15.6          No      Yes      57330   \n",
       "4                 0  ThinNlight         15.6          No       No      70171   \n",
       "..              ...         ...          ...         ...      ...        ...   \n",
       "95                0      Casual         13.3          No       No     142900   \n",
       "96                0      Casual         15.6          No       No      58990   \n",
       "97                4      Casual         15.6          No       No      83990   \n",
       "98                4      Casual            0          No       No     117990   \n",
       "99                2      Casual           14         Yes      Yes     146990   \n",
       "\n",
       "            star_rating  ratings  reviews  \n",
       "0                  3.80    15279     1947  \n",
       "1                  4.30      990      108  \n",
       "2                  3.90       28        4  \n",
       "3                  4.40      158       18  \n",
       "4                  4.20      116       15  \n",
       "..                  ...      ...      ...  \n",
       "95                 4.60      399       45  \n",
       "96                 4.50      816      147  \n",
       "97                 4.50     1597      228  \n",
       "98                 4.50      218       27  \n",
       "99                 0.00        0        0  \n",
       "\n",
       "[100 rows x 16 columns]"
      ]
     },
     "execution_count": 3,
     "metadata": {},
     "output_type": "execute_result"
    }
   ],
   "source": [
    "# Remove several columns \n",
    "\n",
    "Laptop_df = Laptop_df.drop([\"processor_gnrtn\", \"ram_type\", \"os\", \"os_bit\", \"warranty\", \n",
    "                            \"latest_price\", \"discount\"], axis = 1, inplace = False)\n",
    "Laptop_df.head(100) # test"
   ]
  },
  {
   "cell_type": "code",
   "execution_count": 4,
   "id": "6b49cef3",
   "metadata": {},
   "outputs": [
    {
     "data": {
      "text/plain": [
       "0                     3.51\n",
       "1                     6.63\n",
       "2                     6.11\n",
       "3                     7.45\n",
       "4                     9.12\n",
       "              ...         \n",
       "891                   7.68\n",
       "892                   7.15\n",
       "893                   0.00\n",
       "894                   5.20\n",
       "895                   5.72\n",
       "Name: old_price, Length: 896, dtype: float64"
      ]
     },
     "execution_count": 4,
     "metadata": {},
     "output_type": "execute_result"
    }
   ],
   "source": [
    "# Exchange INR into dollars\n",
    "# In 2022, April 22th, 1 INR = 0.013 dollars\n",
    "\n",
    "# Exchange INR into dollars\n",
    "Laptop_df[\"old_price\"] = Laptop_df[\"old_price\"] * 0.013\n",
    "\n",
    "# Revise measure 1 dollar to 100 dollars because, \n",
    "# after doing Linear Regression, coefficient and intercept values are too high.\n",
    "Laptop_df[\"old_price\"] = Laptop_df[\"old_price\"] / 100\n",
    "Laptop_df[\"old_price\"]"
   ]
  },
  {
   "cell_type": "code",
   "execution_count": 5,
   "id": "bf29abc3",
   "metadata": {},
   "outputs": [
    {
     "data": {
      "text/html": [
       "<div>\n",
       "<style scoped>\n",
       "    .dataframe tbody tr th:only-of-type {\n",
       "        vertical-align: middle;\n",
       "    }\n",
       "\n",
       "    .dataframe tbody tr th {\n",
       "        vertical-align: top;\n",
       "    }\n",
       "\n",
       "    .dataframe thead th {\n",
       "        text-align: right;\n",
       "    }\n",
       "</style>\n",
       "<table border=\"1\" class=\"dataframe\">\n",
       "  <thead>\n",
       "    <tr style=\"text-align: right;\">\n",
       "      <th></th>\n",
       "      <th>brand</th>\n",
       "      <th>model</th>\n",
       "      <th>processor_brand</th>\n",
       "      <th>processor_name</th>\n",
       "      <th>RAM</th>\n",
       "      <th>SSD</th>\n",
       "      <th>HDD</th>\n",
       "      <th>Graphic_card</th>\n",
       "      <th>weight</th>\n",
       "      <th>display_size</th>\n",
       "      <th>Touchscreen</th>\n",
       "      <th>msoffice</th>\n",
       "      <th>Price</th>\n",
       "      <th>star_rating</th>\n",
       "      <th>ratings</th>\n",
       "      <th>reviews</th>\n",
       "    </tr>\n",
       "  </thead>\n",
       "  <tbody>\n",
       "    <tr>\n",
       "      <th>0</th>\n",
       "      <td>ASUS</td>\n",
       "      <td>Celeron</td>\n",
       "      <td>Intel</td>\n",
       "      <td>Celeron Dual</td>\n",
       "      <td>4</td>\n",
       "      <td>0</td>\n",
       "      <td>1024</td>\n",
       "      <td>0</td>\n",
       "      <td>Casual</td>\n",
       "      <td>15.6</td>\n",
       "      <td>No</td>\n",
       "      <td>No</td>\n",
       "      <td>3.51</td>\n",
       "      <td>3.80</td>\n",
       "      <td>15279</td>\n",
       "      <td>1947</td>\n",
       "    </tr>\n",
       "    <tr>\n",
       "      <th>1</th>\n",
       "      <td>ASUS</td>\n",
       "      <td>VivoBook</td>\n",
       "      <td>Intel</td>\n",
       "      <td>Core i3</td>\n",
       "      <td>8</td>\n",
       "      <td>512</td>\n",
       "      <td>0</td>\n",
       "      <td>0</td>\n",
       "      <td>Casual</td>\n",
       "      <td>15.6</td>\n",
       "      <td>No</td>\n",
       "      <td>No</td>\n",
       "      <td>6.63</td>\n",
       "      <td>4.30</td>\n",
       "      <td>990</td>\n",
       "      <td>108</td>\n",
       "    </tr>\n",
       "    <tr>\n",
       "      <th>2</th>\n",
       "      <td>ASUS</td>\n",
       "      <td>Vivobook</td>\n",
       "      <td>Intel</td>\n",
       "      <td>Core i3</td>\n",
       "      <td>8</td>\n",
       "      <td>0</td>\n",
       "      <td>1024</td>\n",
       "      <td>0</td>\n",
       "      <td>Casual</td>\n",
       "      <td>14.1</td>\n",
       "      <td>No</td>\n",
       "      <td>No</td>\n",
       "      <td>6.11</td>\n",
       "      <td>3.90</td>\n",
       "      <td>28</td>\n",
       "      <td>4</td>\n",
       "    </tr>\n",
       "    <tr>\n",
       "      <th>3</th>\n",
       "      <td>HP</td>\n",
       "      <td>Core</td>\n",
       "      <td>Intel</td>\n",
       "      <td>Core i3</td>\n",
       "      <td>8</td>\n",
       "      <td>512</td>\n",
       "      <td>0</td>\n",
       "      <td>0</td>\n",
       "      <td>ThinNlight</td>\n",
       "      <td>15.6</td>\n",
       "      <td>No</td>\n",
       "      <td>Yes</td>\n",
       "      <td>7.45</td>\n",
       "      <td>4.40</td>\n",
       "      <td>158</td>\n",
       "      <td>18</td>\n",
       "    </tr>\n",
       "    <tr>\n",
       "      <th>4</th>\n",
       "      <td>HP</td>\n",
       "      <td>Core</td>\n",
       "      <td>Intel</td>\n",
       "      <td>Core i5</td>\n",
       "      <td>8</td>\n",
       "      <td>512</td>\n",
       "      <td>0</td>\n",
       "      <td>0</td>\n",
       "      <td>ThinNlight</td>\n",
       "      <td>15.6</td>\n",
       "      <td>No</td>\n",
       "      <td>No</td>\n",
       "      <td>9.12</td>\n",
       "      <td>4.20</td>\n",
       "      <td>116</td>\n",
       "      <td>15</td>\n",
       "    </tr>\n",
       "  </tbody>\n",
       "</table>\n",
       "</div>"
      ],
      "text/plain": [
       "  brand     model processor_brand processor_name RAM  SSD   HDD  Graphic_card  \\\n",
       "0  ASUS   Celeron           Intel   Celeron Dual   4    0  1024             0   \n",
       "1  ASUS  VivoBook           Intel        Core i3   8  512     0             0   \n",
       "2  ASUS  Vivobook           Intel        Core i3   8    0  1024             0   \n",
       "3    HP      Core           Intel        Core i3   8  512     0             0   \n",
       "4    HP      Core           Intel        Core i5   8  512     0             0   \n",
       "\n",
       "       weight display_size Touchscreen msoffice                Price  \\\n",
       "0      Casual         15.6          No       No                 3.51   \n",
       "1      Casual         15.6          No       No                 6.63   \n",
       "2      Casual         14.1          No       No                 6.11   \n",
       "3  ThinNlight         15.6          No      Yes                 7.45   \n",
       "4  ThinNlight         15.6          No       No                 9.12   \n",
       "\n",
       "           star_rating  ratings  reviews  \n",
       "0                 3.80    15279     1947  \n",
       "1                 4.30      990      108  \n",
       "2                 3.90       28        4  \n",
       "3                 4.40      158       18  \n",
       "4                 4.20      116       15  "
      ]
     },
     "execution_count": 5,
     "metadata": {},
     "output_type": "execute_result"
    }
   ],
   "source": [
    "# Rename columns \n",
    "\n",
    "Laptop_df = Laptop_df.rename(columns = {\"ram_gb\" : \"RAM\", \"graphic_card_gb\": \"Graphic_card\",\n",
    "                                       \"old_price\" : \"Price\", \"ssd\" : \"SSD\", \"hdd\" : \"HDD\"}, \n",
    "                                         inplace = False)\n",
    "Laptop_df.head(5) # test"
   ]
  },
  {
   "cell_type": "code",
   "execution_count": 6,
   "id": "9188af8c",
   "metadata": {
    "scrolled": true
   },
   "outputs": [
    {
     "data": {
      "text/plain": [
       "Index(['brand', 'model', 'processor_brand', 'processor_name', 'RAM', 'SSD',\n",
       "       'HDD', 'Graphic_card', 'weight', 'display_size', 'Touchscreen',\n",
       "       'msoffice', 'Price', 'star_rating', 'ratings', 'reviews'],\n",
       "      dtype='object')"
      ]
     },
     "execution_count": 6,
     "metadata": {},
     "output_type": "execute_result"
    },
    {
     "data": {
      "text/html": [
       "<div>\n",
       "<style scoped>\n",
       "    .dataframe tbody tr th:only-of-type {\n",
       "        vertical-align: middle;\n",
       "    }\n",
       "\n",
       "    .dataframe tbody tr th {\n",
       "        vertical-align: top;\n",
       "    }\n",
       "\n",
       "    .dataframe thead th {\n",
       "        text-align: right;\n",
       "    }\n",
       "</style>\n",
       "<table border=\"1\" class=\"dataframe\">\n",
       "  <thead>\n",
       "    <tr style=\"text-align: right;\">\n",
       "      <th></th>\n",
       "      <th>brand</th>\n",
       "      <th>model</th>\n",
       "      <th>processor_brand</th>\n",
       "      <th>processor_name</th>\n",
       "      <th>Touchscreen</th>\n",
       "      <th>msoffice</th>\n",
       "      <th>weight</th>\n",
       "      <th>RAM</th>\n",
       "      <th>SSD</th>\n",
       "      <th>HDD</th>\n",
       "      <th>Graphic_card</th>\n",
       "      <th>display_size</th>\n",
       "      <th>star_rating</th>\n",
       "      <th>ratings</th>\n",
       "      <th>reviews</th>\n",
       "      <th>Price</th>\n",
       "    </tr>\n",
       "  </thead>\n",
       "  <tbody>\n",
       "    <tr>\n",
       "      <th>0</th>\n",
       "      <td>ASUS</td>\n",
       "      <td>Celeron</td>\n",
       "      <td>Intel</td>\n",
       "      <td>Celeron Dual</td>\n",
       "      <td>No</td>\n",
       "      <td>No</td>\n",
       "      <td>Casual</td>\n",
       "      <td>4</td>\n",
       "      <td>0</td>\n",
       "      <td>1024</td>\n",
       "      <td>0</td>\n",
       "      <td>15.6</td>\n",
       "      <td>3.80</td>\n",
       "      <td>15279</td>\n",
       "      <td>1947</td>\n",
       "      <td>3.51</td>\n",
       "    </tr>\n",
       "    <tr>\n",
       "      <th>1</th>\n",
       "      <td>ASUS</td>\n",
       "      <td>VivoBook</td>\n",
       "      <td>Intel</td>\n",
       "      <td>Core i3</td>\n",
       "      <td>No</td>\n",
       "      <td>No</td>\n",
       "      <td>Casual</td>\n",
       "      <td>8</td>\n",
       "      <td>512</td>\n",
       "      <td>0</td>\n",
       "      <td>0</td>\n",
       "      <td>15.6</td>\n",
       "      <td>4.30</td>\n",
       "      <td>990</td>\n",
       "      <td>108</td>\n",
       "      <td>6.63</td>\n",
       "    </tr>\n",
       "    <tr>\n",
       "      <th>2</th>\n",
       "      <td>ASUS</td>\n",
       "      <td>Vivobook</td>\n",
       "      <td>Intel</td>\n",
       "      <td>Core i3</td>\n",
       "      <td>No</td>\n",
       "      <td>No</td>\n",
       "      <td>Casual</td>\n",
       "      <td>8</td>\n",
       "      <td>0</td>\n",
       "      <td>1024</td>\n",
       "      <td>0</td>\n",
       "      <td>14.1</td>\n",
       "      <td>3.90</td>\n",
       "      <td>28</td>\n",
       "      <td>4</td>\n",
       "      <td>6.11</td>\n",
       "    </tr>\n",
       "  </tbody>\n",
       "</table>\n",
       "</div>"
      ],
      "text/plain": [
       "  brand     model processor_brand processor_name Touchscreen msoffice  weight  \\\n",
       "0  ASUS   Celeron           Intel   Celeron Dual          No       No  Casual   \n",
       "1  ASUS  VivoBook           Intel        Core i3          No       No  Casual   \n",
       "2  ASUS  Vivobook           Intel        Core i3          No       No  Casual   \n",
       "\n",
       "  RAM  SSD   HDD  Graphic_card display_size          star_rating  ratings  \\\n",
       "0   4    0  1024             0         15.6                 3.80    15279   \n",
       "1   8  512     0             0         15.6                 4.30      990   \n",
       "2   8    0  1024             0         14.1                 3.90       28   \n",
       "\n",
       "   reviews                Price  \n",
       "0     1947                 3.51  \n",
       "1      108                 6.63  \n",
       "2        4                 6.11  "
      ]
     },
     "execution_count": 6,
     "metadata": {},
     "output_type": "execute_result"
    }
   ],
   "source": [
    "# Reorder columns: Response(Actual price) go to farthest to the right\n",
    "\n",
    "Laptop_df.columns\n",
    "\n",
    "Laptop_df = Laptop_df[['brand', 'model', 'processor_brand', 'processor_name', 'Touchscreen',\n",
    "                       'msoffice', 'weight',  'RAM', 'SSD','HDD', 'Graphic_card','display_size', \n",
    "                        'star_rating', 'ratings', 'reviews', 'Price' ]]\n",
    "\n",
    "Laptop_df.head(3) # test"
   ]
  },
  {
   "cell_type": "code",
   "execution_count": 7,
   "id": "65686292",
   "metadata": {
    "scrolled": false
   },
   "outputs": [
    {
     "name": "stdout",
     "output_type": "stream",
     "text": [
      "<class 'pandas.core.frame.DataFrame'>\n",
      "RangeIndex: 896 entries, 0 to 895\n",
      "Data columns (total 16 columns):\n",
      " #   Column           Non-Null Count  Dtype  \n",
      "---  ------           --------------  -----  \n",
      " 0   brand            896 non-null    object \n",
      " 1   model            896 non-null    object \n",
      " 2   processor_brand  896 non-null    object \n",
      " 3   processor_name   895 non-null    object \n",
      " 4   Touchscreen      896 non-null    object \n",
      " 5   msoffice         896 non-null    object \n",
      " 6   weight           896 non-null    object \n",
      " 7   RAM              871 non-null    object \n",
      " 8   SSD              896 non-null    int64  \n",
      " 9   HDD              896 non-null    int64  \n",
      " 10  Graphic_card     896 non-null    int64  \n",
      " 11  display_size     896 non-null    object \n",
      " 12  star_rating      896 non-null    float64\n",
      " 13  ratings          896 non-null    int64  \n",
      " 14  reviews          896 non-null    int64  \n",
      " 15  Price            896 non-null    float64\n",
      "dtypes: float64(2), int64(5), object(9)\n",
      "memory usage: 112.1+ KB\n"
     ]
    },
    {
     "data": {
      "text/plain": [
       "brand               0\n",
       "model               0\n",
       "processor_brand     0\n",
       "processor_name      1\n",
       "Touchscreen         0\n",
       "msoffice            0\n",
       "weight              0\n",
       "RAM                25\n",
       "SSD                 0\n",
       "HDD                 0\n",
       "Graphic_card        0\n",
       "display_size        0\n",
       "star_rating         0\n",
       "ratings             0\n",
       "reviews             0\n",
       "Price               0\n",
       "dtype: int64"
      ]
     },
     "execution_count": 7,
     "metadata": {},
     "output_type": "execute_result"
    }
   ],
   "source": [
    "# See the number of NaN data\n",
    "\n",
    "Laptop_df.info()\n",
    "\n",
    "Laptop_df.isnull().sum()"
   ]
  },
  {
   "cell_type": "code",
   "execution_count": 8,
   "id": "b1c1a79c",
   "metadata": {},
   "outputs": [
    {
     "name": "stdout",
     "output_type": "stream",
     "text": [
      "Laptop_df.describe() : \n",
      "\n"
     ]
    },
    {
     "data": {
      "text/html": [
       "<div>\n",
       "<style scoped>\n",
       "    .dataframe tbody tr th:only-of-type {\n",
       "        vertical-align: middle;\n",
       "    }\n",
       "\n",
       "    .dataframe tbody tr th {\n",
       "        vertical-align: top;\n",
       "    }\n",
       "\n",
       "    .dataframe thead th {\n",
       "        text-align: right;\n",
       "    }\n",
       "</style>\n",
       "<table border=\"1\" class=\"dataframe\">\n",
       "  <thead>\n",
       "    <tr style=\"text-align: right;\">\n",
       "      <th></th>\n",
       "      <th>RAM</th>\n",
       "      <th>SSD</th>\n",
       "      <th>HDD</th>\n",
       "      <th>Graphic_card</th>\n",
       "      <th>display_size</th>\n",
       "      <th>star_rating</th>\n",
       "      <th>ratings</th>\n",
       "      <th>reviews</th>\n",
       "      <th>Price</th>\n",
       "    </tr>\n",
       "  </thead>\n",
       "  <tbody>\n",
       "    <tr>\n",
       "      <th>count</th>\n",
       "      <td>861.00</td>\n",
       "      <td>861.00</td>\n",
       "      <td>861.00</td>\n",
       "      <td>861.00</td>\n",
       "      <td>861.00</td>\n",
       "      <td>861.00</td>\n",
       "      <td>861.00</td>\n",
       "      <td>861.00</td>\n",
       "      <td>861.00</td>\n",
       "    </tr>\n",
       "    <tr>\n",
       "      <th>mean</th>\n",
       "      <td>10.14</td>\n",
       "      <td>449.15</td>\n",
       "      <td>198.62</td>\n",
       "      <td>1.12</td>\n",
       "      <td>14.25</td>\n",
       "      <td>2.95</td>\n",
       "      <td>356.60</td>\n",
       "      <td>44.17</td>\n",
       "      <td>11.38</td>\n",
       "    </tr>\n",
       "    <tr>\n",
       "      <th>std</th>\n",
       "      <td>4.85</td>\n",
       "      <td>310.53</td>\n",
       "      <td>407.37</td>\n",
       "      <td>2.00</td>\n",
       "      <td>2.88</td>\n",
       "      <td>1.97</td>\n",
       "      <td>1,103.71</td>\n",
       "      <td>133.88</td>\n",
       "      <td>7.08</td>\n",
       "    </tr>\n",
       "    <tr>\n",
       "      <th>min</th>\n",
       "      <td>4.00</td>\n",
       "      <td>0.00</td>\n",
       "      <td>0.00</td>\n",
       "      <td>0.00</td>\n",
       "      <td>0.00</td>\n",
       "      <td>0.00</td>\n",
       "      <td>0.00</td>\n",
       "      <td>0.00</td>\n",
       "      <td>0.00</td>\n",
       "    </tr>\n",
       "    <tr>\n",
       "      <th>25%</th>\n",
       "      <td>8.00</td>\n",
       "      <td>256.00</td>\n",
       "      <td>0.00</td>\n",
       "      <td>0.00</td>\n",
       "      <td>14.00</td>\n",
       "      <td>0.00</td>\n",
       "      <td>0.00</td>\n",
       "      <td>0.00</td>\n",
       "      <td>7.15</td>\n",
       "    </tr>\n",
       "    <tr>\n",
       "      <th>50%</th>\n",
       "      <td>8.00</td>\n",
       "      <td>512.00</td>\n",
       "      <td>0.00</td>\n",
       "      <td>0.00</td>\n",
       "      <td>14.96</td>\n",
       "      <td>4.10</td>\n",
       "      <td>18.00</td>\n",
       "      <td>3.00</td>\n",
       "      <td>10.05</td>\n",
       "    </tr>\n",
       "    <tr>\n",
       "      <th>75%</th>\n",
       "      <td>16.00</td>\n",
       "      <td>512.00</td>\n",
       "      <td>0.00</td>\n",
       "      <td>2.00</td>\n",
       "      <td>15.60</td>\n",
       "      <td>4.40</td>\n",
       "      <td>165.00</td>\n",
       "      <td>21.00</td>\n",
       "      <td>14.22</td>\n",
       "    </tr>\n",
       "    <tr>\n",
       "      <th>max</th>\n",
       "      <td>32.00</td>\n",
       "      <td>3,072.00</td>\n",
       "      <td>2,048.00</td>\n",
       "      <td>8.00</td>\n",
       "      <td>17.30</td>\n",
       "      <td>5.00</td>\n",
       "      <td>15,279.00</td>\n",
       "      <td>1,947.00</td>\n",
       "      <td>49.11</td>\n",
       "    </tr>\n",
       "  </tbody>\n",
       "</table>\n",
       "</div>"
      ],
      "text/plain": [
       "                       RAM                  SSD                  HDD  \\\n",
       "count               861.00               861.00               861.00   \n",
       "mean                 10.14               449.15               198.62   \n",
       "std                   4.85               310.53               407.37   \n",
       "min                   4.00                 0.00                 0.00   \n",
       "25%                   8.00               256.00                 0.00   \n",
       "50%                   8.00               512.00                 0.00   \n",
       "75%                  16.00               512.00                 0.00   \n",
       "max                  32.00             3,072.00             2,048.00   \n",
       "\n",
       "              Graphic_card         display_size          star_rating  \\\n",
       "count               861.00               861.00               861.00   \n",
       "mean                  1.12                14.25                 2.95   \n",
       "std                   2.00                 2.88                 1.97   \n",
       "min                   0.00                 0.00                 0.00   \n",
       "25%                   0.00                14.00                 0.00   \n",
       "50%                   0.00                14.96                 4.10   \n",
       "75%                   2.00                15.60                 4.40   \n",
       "max                   8.00                17.30                 5.00   \n",
       "\n",
       "                   ratings              reviews                Price  \n",
       "count               861.00               861.00               861.00  \n",
       "mean                356.60                44.17                11.38  \n",
       "std               1,103.71               133.88                 7.08  \n",
       "min                   0.00                 0.00                 0.00  \n",
       "25%                   0.00                 0.00                 7.15  \n",
       "50%                  18.00                 3.00                10.05  \n",
       "75%                 165.00                21.00                14.22  \n",
       "max              15,279.00             1,947.00                49.11  "
      ]
     },
     "execution_count": 8,
     "metadata": {},
     "output_type": "execute_result"
    }
   ],
   "source": [
    "# Remove data that is misplaced \n",
    "misplaced_data = np.array([444, 543, 684, 693, 712, 720, 771, 822, 848, 884]) \n",
    "misplaced_data -= 2\n",
    "Laptop_df = Laptop_df.drop(index = misplaced_data)\n",
    "\n",
    "\n",
    "# Laptop_df = Laptop_df.drop([\"Graphic_card\"], axis = 1, inplace = False)\n",
    "# Laptop_df = Laptop_df.replace(0, np.NaN)\n",
    "\n",
    "# Remove NaN values\n",
    "Laptop_df = Laptop_df.dropna(axis = 0, inplace = False)\n",
    "\n",
    "\n",
    "# Change column data type\n",
    "Laptop_df[\"RAM\"] = Laptop_df[\"RAM\"].astype(float)\n",
    "Laptop_df[\"display_size\"] = Laptop_df[\"display_size\"].astype(float)\n",
    "\n",
    "print(\"Laptop_df.describe() : \\n\")\n",
    "Laptop_df.describe()"
   ]
  },
  {
   "cell_type": "markdown",
   "id": "c8be997f",
   "metadata": {},
   "source": [
    "# 2. Regression model"
   ]
  },
  {
   "cell_type": "markdown",
   "id": "f1648160",
   "metadata": {},
   "source": [
    "## 2.1 Simple Linear Regression"
   ]
  },
  {
   "cell_type": "code",
   "execution_count": 9,
   "id": "1e5be3eb",
   "metadata": {
    "scrolled": false
   },
   "outputs": [
    {
     "data": {
      "text/plain": [
       "LinearRegression()"
      ]
     },
     "execution_count": 9,
     "metadata": {},
     "output_type": "execute_result"
    },
    {
     "name": "stdout",
     "output_type": "stream",
     "text": [
      "Predictor is \"RAM\"\n",
      "RAM intercept:  1.7042469826266036\n",
      "RAM coefficient:  [0.95403049]\n",
      "MSE : 28.645218601829793\n",
      "Ex. Var : 0.42732840410457973\n",
      "R2 : 0.42732840410457973\n",
      "\n"
     ]
    },
    {
     "data": {
      "text/plain": [
       "LinearRegression()"
      ]
     },
     "execution_count": 9,
     "metadata": {},
     "output_type": "execute_result"
    },
    {
     "name": "stdout",
     "output_type": "stream",
     "text": [
      "Predictor is \"SSD\"\n",
      "SSD intercept:  5.8091024059221175\n",
      "SSD coefficient:  [0.0123991]\n",
      "MSE : 35.21304005730456\n",
      "Ex. Var : 0.29602534628037935\n",
      "R2 : 0.29602534628037946\n",
      "\n"
     ]
    },
    {
     "data": {
      "text/plain": [
       "LinearRegression()"
      ]
     },
     "execution_count": 9,
     "metadata": {},
     "output_type": "execute_result"
    },
    {
     "name": "stdout",
     "output_type": "stream",
     "text": [
      "Predictor is \"HDD\"\n",
      "HDD intercept:  12.271932002909814\n",
      "HDD coefficient:  [-0.0044999]\n",
      "MSE : 46.66381922895907\n",
      "Ex. Var : 0.06710281391546524\n",
      "R2 : 0.06710281391546513\n",
      "\n"
     ]
    },
    {
     "data": {
      "text/plain": [
       "LinearRegression()"
      ]
     },
     "execution_count": 9,
     "metadata": {},
     "output_type": "execute_result"
    },
    {
     "name": "stdout",
     "output_type": "stream",
     "text": [
      "Predictor is \"Graphic_card\"\n",
      "Graphic_card intercept:  9.475386080725809\n",
      "Graphic_card coefficient:  [1.69948948]\n",
      "MSE : 38.53208139471006\n",
      "Ex. Var : 0.22967149065249937\n",
      "R2 : 0.22967149065249925\n",
      "\n"
     ]
    },
    {
     "data": {
      "text/plain": [
       "LinearRegression()"
      ]
     },
     "execution_count": 9,
     "metadata": {},
     "output_type": "execute_result"
    },
    {
     "name": "stdout",
     "output_type": "stream",
     "text": [
      "Predictor is \"display_size\"\n",
      "display_size intercept:  10.528384281793358\n",
      "display_size coefficient:  [0.05964319]\n",
      "MSE : 49.99094500350194\n",
      "Ex. Var : 0.0005873352404116572\n",
      "R2 : 0.0005873352404116572\n",
      "\n"
     ]
    },
    {
     "data": {
      "text/plain": [
       "LinearRegression()"
      ]
     },
     "execution_count": 9,
     "metadata": {},
     "output_type": "execute_result"
    },
    {
     "name": "stdout",
     "output_type": "stream",
     "text": [
      "Predictor is \"star_rating\"\n",
      "star_rating intercept:  12.264650562863885\n",
      "star_rating coefficient:  [-0.300031]\n",
      "MSE : 49.66973476953888\n",
      "Ex. Var : 0.007008929708181566\n",
      "R2 : 0.007008929708181566\n",
      "\n"
     ]
    },
    {
     "data": {
      "text/plain": [
       "LinearRegression()"
      ]
     },
     "execution_count": 9,
     "metadata": {},
     "output_type": "execute_result"
    },
    {
     "name": "stdout",
     "output_type": "stream",
     "text": [
      "Predictor is \"ratings\"\n",
      "ratings intercept:  11.70938259657741\n",
      "ratings coefficient:  [-0.00092876]\n",
      "MSE : 48.9707445544571\n",
      "Ex. Var : 0.02098305389100752\n",
      "R2 : 0.02098305389100752\n",
      "\n"
     ]
    },
    {
     "data": {
      "text/plain": [
       "LinearRegression()"
      ]
     },
     "execution_count": 9,
     "metadata": {},
     "output_type": "execute_result"
    },
    {
     "name": "stdout",
     "output_type": "stream",
     "text": [
      "Predictor is \"reviews\"\n",
      "reviews intercept:  11.735964562687114\n",
      "reviews coefficient:  [-0.00810019]\n",
      "MSE : 48.84560890842131\n",
      "Ex. Var : 0.02348474993720706\n",
      "R2 : 0.02348474993720706\n",
      "\n"
     ]
    }
   ],
   "source": [
    "from sklearn import linear_model\n",
    "from sklearn.metrics import mean_squared_error, explained_variance_score, r2_score\n",
    "# cf> accuracy_score is used in classification\n",
    "\n",
    "# Ordinary Least Squares(OLS) model with intercept\n",
    "# What is OLS? a type of linear least squares method for estimating the unknown parameters in a linear regression model(Wikipedia)\n",
    "\n",
    "OLS_sklearn = linear_model.LinearRegression(fit_intercept = True)\n",
    "\n",
    "Real_Number_Predictors = ['RAM', 'SSD', 'HDD', 'Graphic_card',\n",
    "                          'display_size', 'star_rating', 'ratings', 'reviews']\n",
    "\n",
    "# fitted OLS model (.values.reshape(-1, 1) is required for single predictor) \n",
    "for i in Real_Number_Predictors:\n",
    "    X_train = Laptop_df[i].values.reshape(-1, 1)\n",
    "    y_true = Laptop_df[\"Price\"]\n",
    "    OLS_sklearn.fit(X_train, y_true)\n",
    "    \n",
    "    y_pred = OLS_sklearn.predict(Laptop_df[i].values.reshape(-1, 1))\n",
    "    \n",
    "    OLS_sklearn_summary = {\"MSE\": mean_squared_error(y_true, y_pred),\n",
    "                          \"Ex. Var\": explained_variance_score(y_true, y_pred),\n",
    "                          \"R2\": r2_score(y_true, y_pred)}\n",
    "    \n",
    "    print('Predictor is \"%s\"' % i)\n",
    "    print(i, \"intercept: \", OLS_sklearn.intercept_)\n",
    "    print(i, \"coefficient: \", OLS_sklearn.coef_)\n",
    "    for k, v in OLS_sklearn_summary.items():\n",
    "        print(k, ':', v)\n",
    "    \n",
    "    print() # make it easier to distinguish\n"
   ]
  },
  {
   "cell_type": "markdown",
   "id": "c5cbd826",
   "metadata": {},
   "source": [
    "### Targets the top 3 predictors with high r2_score; RAM, ssd, Graphic_card"
   ]
  },
  {
   "cell_type": "markdown",
   "id": "19011113",
   "metadata": {},
   "source": [
    "### 1. RAM"
   ]
  },
  {
   "cell_type": "code",
   "execution_count": 10,
   "id": "e548b274",
   "metadata": {},
   "outputs": [
    {
     "data": {
      "text/html": [
       "<table class=\"simpletable\">\n",
       "<caption>OLS Regression Results</caption>\n",
       "<tr>\n",
       "  <th>Dep. Variable:</th>          <td>Price</td>      <th>  R-squared:         </th> <td>   0.427</td> \n",
       "</tr>\n",
       "<tr>\n",
       "  <th>Model:</th>                   <td>OLS</td>       <th>  Adj. R-squared:    </th> <td>   0.427</td> \n",
       "</tr>\n",
       "<tr>\n",
       "  <th>Method:</th>             <td>Least Squares</td>  <th>  F-statistic:       </th> <td>   641.0</td> \n",
       "</tr>\n",
       "<tr>\n",
       "  <th>Date:</th>             <td>Fri, 13 May 2022</td> <th>  Prob (F-statistic):</th> <td>4.36e-106</td>\n",
       "</tr>\n",
       "<tr>\n",
       "  <th>Time:</th>                 <td>10:02:55</td>     <th>  Log-Likelihood:    </th> <td> -2666.0</td> \n",
       "</tr>\n",
       "<tr>\n",
       "  <th>No. Observations:</th>      <td>   861</td>      <th>  AIC:               </th> <td>   5336.</td> \n",
       "</tr>\n",
       "<tr>\n",
       "  <th>Df Residuals:</th>          <td>   859</td>      <th>  BIC:               </th> <td>   5346.</td> \n",
       "</tr>\n",
       "<tr>\n",
       "  <th>Df Model:</th>              <td>     1</td>      <th>                     </th>     <td> </td>    \n",
       "</tr>\n",
       "<tr>\n",
       "  <th>Covariance Type:</th>      <td>nonrobust</td>    <th>                     </th>     <td> </td>    \n",
       "</tr>\n",
       "</table>\n",
       "<table class=\"simpletable\">\n",
       "<tr>\n",
       "    <td></td>       <th>coef</th>     <th>std err</th>      <th>t</th>      <th>P>|t|</th>  <th>[0.025</th>    <th>0.975]</th>  \n",
       "</tr>\n",
       "<tr>\n",
       "  <th>const</th> <td>    1.7042</td> <td>    0.423</td> <td>    4.024</td> <td> 0.000</td> <td>    0.873</td> <td>    2.535</td>\n",
       "</tr>\n",
       "<tr>\n",
       "  <th>RAM</th>   <td>    0.9540</td> <td>    0.038</td> <td>   25.318</td> <td> 0.000</td> <td>    0.880</td> <td>    1.028</td>\n",
       "</tr>\n",
       "</table>\n",
       "<table class=\"simpletable\">\n",
       "<tr>\n",
       "  <th>Omnibus:</th>       <td>138.843</td> <th>  Durbin-Watson:     </th> <td>   1.998</td>\n",
       "</tr>\n",
       "<tr>\n",
       "  <th>Prob(Omnibus):</th> <td> 0.000</td>  <th>  Jarque-Bera (JB):  </th> <td>1707.373</td>\n",
       "</tr>\n",
       "<tr>\n",
       "  <th>Skew:</th>          <td> 0.268</td>  <th>  Prob(JB):          </th> <td>    0.00</td>\n",
       "</tr>\n",
       "<tr>\n",
       "  <th>Kurtosis:</th>      <td> 9.878</td>  <th>  Cond. No.          </th> <td>    26.2</td>\n",
       "</tr>\n",
       "</table><br/><br/>Notes:<br/>[1] Standard Errors assume that the covariance matrix of the errors is correctly specified."
      ],
      "text/plain": [
       "<class 'statsmodels.iolib.summary.Summary'>\n",
       "\"\"\"\n",
       "                            OLS Regression Results                            \n",
       "==============================================================================\n",
       "Dep. Variable:                  Price   R-squared:                       0.427\n",
       "Model:                            OLS   Adj. R-squared:                  0.427\n",
       "Method:                 Least Squares   F-statistic:                     641.0\n",
       "Date:                Fri, 13 May 2022   Prob (F-statistic):          4.36e-106\n",
       "Time:                        10:02:55   Log-Likelihood:                -2666.0\n",
       "No. Observations:                 861   AIC:                             5336.\n",
       "Df Residuals:                     859   BIC:                             5346.\n",
       "Df Model:                           1                                         \n",
       "Covariance Type:            nonrobust                                         \n",
       "==============================================================================\n",
       "                 coef    std err          t      P>|t|      [0.025      0.975]\n",
       "------------------------------------------------------------------------------\n",
       "const          1.7042      0.423      4.024      0.000       0.873       2.535\n",
       "RAM            0.9540      0.038     25.318      0.000       0.880       1.028\n",
       "==============================================================================\n",
       "Omnibus:                      138.843   Durbin-Watson:                   1.998\n",
       "Prob(Omnibus):                  0.000   Jarque-Bera (JB):             1707.373\n",
       "Skew:                           0.268   Prob(JB):                         0.00\n",
       "Kurtosis:                       9.878   Cond. No.                         26.2\n",
       "==============================================================================\n",
       "\n",
       "Notes:\n",
       "[1] Standard Errors assume that the covariance matrix of the errors is correctly specified.\n",
       "\"\"\""
      ]
     },
     "execution_count": 10,
     "metadata": {},
     "output_type": "execute_result"
    }
   ],
   "source": [
    "# using statsmodels\n",
    "import statsmodels.api as sm\n",
    "\n",
    "# predictor & depentent var\n",
    "X_train = Laptop_df[\"RAM\"]\n",
    "y_true = Laptop_df[\"Price\"]\n",
    "\n",
    "# ols model with intercept added to predictor\n",
    "OLS_sm = sm.OLS(y_true, sm.add_constant(X_train))\n",
    "\n",
    "# fitted model and summary\n",
    "OLS_sm_results = OLS_sm.fit()\n",
    "OLS_sm_results.summary()"
   ]
  },
  {
   "cell_type": "code",
   "execution_count": 11,
   "id": "e7a22c82",
   "metadata": {
    "scrolled": false
   },
   "outputs": [
    {
     "data": {
      "text/plain": [
       "<AxesSubplot:xlabel='RAM', ylabel='Price'>"
      ]
     },
     "execution_count": 11,
     "metadata": {},
     "output_type": "execute_result"
    },
    {
     "data": {
      "image/png": "[encoded data removed]",
      "text/plain": [
       "<Figure size 576x396 with 1 Axes>"
      ]
     },
     "metadata": {},
     "output_type": "display_data"
    }
   ],
   "source": [
    "# Plot data and a linear regression model fit\n",
    "sns.regplot(x = \"RAM\", y = \"Price\", data = Laptop_df)"
   ]
  },
  {
   "cell_type": "markdown",
   "id": "671078ef",
   "metadata": {},
   "source": [
    "### 2. ssd"
   ]
  },
  {
   "cell_type": "code",
   "execution_count": 12,
   "id": "5d21dfbd",
   "metadata": {},
   "outputs": [
    {
     "data": {
      "text/html": [
       "<table class=\"simpletable\">\n",
       "<caption>OLS Regression Results</caption>\n",
       "<tr>\n",
       "  <th>Dep. Variable:</th>          <td>Price</td>      <th>  R-squared:         </th> <td>   0.296</td>\n",
       "</tr>\n",
       "<tr>\n",
       "  <th>Model:</th>                   <td>OLS</td>       <th>  Adj. R-squared:    </th> <td>   0.295</td>\n",
       "</tr>\n",
       "<tr>\n",
       "  <th>Method:</th>             <td>Least Squares</td>  <th>  F-statistic:       </th> <td>   361.2</td>\n",
       "</tr>\n",
       "<tr>\n",
       "  <th>Date:</th>             <td>Fri, 13 May 2022</td> <th>  Prob (F-statistic):</th> <td>1.67e-67</td>\n",
       "</tr>\n",
       "<tr>\n",
       "  <th>Time:</th>                 <td>10:02:56</td>     <th>  Log-Likelihood:    </th> <td> -2754.9</td>\n",
       "</tr>\n",
       "<tr>\n",
       "  <th>No. Observations:</th>      <td>   861</td>      <th>  AIC:               </th> <td>   5514.</td>\n",
       "</tr>\n",
       "<tr>\n",
       "  <th>Df Residuals:</th>          <td>   859</td>      <th>  BIC:               </th> <td>   5523.</td>\n",
       "</tr>\n",
       "<tr>\n",
       "  <th>Df Model:</th>              <td>     1</td>      <th>                     </th>     <td> </td>   \n",
       "</tr>\n",
       "<tr>\n",
       "  <th>Covariance Type:</th>      <td>nonrobust</td>    <th>                     </th>     <td> </td>   \n",
       "</tr>\n",
       "</table>\n",
       "<table class=\"simpletable\">\n",
       "<tr>\n",
       "    <td></td>       <th>coef</th>     <th>std err</th>      <th>t</th>      <th>P>|t|</th>  <th>[0.025</th>    <th>0.975]</th>  \n",
       "</tr>\n",
       "<tr>\n",
       "  <th>const</th> <td>    5.8091</td> <td>    0.356</td> <td>   16.310</td> <td> 0.000</td> <td>    5.110</td> <td>    6.508</td>\n",
       "</tr>\n",
       "<tr>\n",
       "  <th>SSD</th>   <td>    0.0124</td> <td>    0.001</td> <td>   19.006</td> <td> 0.000</td> <td>    0.011</td> <td>    0.014</td>\n",
       "</tr>\n",
       "</table>\n",
       "<table class=\"simpletable\">\n",
       "<tr>\n",
       "  <th>Omnibus:</th>       <td>281.827</td> <th>  Durbin-Watson:     </th> <td>   1.976</td>\n",
       "</tr>\n",
       "<tr>\n",
       "  <th>Prob(Omnibus):</th> <td> 0.000</td>  <th>  Jarque-Bera (JB):  </th> <td>5344.544</td>\n",
       "</tr>\n",
       "<tr>\n",
       "  <th>Skew:</th>          <td> 0.988</td>  <th>  Prob(JB):          </th> <td>    0.00</td>\n",
       "</tr>\n",
       "<tr>\n",
       "  <th>Kurtosis:</th>      <td>15.044</td>  <th>  Cond. No.          </th> <td>    960.</td>\n",
       "</tr>\n",
       "</table><br/><br/>Notes:<br/>[1] Standard Errors assume that the covariance matrix of the errors is correctly specified."
      ],
      "text/plain": [
       "<class 'statsmodels.iolib.summary.Summary'>\n",
       "\"\"\"\n",
       "                            OLS Regression Results                            \n",
       "==============================================================================\n",
       "Dep. Variable:                  Price   R-squared:                       0.296\n",
       "Model:                            OLS   Adj. R-squared:                  0.295\n",
       "Method:                 Least Squares   F-statistic:                     361.2\n",
       "Date:                Fri, 13 May 2022   Prob (F-statistic):           1.67e-67\n",
       "Time:                        10:02:56   Log-Likelihood:                -2754.9\n",
       "No. Observations:                 861   AIC:                             5514.\n",
       "Df Residuals:                     859   BIC:                             5523.\n",
       "Df Model:                           1                                         \n",
       "Covariance Type:            nonrobust                                         \n",
       "==============================================================================\n",
       "                 coef    std err          t      P>|t|      [0.025      0.975]\n",
       "------------------------------------------------------------------------------\n",
       "const          5.8091      0.356     16.310      0.000       5.110       6.508\n",
       "SSD            0.0124      0.001     19.006      0.000       0.011       0.014\n",
       "==============================================================================\n",
       "Omnibus:                      281.827   Durbin-Watson:                   1.976\n",
       "Prob(Omnibus):                  0.000   Jarque-Bera (JB):             5344.544\n",
       "Skew:                           0.988   Prob(JB):                         0.00\n",
       "Kurtosis:                      15.044   Cond. No.                         960.\n",
       "==============================================================================\n",
       "\n",
       "Notes:\n",
       "[1] Standard Errors assume that the covariance matrix of the errors is correctly specified.\n",
       "\"\"\""
      ]
     },
     "execution_count": 12,
     "metadata": {},
     "output_type": "execute_result"
    }
   ],
   "source": [
    "# using statsmodels\n",
    "import statsmodels.api as sm\n",
    "\n",
    "# predictor & depentent var\n",
    "X_train = Laptop_df[\"SSD\"]\n",
    "y_true = Laptop_df[\"Price\"]\n",
    "\n",
    "# ols model with intercept added to predictor\n",
    "OLS_sm = sm.OLS(y_true, sm.add_constant(X_train))\n",
    "\n",
    "# fitted model and summary\n",
    "OLS_sm_results = OLS_sm.fit()\n",
    "OLS_sm_results.summary()"
   ]
  },
  {
   "cell_type": "code",
   "execution_count": 13,
   "id": "6f8b3179",
   "metadata": {},
   "outputs": [
    {
     "data": {
      "text/plain": [
       "<AxesSubplot:xlabel='SSD', ylabel='Price'>"
      ]
     },
     "execution_count": 13,
     "metadata": {},
     "output_type": "execute_result"
    },
    {
     "data": {
      "image/png": "[encoded data removed]",
      "text/plain": [
       "<Figure size 576x396 with 1 Axes>"
      ]
     },
     "metadata": {},
     "output_type": "display_data"
    }
   ],
   "source": [
    "# Plot data and a linear regression model fit\n",
    "sns.regplot(x = \"SSD\", y = \"Price\", data = Laptop_df)"
   ]
  },
  {
   "cell_type": "markdown",
   "id": "52d3c8a8",
   "metadata": {},
   "source": [
    "### 3. Graphic_card"
   ]
  },
  {
   "cell_type": "code",
   "execution_count": 14,
   "id": "655dbbcc",
   "metadata": {},
   "outputs": [
    {
     "data": {
      "text/html": [
       "<table class=\"simpletable\">\n",
       "<caption>OLS Regression Results</caption>\n",
       "<tr>\n",
       "  <th>Dep. Variable:</th>          <td>Price</td>      <th>  R-squared:         </th> <td>   0.230</td>\n",
       "</tr>\n",
       "<tr>\n",
       "  <th>Model:</th>                   <td>OLS</td>       <th>  Adj. R-squared:    </th> <td>   0.229</td>\n",
       "</tr>\n",
       "<tr>\n",
       "  <th>Method:</th>             <td>Least Squares</td>  <th>  F-statistic:       </th> <td>   256.1</td>\n",
       "</tr>\n",
       "<tr>\n",
       "  <th>Date:</th>             <td>Fri, 13 May 2022</td> <th>  Prob (F-statistic):</th> <td>1.20e-50</td>\n",
       "</tr>\n",
       "<tr>\n",
       "  <th>Time:</th>                 <td>10:02:56</td>     <th>  Log-Likelihood:    </th> <td> -2793.7</td>\n",
       "</tr>\n",
       "<tr>\n",
       "  <th>No. Observations:</th>      <td>   861</td>      <th>  AIC:               </th> <td>   5591.</td>\n",
       "</tr>\n",
       "<tr>\n",
       "  <th>Df Residuals:</th>          <td>   859</td>      <th>  BIC:               </th> <td>   5601.</td>\n",
       "</tr>\n",
       "<tr>\n",
       "  <th>Df Model:</th>              <td>     1</td>      <th>                     </th>     <td> </td>   \n",
       "</tr>\n",
       "<tr>\n",
       "  <th>Covariance Type:</th>      <td>nonrobust</td>    <th>                     </th>     <td> </td>   \n",
       "</tr>\n",
       "</table>\n",
       "<table class=\"simpletable\">\n",
       "<tr>\n",
       "        <td></td>          <th>coef</th>     <th>std err</th>      <th>t</th>      <th>P>|t|</th>  <th>[0.025</th>    <th>0.975]</th>  \n",
       "</tr>\n",
       "<tr>\n",
       "  <th>const</th>        <td>    9.4754</td> <td>    0.243</td> <td>   39.012</td> <td> 0.000</td> <td>    8.999</td> <td>    9.952</td>\n",
       "</tr>\n",
       "<tr>\n",
       "  <th>Graphic_card</th> <td>    1.6995</td> <td>    0.106</td> <td>   16.003</td> <td> 0.000</td> <td>    1.491</td> <td>    1.908</td>\n",
       "</tr>\n",
       "</table>\n",
       "<table class=\"simpletable\">\n",
       "<tr>\n",
       "  <th>Omnibus:</th>       <td>219.071</td> <th>  Durbin-Watson:     </th> <td>   2.030</td> \n",
       "</tr>\n",
       "<tr>\n",
       "  <th>Prob(Omnibus):</th> <td> 0.000</td>  <th>  Jarque-Bera (JB):  </th> <td> 711.174</td> \n",
       "</tr>\n",
       "<tr>\n",
       "  <th>Skew:</th>          <td> 1.217</td>  <th>  Prob(JB):          </th> <td>3.72e-155</td>\n",
       "</tr>\n",
       "<tr>\n",
       "  <th>Kurtosis:</th>      <td> 6.728</td>  <th>  Cond. No.          </th> <td>    2.76</td> \n",
       "</tr>\n",
       "</table><br/><br/>Notes:<br/>[1] Standard Errors assume that the covariance matrix of the errors is correctly specified."
      ],
      "text/plain": [
       "<class 'statsmodels.iolib.summary.Summary'>\n",
       "\"\"\"\n",
       "                            OLS Regression Results                            \n",
       "==============================================================================\n",
       "Dep. Variable:                  Price   R-squared:                       0.230\n",
       "Model:                            OLS   Adj. R-squared:                  0.229\n",
       "Method:                 Least Squares   F-statistic:                     256.1\n",
       "Date:                Fri, 13 May 2022   Prob (F-statistic):           1.20e-50\n",
       "Time:                        10:02:56   Log-Likelihood:                -2793.7\n",
       "No. Observations:                 861   AIC:                             5591.\n",
       "Df Residuals:                     859   BIC:                             5601.\n",
       "Df Model:                           1                                         \n",
       "Covariance Type:            nonrobust                                         \n",
       "================================================================================\n",
       "                   coef    std err          t      P>|t|      [0.025      0.975]\n",
       "--------------------------------------------------------------------------------\n",
       "const            9.4754      0.243     39.012      0.000       8.999       9.952\n",
       "Graphic_card     1.6995      0.106     16.003      0.000       1.491       1.908\n",
       "==============================================================================\n",
       "Omnibus:                      219.071   Durbin-Watson:                   2.030\n",
       "Prob(Omnibus):                  0.000   Jarque-Bera (JB):              711.174\n",
       "Skew:                           1.217   Prob(JB):                    3.72e-155\n",
       "Kurtosis:                       6.728   Cond. No.                         2.76\n",
       "==============================================================================\n",
       "\n",
       "Notes:\n",
       "[1] Standard Errors assume that the covariance matrix of the errors is correctly specified.\n",
       "\"\"\""
      ]
     },
     "execution_count": 14,
     "metadata": {},
     "output_type": "execute_result"
    }
   ],
   "source": [
    "# using statsmodels\n",
    "import statsmodels.api as sm\n",
    "\n",
    "# predictor & depentent var\n",
    "X_train = Laptop_df[\"Graphic_card\"]\n",
    "y_true = Laptop_df[\"Price\"]\n",
    "\n",
    "# ols model with intercept added to predictor\n",
    "OLS_sm = sm.OLS(y_true, sm.add_constant(X_train))\n",
    "\n",
    "# fitted model and summary\n",
    "OLS_sm_results = OLS_sm.fit()\n",
    "OLS_sm_results.summary()"
   ]
  },
  {
   "cell_type": "code",
   "execution_count": 15,
   "id": "db3c719f",
   "metadata": {},
   "outputs": [
    {
     "data": {
      "text/plain": [
       "<AxesSubplot:xlabel='Graphic_card', ylabel='Price'>"
      ]
     },
     "execution_count": 15,
     "metadata": {},
     "output_type": "execute_result"
    },
    {
     "data": {
      "image/png": "[encoded data removed]",
      "text/plain": [
       "<Figure size 576x396 with 1 Axes>"
      ]
     },
     "metadata": {},
     "output_type": "display_data"
    }
   ],
   "source": [
    "# Plot data and a linear regression model fit\n",
    "sns.regplot(x = \"Graphic_card\", y = \"Price\", data = Laptop_df, order = 1)"
   ]
  },
  {
   "cell_type": "markdown",
   "id": "66ca5140",
   "metadata": {},
   "source": [
    "Looking at the graph, the Simple Linear model is not suitable here. Also, The RAM's r2_score is less than 0.5, it is a low value. "
   ]
  },
  {
   "cell_type": "markdown",
   "id": "ae252653",
   "metadata": {},
   "source": [
    "## 2.2 Multiple Linear Regression\n",
    "### 1] Use Quantitative Predictors"
   ]
  },
  {
   "cell_type": "markdown",
   "id": "cac82310",
   "metadata": {},
   "source": [
    "Among predictors, I think the SSD and HDD are highly correlated because both are measures of memory, And Other features may also be correlated with each other. So I used a multiple linear regression model to see correlations of the several input. "
   ]
  },
  {
   "cell_type": "markdown",
   "id": "07022873",
   "metadata": {},
   "source": [
    "#### 1. SSD, HDD\n",
    "* Include interaction"
   ]
  },
  {
   "cell_type": "code",
   "execution_count": 16,
   "id": "5aa438e8",
   "metadata": {
    "scrolled": false
   },
   "outputs": [
    {
     "data": {
      "text/html": [
       "<table class=\"simpletable\">\n",
       "<caption>OLS Regression Results</caption>\n",
       "<tr>\n",
       "  <th>Dep. Variable:</th>          <td>Price</td>      <th>  R-squared:         </th> <td>   0.298</td>\n",
       "</tr>\n",
       "<tr>\n",
       "  <th>Model:</th>                   <td>OLS</td>       <th>  Adj. R-squared:    </th> <td>   0.296</td>\n",
       "</tr>\n",
       "<tr>\n",
       "  <th>Method:</th>             <td>Least Squares</td>  <th>  F-statistic:       </th> <td>   121.4</td>\n",
       "</tr>\n",
       "<tr>\n",
       "  <th>Date:</th>             <td>Fri, 13 May 2022</td> <th>  Prob (F-statistic):</th> <td>1.53e-65</td>\n",
       "</tr>\n",
       "<tr>\n",
       "  <th>Time:</th>                 <td>10:02:56</td>     <th>  Log-Likelihood:    </th> <td> -2753.5</td>\n",
       "</tr>\n",
       "<tr>\n",
       "  <th>No. Observations:</th>      <td>   861</td>      <th>  AIC:               </th> <td>   5515.</td>\n",
       "</tr>\n",
       "<tr>\n",
       "  <th>Df Residuals:</th>          <td>   857</td>      <th>  BIC:               </th> <td>   5534.</td>\n",
       "</tr>\n",
       "<tr>\n",
       "  <th>Df Model:</th>              <td>     3</td>      <th>                     </th>     <td> </td>   \n",
       "</tr>\n",
       "<tr>\n",
       "  <th>Covariance Type:</th>      <td>nonrobust</td>    <th>                     </th>     <td> </td>   \n",
       "</tr>\n",
       "</table>\n",
       "<table class=\"simpletable\">\n",
       "<tr>\n",
       "      <td></td>         <th>coef</th>     <th>std err</th>      <th>t</th>      <th>P>|t|</th>  <th>[0.025</th>    <th>0.975]</th>  \n",
       "</tr>\n",
       "<tr>\n",
       "  <th>Intercept</th> <td>    5.7256</td> <td>    0.466</td> <td>   12.279</td> <td> 0.000</td> <td>    4.810</td> <td>    6.641</td>\n",
       "</tr>\n",
       "<tr>\n",
       "  <th>SSD</th>       <td>    0.0124</td> <td>    0.001</td> <td>   16.005</td> <td> 0.000</td> <td>    0.011</td> <td>    0.014</td>\n",
       "</tr>\n",
       "<tr>\n",
       "  <th>HDD</th>       <td>   -0.0003</td> <td>    0.001</td> <td>   -0.366</td> <td> 0.714</td> <td>   -0.002</td> <td>    0.001</td>\n",
       "</tr>\n",
       "<tr>\n",
       "  <th>SSD:HDD</th>   <td> 4.953e-06</td> <td> 3.32e-06</td> <td>    1.490</td> <td> 0.137</td> <td>-1.57e-06</td> <td> 1.15e-05</td>\n",
       "</tr>\n",
       "</table>\n",
       "<table class=\"simpletable\">\n",
       "<tr>\n",
       "  <th>Omnibus:</th>       <td>286.207</td> <th>  Durbin-Watson:     </th> <td>   1.981</td>\n",
       "</tr>\n",
       "<tr>\n",
       "  <th>Prob(Omnibus):</th> <td> 0.000</td>  <th>  Jarque-Bera (JB):  </th> <td>5497.202</td>\n",
       "</tr>\n",
       "<tr>\n",
       "  <th>Skew:</th>          <td> 1.008</td>  <th>  Prob(JB):          </th> <td>    0.00</td>\n",
       "</tr>\n",
       "<tr>\n",
       "  <th>Kurtosis:</th>      <td>15.213</td>  <th>  Cond. No.          </th> <td>1.92e+05</td>\n",
       "</tr>\n",
       "</table><br/><br/>Notes:<br/>[1] Standard Errors assume that the covariance matrix of the errors is correctly specified.<br/>[2] The condition number is large, 1.92e+05. This might indicate that there are<br/>strong multicollinearity or other numerical problems."
      ],
      "text/plain": [
       "<class 'statsmodels.iolib.summary.Summary'>\n",
       "\"\"\"\n",
       "                            OLS Regression Results                            \n",
       "==============================================================================\n",
       "Dep. Variable:                  Price   R-squared:                       0.298\n",
       "Model:                            OLS   Adj. R-squared:                  0.296\n",
       "Method:                 Least Squares   F-statistic:                     121.4\n",
       "Date:                Fri, 13 May 2022   Prob (F-statistic):           1.53e-65\n",
       "Time:                        10:02:56   Log-Likelihood:                -2753.5\n",
       "No. Observations:                 861   AIC:                             5515.\n",
       "Df Residuals:                     857   BIC:                             5534.\n",
       "Df Model:                           3                                         \n",
       "Covariance Type:            nonrobust                                         \n",
       "==============================================================================\n",
       "                 coef    std err          t      P>|t|      [0.025      0.975]\n",
       "------------------------------------------------------------------------------\n",
       "Intercept      5.7256      0.466     12.279      0.000       4.810       6.641\n",
       "SSD            0.0124      0.001     16.005      0.000       0.011       0.014\n",
       "HDD           -0.0003      0.001     -0.366      0.714      -0.002       0.001\n",
       "SSD:HDD     4.953e-06   3.32e-06      1.490      0.137   -1.57e-06    1.15e-05\n",
       "==============================================================================\n",
       "Omnibus:                      286.207   Durbin-Watson:                   1.981\n",
       "Prob(Omnibus):                  0.000   Jarque-Bera (JB):             5497.202\n",
       "Skew:                           1.008   Prob(JB):                         0.00\n",
       "Kurtosis:                      15.213   Cond. No.                     1.92e+05\n",
       "==============================================================================\n",
       "\n",
       "Notes:\n",
       "[1] Standard Errors assume that the covariance matrix of the errors is correctly specified.\n",
       "[2] The condition number is large, 1.92e+05. This might indicate that there are\n",
       "strong multicollinearity or other numerical problems.\n",
       "\"\"\""
      ]
     },
     "execution_count": 16,
     "metadata": {},
     "output_type": "execute_result"
    }
   ],
   "source": [
    "import statsmodels.formula.api as smf\n",
    "\n",
    "# OLS model with intercept\n",
    "OLS_smf_1 = smf.ols(formula = \"Price ~ SSD * HDD\", data = Laptop_df)\n",
    "\n",
    "OLS_smf_1_results = OLS_smf_1.fit()\n",
    "OLS_smf_1_results.summary()"
   ]
  },
  {
   "cell_type": "markdown",
   "id": "8f978fe4",
   "metadata": {},
   "source": [
    "* According to the table, p-values of both SSD and interaction between SSD and HDD are significant. That is, when they are considered separately, it seems that each of them positively affects Price.\n",
    "* The p-value of the HDD is too high, so HDD isn't necessarily. But, because of the ***hierarchy principle***, we should also include the HHD.\n",
    "* The R-squared value is too low, so the datas doesn't fit well in the regression model.\n",
    "* In the graph, it is difficult to analyze the Multiple Linear Regression.\n",
    "\n",
    "<br>\n",
    "\n",
    "cf> hierarchy principle: If we include an interaction in a model, we should also include the main effects, even if the p-values associated with their coefficients are not significant."
   ]
  },
  {
   "cell_type": "markdown",
   "id": "a4650d4d",
   "metadata": {},
   "source": [
    "#### 1.1. SSD, HDD\n",
    "* not include interaction"
   ]
  },
  {
   "cell_type": "code",
   "execution_count": 17,
   "id": "89cb9bf7",
   "metadata": {},
   "outputs": [
    {
     "data": {
      "text/html": [
       "<table class=\"simpletable\">\n",
       "<caption>OLS Regression Results</caption>\n",
       "<tr>\n",
       "  <th>Dep. Variable:</th>          <td>Price</td>      <th>  R-squared:         </th> <td>   0.296</td>\n",
       "</tr>\n",
       "<tr>\n",
       "  <th>Model:</th>                   <td>OLS</td>       <th>  Adj. R-squared:    </th> <td>   0.295</td>\n",
       "</tr>\n",
       "<tr>\n",
       "  <th>Method:</th>             <td>Least Squares</td>  <th>  F-statistic:       </th> <td>   180.8</td>\n",
       "</tr>\n",
       "<tr>\n",
       "  <th>Date:</th>             <td>Fri, 13 May 2022</td> <th>  Prob (F-statistic):</th> <td>3.04e-66</td>\n",
       "</tr>\n",
       "<tr>\n",
       "  <th>Time:</th>                 <td>10:02:56</td>     <th>  Log-Likelihood:    </th> <td> -2754.6</td>\n",
       "</tr>\n",
       "<tr>\n",
       "  <th>No. Observations:</th>      <td>   861</td>      <th>  AIC:               </th> <td>   5515.</td>\n",
       "</tr>\n",
       "<tr>\n",
       "  <th>Df Residuals:</th>          <td>   858</td>      <th>  BIC:               </th> <td>   5530.</td>\n",
       "</tr>\n",
       "<tr>\n",
       "  <th>Df Model:</th>              <td>     2</td>      <th>                     </th>     <td> </td>   \n",
       "</tr>\n",
       "<tr>\n",
       "  <th>Covariance Type:</th>      <td>nonrobust</td>    <th>                     </th>     <td> </td>   \n",
       "</tr>\n",
       "</table>\n",
       "<table class=\"simpletable\">\n",
       "<tr>\n",
       "      <td></td>         <th>coef</th>     <th>std err</th>      <th>t</th>      <th>P>|t|</th>  <th>[0.025</th>    <th>0.975]</th>  \n",
       "</tr>\n",
       "<tr>\n",
       "  <th>Intercept</th> <td>    5.5955</td> <td>    0.458</td> <td>   12.207</td> <td> 0.000</td> <td>    4.696</td> <td>    6.495</td>\n",
       "</tr>\n",
       "<tr>\n",
       "  <th>SSD</th>       <td>    0.0127</td> <td>    0.001</td> <td>   16.725</td> <td> 0.000</td> <td>    0.011</td> <td>    0.014</td>\n",
       "</tr>\n",
       "<tr>\n",
       "  <th>HDD</th>       <td>    0.0004</td> <td>    0.001</td> <td>    0.740</td> <td> 0.459</td> <td>   -0.001</td> <td>    0.002</td>\n",
       "</tr>\n",
       "</table>\n",
       "<table class=\"simpletable\">\n",
       "<tr>\n",
       "  <th>Omnibus:</th>       <td>281.756</td> <th>  Durbin-Watson:     </th> <td>   1.977</td>\n",
       "</tr>\n",
       "<tr>\n",
       "  <th>Prob(Omnibus):</th> <td> 0.000</td>  <th>  Jarque-Bera (JB):  </th> <td>5659.307</td>\n",
       "</tr>\n",
       "<tr>\n",
       "  <th>Skew:</th>          <td> 0.970</td>  <th>  Prob(JB):          </th> <td>    0.00</td>\n",
       "</tr>\n",
       "<tr>\n",
       "  <th>Kurtosis:</th>      <td>15.409</td>  <th>  Cond. No.          </th> <td>1.25e+03</td>\n",
       "</tr>\n",
       "</table><br/><br/>Notes:<br/>[1] Standard Errors assume that the covariance matrix of the errors is correctly specified.<br/>[2] The condition number is large, 1.25e+03. This might indicate that there are<br/>strong multicollinearity or other numerical problems."
      ],
      "text/plain": [
       "<class 'statsmodels.iolib.summary.Summary'>\n",
       "\"\"\"\n",
       "                            OLS Regression Results                            \n",
       "==============================================================================\n",
       "Dep. Variable:                  Price   R-squared:                       0.296\n",
       "Model:                            OLS   Adj. R-squared:                  0.295\n",
       "Method:                 Least Squares   F-statistic:                     180.8\n",
       "Date:                Fri, 13 May 2022   Prob (F-statistic):           3.04e-66\n",
       "Time:                        10:02:56   Log-Likelihood:                -2754.6\n",
       "No. Observations:                 861   AIC:                             5515.\n",
       "Df Residuals:                     858   BIC:                             5530.\n",
       "Df Model:                           2                                         \n",
       "Covariance Type:            nonrobust                                         \n",
       "==============================================================================\n",
       "                 coef    std err          t      P>|t|      [0.025      0.975]\n",
       "------------------------------------------------------------------------------\n",
       "Intercept      5.5955      0.458     12.207      0.000       4.696       6.495\n",
       "SSD            0.0127      0.001     16.725      0.000       0.011       0.014\n",
       "HDD            0.0004      0.001      0.740      0.459      -0.001       0.002\n",
       "==============================================================================\n",
       "Omnibus:                      281.756   Durbin-Watson:                   1.977\n",
       "Prob(Omnibus):                  0.000   Jarque-Bera (JB):             5659.307\n",
       "Skew:                           0.970   Prob(JB):                         0.00\n",
       "Kurtosis:                      15.409   Cond. No.                     1.25e+03\n",
       "==============================================================================\n",
       "\n",
       "Notes:\n",
       "[1] Standard Errors assume that the covariance matrix of the errors is correctly specified.\n",
       "[2] The condition number is large, 1.25e+03. This might indicate that there are\n",
       "strong multicollinearity or other numerical problems.\n",
       "\"\"\""
      ]
     },
     "execution_count": 17,
     "metadata": {},
     "output_type": "execute_result"
    }
   ],
   "source": [
    "# OLS model with intercept\n",
    "OLS_smf_1_1 = smf.ols(formula = \"Price ~ SSD + HDD\", data = Laptop_df)\n",
    "\n",
    "OLS_smf_1_1_results = OLS_smf_1_1.fit()\n",
    "OLS_smf_1_1_results.summary()"
   ]
  },
  {
   "cell_type": "markdown",
   "id": "fcb328b3",
   "metadata": {},
   "source": [
    "#### Draw 3D-graph\n",
    "* [code reference link](https://aegis4048.github.io/mutiple_linear_regression_and_visualization_in_python)"
   ]
  },
  {
   "cell_type": "code",
   "execution_count": 18,
   "id": "74b76b0e",
   "metadata": {},
   "outputs": [
    {
     "data": {
      "text/plain": [
       "[<mpl_toolkits.mplot3d.art3d.Line3D at 0x273e69acbc8>]"
      ]
     },
     "execution_count": 18,
     "metadata": {},
     "output_type": "execute_result"
    },
    {
     "data": {
      "text/plain": [
       "<mpl_toolkits.mplot3d.art3d.Path3DCollection at 0x273e69d7548>"
      ]
     },
     "execution_count": 18,
     "metadata": {},
     "output_type": "execute_result"
    },
    {
     "data": {
      "text/plain": [
       "Text(0.5, 0, 'SSD')"
      ]
     },
     "execution_count": 18,
     "metadata": {},
     "output_type": "execute_result"
    },
    {
     "data": {
      "text/plain": [
       "Text(0.5, 0.5, 'HHD')"
      ]
     },
     "execution_count": 18,
     "metadata": {},
     "output_type": "execute_result"
    },
    {
     "data": {
      "text/plain": [
       "Text(0.5, 0, 'Price')"
      ]
     },
     "execution_count": 18,
     "metadata": {},
     "output_type": "execute_result"
    },
    {
     "data": {
      "text/plain": [
       "[<mpl_toolkits.mplot3d.art3d.Line3D at 0x273e6896208>]"
      ]
     },
     "execution_count": 18,
     "metadata": {},
     "output_type": "execute_result"
    },
    {
     "data": {
      "text/plain": [
       "<mpl_toolkits.mplot3d.art3d.Path3DCollection at 0x273e69d72c8>"
      ]
     },
     "execution_count": 18,
     "metadata": {},
     "output_type": "execute_result"
    },
    {
     "data": {
      "text/plain": [
       "Text(0.5, 0, 'SSD')"
      ]
     },
     "execution_count": 18,
     "metadata": {},
     "output_type": "execute_result"
    },
    {
     "data": {
      "text/plain": [
       "Text(0.5, 0.5, 'HHD')"
      ]
     },
     "execution_count": 18,
     "metadata": {},
     "output_type": "execute_result"
    },
    {
     "data": {
      "text/plain": [
       "Text(0.5, 0, 'Price')"
      ]
     },
     "execution_count": 18,
     "metadata": {},
     "output_type": "execute_result"
    },
    {
     "data": {
      "text/plain": [
       "[<mpl_toolkits.mplot3d.art3d.Line3D at 0x273e69db8c8>]"
      ]
     },
     "execution_count": 18,
     "metadata": {},
     "output_type": "execute_result"
    },
    {
     "data": {
      "text/plain": [
       "<mpl_toolkits.mplot3d.art3d.Path3DCollection at 0x273e69f35c8>"
      ]
     },
     "execution_count": 18,
     "metadata": {},
     "output_type": "execute_result"
    },
    {
     "data": {
      "text/plain": [
       "Text(0.5, 0, 'SSD')"
      ]
     },
     "execution_count": 18,
     "metadata": {},
     "output_type": "execute_result"
    },
    {
     "data": {
      "text/plain": [
       "Text(0.5, 0.5, 'HHD')"
      ]
     },
     "execution_count": 18,
     "metadata": {},
     "output_type": "execute_result"
    },
    {
     "data": {
      "text/plain": [
       "Text(0.5, 0, 'Price')"
      ]
     },
     "execution_count": 18,
     "metadata": {},
     "output_type": "execute_result"
    },
    {
     "data": {
      "text/plain": [
       "Text(0.5, 0.98, '$R-squared = 0.30$')"
      ]
     },
     "execution_count": 18,
     "metadata": {},
     "output_type": "execute_result"
    },
    {
     "data": {
      "image/png": "[encoded data removed]",
      "text/plain": [
       "<Figure size 1200x400 with 3 Axes>"
      ]
     },
     "metadata": {},
     "output_type": "display_data"
    }
   ],
   "source": [
    "X1 = Laptop_df[[\"SSD\", \"HDD\"]].values.reshape(-1, 2)\n",
    "Y1 = Laptop_df[\"Price\"]\n",
    "\n",
    "x = X1[:, 0] # SSD\n",
    "y = X1[:, 1] # HDD\n",
    "z = Y1\n",
    "\n",
    "x_pred = np.linspace(Laptop_df['SSD'].min(), Laptop_df['SSD'].max(), 10)\n",
    "y_pred = np.linspace(Laptop_df['HDD'].min(), Laptop_df['HDD'].max(), 10)\n",
    "xx_pred, yy_pred = np.meshgrid(x_pred, y_pred)\n",
    "model_viz = np.array([xx_pred.flatten(), yy_pred.flatten()]).T\n",
    " \n",
    "OLS = linear_model.LinearRegression()\n",
    "model = OLS.fit(X1, Y1)\n",
    " \n",
    "predicted = model.predict(model_viz)\n",
    " \n",
    "r2_score = model.score(X1, Y1)\n",
    " \n",
    "plt.style.use('default')\n",
    " \n",
    "fig = plt.figure(figsize = (12, 4))\n",
    " \n",
    "ax1 = fig.add_subplot(131, projection = '3d')\n",
    "ax2 = fig.add_subplot(132, projection = '3d')\n",
    "ax3 = fig.add_subplot(133, projection = '3d')\n",
    " \n",
    "axes = [ax1, ax2, ax3]\n",
    " \n",
    "for ax in axes:\n",
    "    ax.plot(x, y, z, color='k', zorder=15, linestyle='none', marker='o', alpha=0.5) \n",
    "    ax.scatter(xx_pred.flatten(), yy_pred.flatten(), predicted, s=20, edgecolor='#70b3f0') \n",
    "    ax.set_xlabel('SSD', fontsize=12) \n",
    "    ax.set_ylabel('HHD', fontsize=12)\n",
    "    ax.set_zlabel('Price', fontsize=12)\n",
    "    ax.locator_params(nbins=6, axis='x') \n",
    "    ax.locator_params(nbins=4, axis='y')\n",
    "    ax.locator_params(nbins=4, axis='z')\n",
    "\n",
    "\n",
    "ax1.view_init(elev = 27, azim = 112) \n",
    "ax2.view_init(elev=4, azim = 114)\n",
    "ax3.view_init(elev=60, azim=165)\n",
    " \n",
    "fig.suptitle('$R-squared = %.2f$' % r2_score, fontsize = 20)\n",
    " \n",
    "fig.tight_layout()"
   ]
  },
  {
   "cell_type": "markdown",
   "id": "7b0a6e76",
   "metadata": {},
   "source": [
    "#### 2. RAM, SSD\n",
    "* Include interaction"
   ]
  },
  {
   "cell_type": "code",
   "execution_count": 19,
   "id": "874a597b",
   "metadata": {
    "scrolled": false
   },
   "outputs": [
    {
     "data": {
      "text/html": [
       "<table class=\"simpletable\">\n",
       "<caption>OLS Regression Results</caption>\n",
       "<tr>\n",
       "  <th>Dep. Variable:</th>          <td>Price</td>      <th>  R-squared:         </th> <td>   0.475</td> \n",
       "</tr>\n",
       "<tr>\n",
       "  <th>Model:</th>                   <td>OLS</td>       <th>  Adj. R-squared:    </th> <td>   0.473</td> \n",
       "</tr>\n",
       "<tr>\n",
       "  <th>Method:</th>             <td>Least Squares</td>  <th>  F-statistic:       </th> <td>   258.5</td> \n",
       "</tr>\n",
       "<tr>\n",
       "  <th>Date:</th>             <td>Fri, 13 May 2022</td> <th>  Prob (F-statistic):</th> <td>1.97e-119</td>\n",
       "</tr>\n",
       "<tr>\n",
       "  <th>Time:</th>                 <td>10:02:58</td>     <th>  Log-Likelihood:    </th> <td> -2628.6</td> \n",
       "</tr>\n",
       "<tr>\n",
       "  <th>No. Observations:</th>      <td>   861</td>      <th>  AIC:               </th> <td>   5265.</td> \n",
       "</tr>\n",
       "<tr>\n",
       "  <th>Df Residuals:</th>          <td>   857</td>      <th>  BIC:               </th> <td>   5284.</td> \n",
       "</tr>\n",
       "<tr>\n",
       "  <th>Df Model:</th>              <td>     3</td>      <th>                     </th>     <td> </td>    \n",
       "</tr>\n",
       "<tr>\n",
       "  <th>Covariance Type:</th>      <td>nonrobust</td>    <th>                     </th>     <td> </td>    \n",
       "</tr>\n",
       "</table>\n",
       "<table class=\"simpletable\">\n",
       "<tr>\n",
       "      <td></td>         <th>coef</th>     <th>std err</th>      <th>t</th>      <th>P>|t|</th>  <th>[0.025</th>    <th>0.975]</th>  \n",
       "</tr>\n",
       "<tr>\n",
       "  <th>Intercept</th> <td>   -0.4062</td> <td>    0.607</td> <td>   -0.669</td> <td> 0.504</td> <td>   -1.597</td> <td>    0.785</td>\n",
       "</tr>\n",
       "<tr>\n",
       "  <th>RAM</th>       <td>    0.9095</td> <td>    0.062</td> <td>   14.768</td> <td> 0.000</td> <td>    0.789</td> <td>    1.030</td>\n",
       "</tr>\n",
       "<tr>\n",
       "  <th>SSD</th>       <td>    0.0092</td> <td>    0.001</td> <td>    7.833</td> <td> 0.000</td> <td>    0.007</td> <td>    0.012</td>\n",
       "</tr>\n",
       "<tr>\n",
       "  <th>RAM:SSD</th>   <td>   -0.0003</td> <td> 7.44e-05</td> <td>   -3.891</td> <td> 0.000</td> <td>   -0.000</td> <td>   -0.000</td>\n",
       "</tr>\n",
       "</table>\n",
       "<table class=\"simpletable\">\n",
       "<tr>\n",
       "  <th>Omnibus:</th>       <td>167.692</td> <th>  Durbin-Watson:     </th> <td>   1.998</td>\n",
       "</tr>\n",
       "<tr>\n",
       "  <th>Prob(Omnibus):</th> <td> 0.000</td>  <th>  Jarque-Bera (JB):  </th> <td>2631.709</td>\n",
       "</tr>\n",
       "<tr>\n",
       "  <th>Skew:</th>          <td> 0.383</td>  <th>  Prob(JB):          </th> <td>    0.00</td>\n",
       "</tr>\n",
       "<tr>\n",
       "  <th>Kurtosis:</th>      <td>11.531</td>  <th>  Cond. No.          </th> <td>2.94e+04</td>\n",
       "</tr>\n",
       "</table><br/><br/>Notes:<br/>[1] Standard Errors assume that the covariance matrix of the errors is correctly specified.<br/>[2] The condition number is large, 2.94e+04. This might indicate that there are<br/>strong multicollinearity or other numerical problems."
      ],
      "text/plain": [
       "<class 'statsmodels.iolib.summary.Summary'>\n",
       "\"\"\"\n",
       "                            OLS Regression Results                            \n",
       "==============================================================================\n",
       "Dep. Variable:                  Price   R-squared:                       0.475\n",
       "Model:                            OLS   Adj. R-squared:                  0.473\n",
       "Method:                 Least Squares   F-statistic:                     258.5\n",
       "Date:                Fri, 13 May 2022   Prob (F-statistic):          1.97e-119\n",
       "Time:                        10:02:58   Log-Likelihood:                -2628.6\n",
       "No. Observations:                 861   AIC:                             5265.\n",
       "Df Residuals:                     857   BIC:                             5284.\n",
       "Df Model:                           3                                         \n",
       "Covariance Type:            nonrobust                                         \n",
       "==============================================================================\n",
       "                 coef    std err          t      P>|t|      [0.025      0.975]\n",
       "------------------------------------------------------------------------------\n",
       "Intercept     -0.4062      0.607     -0.669      0.504      -1.597       0.785\n",
       "RAM            0.9095      0.062     14.768      0.000       0.789       1.030\n",
       "SSD            0.0092      0.001      7.833      0.000       0.007       0.012\n",
       "RAM:SSD       -0.0003   7.44e-05     -3.891      0.000      -0.000      -0.000\n",
       "==============================================================================\n",
       "Omnibus:                      167.692   Durbin-Watson:                   1.998\n",
       "Prob(Omnibus):                  0.000   Jarque-Bera (JB):             2631.709\n",
       "Skew:                           0.383   Prob(JB):                         0.00\n",
       "Kurtosis:                      11.531   Cond. No.                     2.94e+04\n",
       "==============================================================================\n",
       "\n",
       "Notes:\n",
       "[1] Standard Errors assume that the covariance matrix of the errors is correctly specified.\n",
       "[2] The condition number is large, 2.94e+04. This might indicate that there are\n",
       "strong multicollinearity or other numerical problems.\n",
       "\"\"\""
      ]
     },
     "execution_count": 19,
     "metadata": {},
     "output_type": "execute_result"
    }
   ],
   "source": [
    "import statsmodels.formula.api as smf\n",
    "\n",
    "# OLS model with intercept\n",
    "OLS_smf_2 = smf.ols(formula = \"Price ~ RAM * SSD\", data = Laptop_df)\n",
    "\n",
    "OLS_smf_2_results = OLS_smf_2.fit()\n",
    "OLS_smf_2_results.summary()"
   ]
  },
  {
   "cell_type": "markdown",
   "id": "2c5f7298",
   "metadata": {},
   "source": [
    "According to the table, the p-values of three features are significant. That is, when they are considered separately, it seems that each of them positively affects Price.\n",
    "The R-squared value is approximately 0.5, so approximately 50% of the variability in the outcome data cannot be explained by the model. "
   ]
  },
  {
   "cell_type": "markdown",
   "id": "652e6562",
   "metadata": {},
   "source": [
    "#### 2.1 RAM, SSD\n",
    "* not include interaction"
   ]
  },
  {
   "cell_type": "code",
   "execution_count": 20,
   "id": "c7f12be9",
   "metadata": {},
   "outputs": [
    {
     "data": {
      "text/html": [
       "<table class=\"simpletable\">\n",
       "<caption>OLS Regression Results</caption>\n",
       "<tr>\n",
       "  <th>Dep. Variable:</th>          <td>Price</td>      <th>  R-squared:         </th> <td>   0.466</td> \n",
       "</tr>\n",
       "<tr>\n",
       "  <th>Model:</th>                   <td>OLS</td>       <th>  Adj. R-squared:    </th> <td>   0.464</td> \n",
       "</tr>\n",
       "<tr>\n",
       "  <th>Method:</th>             <td>Least Squares</td>  <th>  F-statistic:       </th> <td>   374.0</td> \n",
       "</tr>\n",
       "<tr>\n",
       "  <th>Date:</th>             <td>Fri, 13 May 2022</td> <th>  Prob (F-statistic):</th> <td>1.62e-117</td>\n",
       "</tr>\n",
       "<tr>\n",
       "  <th>Time:</th>                 <td>10:02:58</td>     <th>  Log-Likelihood:    </th> <td> -2636.1</td> \n",
       "</tr>\n",
       "<tr>\n",
       "  <th>No. Observations:</th>      <td>   861</td>      <th>  AIC:               </th> <td>   5278.</td> \n",
       "</tr>\n",
       "<tr>\n",
       "  <th>Df Residuals:</th>          <td>   858</td>      <th>  BIC:               </th> <td>   5293.</td> \n",
       "</tr>\n",
       "<tr>\n",
       "  <th>Df Model:</th>              <td>     2</td>      <th>                     </th>     <td> </td>    \n",
       "</tr>\n",
       "<tr>\n",
       "  <th>Covariance Type:</th>      <td>nonrobust</td>    <th>                     </th>     <td> </td>    \n",
       "</tr>\n",
       "</table>\n",
       "<table class=\"simpletable\">\n",
       "<tr>\n",
       "      <td></td>         <th>coef</th>     <th>std err</th>      <th>t</th>      <th>P>|t|</th>  <th>[0.025</th>    <th>0.975]</th>  \n",
       "</tr>\n",
       "<tr>\n",
       "  <th>Intercept</th> <td>    1.3402</td> <td>    0.412</td> <td>    3.254</td> <td> 0.001</td> <td>    0.532</td> <td>    2.149</td>\n",
       "</tr>\n",
       "<tr>\n",
       "  <th>RAM</th>       <td>    0.7449</td> <td>    0.045</td> <td>   16.508</td> <td> 0.000</td> <td>    0.656</td> <td>    0.833</td>\n",
       "</tr>\n",
       "<tr>\n",
       "  <th>SSD</th>       <td>    0.0055</td> <td>    0.001</td> <td>    7.853</td> <td> 0.000</td> <td>    0.004</td> <td>    0.007</td>\n",
       "</tr>\n",
       "</table>\n",
       "<table class=\"simpletable\">\n",
       "<tr>\n",
       "  <th>Omnibus:</th>       <td>179.414</td> <th>  Durbin-Watson:     </th> <td>   2.008</td>\n",
       "</tr>\n",
       "<tr>\n",
       "  <th>Prob(Omnibus):</th> <td> 0.000</td>  <th>  Jarque-Bera (JB):  </th> <td>5203.934</td>\n",
       "</tr>\n",
       "<tr>\n",
       "  <th>Skew:</th>          <td> 0.000</td>  <th>  Prob(JB):          </th> <td>    0.00</td>\n",
       "</tr>\n",
       "<tr>\n",
       "  <th>Kurtosis:</th>      <td>15.044</td>  <th>  Cond. No.          </th> <td>1.28e+03</td>\n",
       "</tr>\n",
       "</table><br/><br/>Notes:<br/>[1] Standard Errors assume that the covariance matrix of the errors is correctly specified.<br/>[2] The condition number is large, 1.28e+03. This might indicate that there are<br/>strong multicollinearity or other numerical problems."
      ],
      "text/plain": [
       "<class 'statsmodels.iolib.summary.Summary'>\n",
       "\"\"\"\n",
       "                            OLS Regression Results                            \n",
       "==============================================================================\n",
       "Dep. Variable:                  Price   R-squared:                       0.466\n",
       "Model:                            OLS   Adj. R-squared:                  0.464\n",
       "Method:                 Least Squares   F-statistic:                     374.0\n",
       "Date:                Fri, 13 May 2022   Prob (F-statistic):          1.62e-117\n",
       "Time:                        10:02:58   Log-Likelihood:                -2636.1\n",
       "No. Observations:                 861   AIC:                             5278.\n",
       "Df Residuals:                     858   BIC:                             5293.\n",
       "Df Model:                           2                                         \n",
       "Covariance Type:            nonrobust                                         \n",
       "==============================================================================\n",
       "                 coef    std err          t      P>|t|      [0.025      0.975]\n",
       "------------------------------------------------------------------------------\n",
       "Intercept      1.3402      0.412      3.254      0.001       0.532       2.149\n",
       "RAM            0.7449      0.045     16.508      0.000       0.656       0.833\n",
       "SSD            0.0055      0.001      7.853      0.000       0.004       0.007\n",
       "==============================================================================\n",
       "Omnibus:                      179.414   Durbin-Watson:                   2.008\n",
       "Prob(Omnibus):                  0.000   Jarque-Bera (JB):             5203.934\n",
       "Skew:                           0.000   Prob(JB):                         0.00\n",
       "Kurtosis:                      15.044   Cond. No.                     1.28e+03\n",
       "==============================================================================\n",
       "\n",
       "Notes:\n",
       "[1] Standard Errors assume that the covariance matrix of the errors is correctly specified.\n",
       "[2] The condition number is large, 1.28e+03. This might indicate that there are\n",
       "strong multicollinearity or other numerical problems.\n",
       "\"\"\""
      ]
     },
     "execution_count": 20,
     "metadata": {},
     "output_type": "execute_result"
    }
   ],
   "source": [
    "import statsmodels.formula.api as smf\n",
    "\n",
    "# OLS model with intercept\n",
    "OLS_smf_2 = smf.ols(formula = \"Price ~ RAM + SSD\", data = Laptop_df)\n",
    "\n",
    "OLS_smf_2_results = OLS_smf_2.fit()\n",
    "OLS_smf_2_results.summary()"
   ]
  },
  {
   "cell_type": "markdown",
   "id": "8426c30b",
   "metadata": {},
   "source": [
    "#### Draw 3D-graph\n",
    "* [code reference link](https://aegis4048.github.io/mutiple_linear_regression_and_visualization_in_python)"
   ]
  },
  {
   "cell_type": "code",
   "execution_count": 21,
   "id": "160a90e2",
   "metadata": {},
   "outputs": [
    {
     "data": {
      "text/plain": [
       "[<mpl_toolkits.mplot3d.art3d.Line3D at 0x273e7027ec8>]"
      ]
     },
     "execution_count": 21,
     "metadata": {},
     "output_type": "execute_result"
    },
    {
     "data": {
      "text/plain": [
       "<mpl_toolkits.mplot3d.art3d.Path3DCollection at 0x273e705d4c8>"
      ]
     },
     "execution_count": 21,
     "metadata": {},
     "output_type": "execute_result"
    },
    {
     "data": {
      "text/plain": [
       "Text(0.5, 0, 'RAM')"
      ]
     },
     "execution_count": 21,
     "metadata": {},
     "output_type": "execute_result"
    },
    {
     "data": {
      "text/plain": [
       "Text(0.5, 0.5, 'SSD')"
      ]
     },
     "execution_count": 21,
     "metadata": {},
     "output_type": "execute_result"
    },
    {
     "data": {
      "text/plain": [
       "Text(0.5, 0, 'Price')"
      ]
     },
     "execution_count": 21,
     "metadata": {},
     "output_type": "execute_result"
    },
    {
     "data": {
      "text/plain": [
       "[<mpl_toolkits.mplot3d.art3d.Line3D at 0x273e6f86488>]"
      ]
     },
     "execution_count": 21,
     "metadata": {},
     "output_type": "execute_result"
    },
    {
     "data": {
      "text/plain": [
       "<mpl_toolkits.mplot3d.art3d.Path3DCollection at 0x273e705df88>"
      ]
     },
     "execution_count": 21,
     "metadata": {},
     "output_type": "execute_result"
    },
    {
     "data": {
      "text/plain": [
       "Text(0.5, 0, 'RAM')"
      ]
     },
     "execution_count": 21,
     "metadata": {},
     "output_type": "execute_result"
    },
    {
     "data": {
      "text/plain": [
       "Text(0.5, 0.5, 'SSD')"
      ]
     },
     "execution_count": 21,
     "metadata": {},
     "output_type": "execute_result"
    },
    {
     "data": {
      "text/plain": [
       "Text(0.5, 0, 'Price')"
      ]
     },
     "execution_count": 21,
     "metadata": {},
     "output_type": "execute_result"
    },
    {
     "data": {
      "text/plain": [
       "[<mpl_toolkits.mplot3d.art3d.Line3D at 0x273e70689c8>]"
      ]
     },
     "execution_count": 21,
     "metadata": {},
     "output_type": "execute_result"
    },
    {
     "data": {
      "text/plain": [
       "<mpl_toolkits.mplot3d.art3d.Path3DCollection at 0x273e7068b88>"
      ]
     },
     "execution_count": 21,
     "metadata": {},
     "output_type": "execute_result"
    },
    {
     "data": {
      "text/plain": [
       "Text(0.5, 0, 'RAM')"
      ]
     },
     "execution_count": 21,
     "metadata": {},
     "output_type": "execute_result"
    },
    {
     "data": {
      "text/plain": [
       "Text(0.5, 0.5, 'SSD')"
      ]
     },
     "execution_count": 21,
     "metadata": {},
     "output_type": "execute_result"
    },
    {
     "data": {
      "text/plain": [
       "Text(0.5, 0, 'Price')"
      ]
     },
     "execution_count": 21,
     "metadata": {},
     "output_type": "execute_result"
    },
    {
     "data": {
      "text/plain": [
       "Text(0.5, 0.98, '$R-squared = 0.47$')"
      ]
     },
     "execution_count": 21,
     "metadata": {},
     "output_type": "execute_result"
    },
    {
     "data": {
      "image/png": "[encoded data removed]",
      "text/plain": [
       "<Figure size 1200x400 with 3 Axes>"
      ]
     },
     "metadata": {},
     "output_type": "display_data"
    }
   ],
   "source": [
    "X1 = Laptop_df[[\"RAM\", \"SSD\"]].values.reshape(-1, 2)\n",
    "Y1 = Laptop_df[\"Price\"]\n",
    "\n",
    "x = X1[:, 0] # RAM\n",
    "y = X1[:, 1] # SSD\n",
    "z = Y1\n",
    "\n",
    "x_pred = np.linspace(Laptop_df['RAM'].min(), Laptop_df['RAM'].max(), 10)\n",
    "y_pred = np.linspace(Laptop_df['SSD'].min(), Laptop_df['SSD'].max(), 10)\n",
    "xx_pred, yy_pred = np.meshgrid(x_pred, y_pred)\n",
    "model_viz = np.array([xx_pred.flatten(), yy_pred.flatten()]).T\n",
    " \n",
    "OLS = linear_model.LinearRegression()\n",
    "model = OLS.fit(X1, Y1)\n",
    " \n",
    "predicted = model.predict(model_viz)\n",
    " \n",
    "r2_score = model.score(X1, Y1)\n",
    " \n",
    "plt.style.use('default')\n",
    " \n",
    "fig = plt.figure(figsize = (12, 4))\n",
    " \n",
    "ax1 = fig.add_subplot(131, projection = '3d')\n",
    "ax2 = fig.add_subplot(132, projection = '3d')\n",
    "ax3 = fig.add_subplot(133, projection = '3d')\n",
    " \n",
    "axes = [ax1, ax2, ax3]\n",
    " \n",
    "for ax in axes:\n",
    "    ax.plot(x, y, z, color='k', zorder=15, linestyle='none', marker='o', alpha=0.5) \n",
    "    ax.scatter(xx_pred.flatten(), yy_pred.flatten(), predicted, s=20, edgecolor='b') \n",
    "    ax.set_xlabel('RAM', fontsize=12) \n",
    "    ax.set_ylabel('SSD', fontsize=12)\n",
    "    ax.set_zlabel('Price', fontsize=12)\n",
    "    ax.locator_params(nbins=6, axis='x') \n",
    "    ax.locator_params(nbins=4, axis='y')\n",
    "    ax.locator_params(nbins=4, axis='z')\n",
    "\n",
    "\n",
    "ax1.view_init(elev = 27, azim = 112) \n",
    "ax2.view_init(elev=4, azim = 114)\n",
    "ax3.view_init(elev=60, azim=165)\n",
    " \n",
    "fig.suptitle('$R-squared = %.2f$' % r2_score, fontsize = 20)\n",
    " \n",
    "fig.tight_layout()"
   ]
  },
  {
   "cell_type": "markdown",
   "id": "9f780179",
   "metadata": {},
   "source": [
    "#### 3. RAM, SSD, Graphic_card"
   ]
  },
  {
   "cell_type": "code",
   "execution_count": 22,
   "id": "90135456",
   "metadata": {},
   "outputs": [
    {
     "data": {
      "text/html": [
       "<table class=\"simpletable\">\n",
       "<caption>OLS Regression Results</caption>\n",
       "<tr>\n",
       "  <th>Dep. Variable:</th>          <td>Price</td>      <th>  R-squared:         </th> <td>   0.548</td> \n",
       "</tr>\n",
       "<tr>\n",
       "  <th>Model:</th>                   <td>OLS</td>       <th>  Adj. R-squared:    </th> <td>   0.544</td> \n",
       "</tr>\n",
       "<tr>\n",
       "  <th>Method:</th>             <td>Least Squares</td>  <th>  F-statistic:       </th> <td>   147.7</td> \n",
       "</tr>\n",
       "<tr>\n",
       "  <th>Date:</th>             <td>Fri, 13 May 2022</td> <th>  Prob (F-statistic):</th> <td>2.28e-142</td>\n",
       "</tr>\n",
       "<tr>\n",
       "  <th>Time:</th>                 <td>10:02:59</td>     <th>  Log-Likelihood:    </th> <td> -2564.2</td> \n",
       "</tr>\n",
       "<tr>\n",
       "  <th>No. Observations:</th>      <td>   861</td>      <th>  AIC:               </th> <td>   5144.</td> \n",
       "</tr>\n",
       "<tr>\n",
       "  <th>Df Residuals:</th>          <td>   853</td>      <th>  BIC:               </th> <td>   5183.</td> \n",
       "</tr>\n",
       "<tr>\n",
       "  <th>Df Model:</th>              <td>     7</td>      <th>                     </th>     <td> </td>    \n",
       "</tr>\n",
       "<tr>\n",
       "  <th>Covariance Type:</th>      <td>nonrobust</td>    <th>                     </th>     <td> </td>    \n",
       "</tr>\n",
       "</table>\n",
       "<table class=\"simpletable\">\n",
       "<tr>\n",
       "            <td></td>              <th>coef</th>     <th>std err</th>      <th>t</th>      <th>P>|t|</th>  <th>[0.025</th>    <th>0.975]</th>  \n",
       "</tr>\n",
       "<tr>\n",
       "  <th>Intercept</th>            <td>    3.9294</td> <td>    0.791</td> <td>    4.966</td> <td> 0.000</td> <td>    2.376</td> <td>    5.482</td>\n",
       "</tr>\n",
       "<tr>\n",
       "  <th>RAM</th>                  <td>    0.2487</td> <td>    0.093</td> <td>    2.670</td> <td> 0.008</td> <td>    0.066</td> <td>    0.432</td>\n",
       "</tr>\n",
       "<tr>\n",
       "  <th>SSD</th>                  <td>    0.0045</td> <td>    0.002</td> <td>    2.626</td> <td> 0.009</td> <td>    0.001</td> <td>    0.008</td>\n",
       "</tr>\n",
       "<tr>\n",
       "  <th>RAM:SSD</th>              <td>    0.0004</td> <td>    0.000</td> <td>    2.694</td> <td> 0.007</td> <td>    0.000</td> <td>    0.001</td>\n",
       "</tr>\n",
       "<tr>\n",
       "  <th>Graphic_card</th>         <td>   -0.9195</td> <td>    0.361</td> <td>   -2.545</td> <td> 0.011</td> <td>   -1.629</td> <td>   -0.210</td>\n",
       "</tr>\n",
       "<tr>\n",
       "  <th>RAM:Graphic_card</th>     <td>    0.1947</td> <td>    0.027</td> <td>    7.329</td> <td> 0.000</td> <td>    0.143</td> <td>    0.247</td>\n",
       "</tr>\n",
       "<tr>\n",
       "  <th>SSD:Graphic_card</th>     <td>    0.0010</td> <td>    0.001</td> <td>    2.022</td> <td> 0.043</td> <td> 3.06e-05</td> <td>    0.002</td>\n",
       "</tr>\n",
       "<tr>\n",
       "  <th>RAM:SSD:Graphic_card</th> <td>   -0.0002</td> <td> 3.23e-05</td> <td>   -5.439</td> <td> 0.000</td> <td>   -0.000</td> <td>   -0.000</td>\n",
       "</tr>\n",
       "</table>\n",
       "<table class=\"simpletable\">\n",
       "<tr>\n",
       "  <th>Omnibus:</th>       <td>151.362</td> <th>  Durbin-Watson:     </th> <td>   2.049</td>\n",
       "</tr>\n",
       "<tr>\n",
       "  <th>Prob(Omnibus):</th> <td> 0.000</td>  <th>  Jarque-Bera (JB):  </th> <td>2188.344</td>\n",
       "</tr>\n",
       "<tr>\n",
       "  <th>Skew:</th>          <td>-0.290</td>  <th>  Prob(JB):          </th> <td>    0.00</td>\n",
       "</tr>\n",
       "<tr>\n",
       "  <th>Kurtosis:</th>      <td>10.789</td>  <th>  Cond. No.          </th> <td>1.95e+05</td>\n",
       "</tr>\n",
       "</table><br/><br/>Notes:<br/>[1] Standard Errors assume that the covariance matrix of the errors is correctly specified.<br/>[2] The condition number is large, 1.95e+05. This might indicate that there are<br/>strong multicollinearity or other numerical problems."
      ],
      "text/plain": [
       "<class 'statsmodels.iolib.summary.Summary'>\n",
       "\"\"\"\n",
       "                            OLS Regression Results                            \n",
       "==============================================================================\n",
       "Dep. Variable:                  Price   R-squared:                       0.548\n",
       "Model:                            OLS   Adj. R-squared:                  0.544\n",
       "Method:                 Least Squares   F-statistic:                     147.7\n",
       "Date:                Fri, 13 May 2022   Prob (F-statistic):          2.28e-142\n",
       "Time:                        10:02:59   Log-Likelihood:                -2564.2\n",
       "No. Observations:                 861   AIC:                             5144.\n",
       "Df Residuals:                     853   BIC:                             5183.\n",
       "Df Model:                           7                                         \n",
       "Covariance Type:            nonrobust                                         \n",
       "========================================================================================\n",
       "                           coef    std err          t      P>|t|      [0.025      0.975]\n",
       "----------------------------------------------------------------------------------------\n",
       "Intercept                3.9294      0.791      4.966      0.000       2.376       5.482\n",
       "RAM                      0.2487      0.093      2.670      0.008       0.066       0.432\n",
       "SSD                      0.0045      0.002      2.626      0.009       0.001       0.008\n",
       "RAM:SSD                  0.0004      0.000      2.694      0.007       0.000       0.001\n",
       "Graphic_card            -0.9195      0.361     -2.545      0.011      -1.629      -0.210\n",
       "RAM:Graphic_card         0.1947      0.027      7.329      0.000       0.143       0.247\n",
       "SSD:Graphic_card         0.0010      0.001      2.022      0.043    3.06e-05       0.002\n",
       "RAM:SSD:Graphic_card    -0.0002   3.23e-05     -5.439      0.000      -0.000      -0.000\n",
       "==============================================================================\n",
       "Omnibus:                      151.362   Durbin-Watson:                   2.049\n",
       "Prob(Omnibus):                  0.000   Jarque-Bera (JB):             2188.344\n",
       "Skew:                          -0.290   Prob(JB):                         0.00\n",
       "Kurtosis:                      10.789   Cond. No.                     1.95e+05\n",
       "==============================================================================\n",
       "\n",
       "Notes:\n",
       "[1] Standard Errors assume that the covariance matrix of the errors is correctly specified.\n",
       "[2] The condition number is large, 1.95e+05. This might indicate that there are\n",
       "strong multicollinearity or other numerical problems.\n",
       "\"\"\""
      ]
     },
     "execution_count": 22,
     "metadata": {},
     "output_type": "execute_result"
    }
   ],
   "source": [
    "import statsmodels.formula.api as smf\n",
    "\n",
    "# OLS model with intercept\n",
    "OLS_smf_3 = smf.ols(formula = \"Price ~ RAM * SSD * Graphic_card\", data = Laptop_df)\n",
    "\n",
    "OLS_smf_3_results = OLS_smf_3.fit()\n",
    "OLS_smf_3_results.summary()"
   ]
  },
  {
   "cell_type": "markdown",
   "id": "64f33135",
   "metadata": {},
   "source": [
    "According to the table, the p-values of the all features are significant. That is, when they are considered separately, it seems that each of them positively affects Price.\n",
    "The R-squared value is more than 0.5, so approximately 55% of the variability in the outcome data can be explained by the model. "
   ]
  },
  {
   "cell_type": "markdown",
   "id": "d90aa1f8",
   "metadata": {},
   "source": [
    "#### 4. star_rating, ratings"
   ]
  },
  {
   "cell_type": "code",
   "execution_count": 23,
   "id": "b5dc9fb3",
   "metadata": {},
   "outputs": [
    {
     "data": {
      "text/html": [
       "<table class=\"simpletable\">\n",
       "<caption>OLS Regression Results</caption>\n",
       "<tr>\n",
       "  <th>Dep. Variable:</th>          <td>Price</td>      <th>  R-squared:         </th> <td>   0.034</td>\n",
       "</tr>\n",
       "<tr>\n",
       "  <th>Model:</th>                   <td>OLS</td>       <th>  Adj. R-squared:    </th> <td>   0.031</td>\n",
       "</tr>\n",
       "<tr>\n",
       "  <th>Method:</th>             <td>Least Squares</td>  <th>  F-statistic:       </th> <td>   10.21</td>\n",
       "</tr>\n",
       "<tr>\n",
       "  <th>Date:</th>             <td>Fri, 13 May 2022</td> <th>  Prob (F-statistic):</th> <td>1.31e-06</td>\n",
       "</tr>\n",
       "<tr>\n",
       "  <th>Time:</th>                 <td>10:03:00</td>     <th>  Log-Likelihood:    </th> <td> -2890.9</td>\n",
       "</tr>\n",
       "<tr>\n",
       "  <th>No. Observations:</th>      <td>   861</td>      <th>  AIC:               </th> <td>   5790.</td>\n",
       "</tr>\n",
       "<tr>\n",
       "  <th>Df Residuals:</th>          <td>   857</td>      <th>  BIC:               </th> <td>   5809.</td>\n",
       "</tr>\n",
       "<tr>\n",
       "  <th>Df Model:</th>              <td>     3</td>      <th>                     </th>     <td> </td>   \n",
       "</tr>\n",
       "<tr>\n",
       "  <th>Covariance Type:</th>      <td>nonrobust</td>    <th>                     </th>     <td> </td>   \n",
       "</tr>\n",
       "</table>\n",
       "<table class=\"simpletable\">\n",
       "<tr>\n",
       "           <td></td>              <th>coef</th>     <th>std err</th>      <th>t</th>      <th>P>|t|</th>  <th>[0.025</th>    <th>0.975]</th>  \n",
       "</tr>\n",
       "<tr>\n",
       "  <th>Intercept</th>           <td>   12.3145</td> <td>    0.428</td> <td>   28.795</td> <td> 0.000</td> <td>   11.475</td> <td>   13.154</td>\n",
       "</tr>\n",
       "<tr>\n",
       "  <th>star_rating</th>         <td>   -0.2233</td> <td>    0.123</td> <td>   -1.810</td> <td> 0.071</td> <td>   -0.466</td> <td>    0.019</td>\n",
       "</tr>\n",
       "<tr>\n",
       "  <th>ratings</th>             <td>   -0.0087</td> <td>    0.003</td> <td>   -3.386</td> <td> 0.001</td> <td>   -0.014</td> <td>   -0.004</td>\n",
       "</tr>\n",
       "<tr>\n",
       "  <th>star_rating:ratings</th> <td>    0.0019</td> <td>    0.001</td> <td>    3.067</td> <td> 0.002</td> <td>    0.001</td> <td>    0.003</td>\n",
       "</tr>\n",
       "</table>\n",
       "<table class=\"simpletable\">\n",
       "<tr>\n",
       "  <th>Omnibus:</th>       <td>310.472</td> <th>  Durbin-Watson:     </th> <td>   1.969</td> \n",
       "</tr>\n",
       "<tr>\n",
       "  <th>Prob(Omnibus):</th> <td> 0.000</td>  <th>  Jarque-Bera (JB):  </th> <td>1337.020</td> \n",
       "</tr>\n",
       "<tr>\n",
       "  <th>Skew:</th>          <td> 1.640</td>  <th>  Prob(JB):          </th> <td>4.67e-291</td>\n",
       "</tr>\n",
       "<tr>\n",
       "  <th>Kurtosis:</th>      <td> 8.149</td>  <th>  Cond. No.          </th> <td>9.35e+03</td> \n",
       "</tr>\n",
       "</table><br/><br/>Notes:<br/>[1] Standard Errors assume that the covariance matrix of the errors is correctly specified.<br/>[2] The condition number is large, 9.35e+03. This might indicate that there are<br/>strong multicollinearity or other numerical problems."
      ],
      "text/plain": [
       "<class 'statsmodels.iolib.summary.Summary'>\n",
       "\"\"\"\n",
       "                            OLS Regression Results                            \n",
       "==============================================================================\n",
       "Dep. Variable:                  Price   R-squared:                       0.034\n",
       "Model:                            OLS   Adj. R-squared:                  0.031\n",
       "Method:                 Least Squares   F-statistic:                     10.21\n",
       "Date:                Fri, 13 May 2022   Prob (F-statistic):           1.31e-06\n",
       "Time:                        10:03:00   Log-Likelihood:                -2890.9\n",
       "No. Observations:                 861   AIC:                             5790.\n",
       "Df Residuals:                     857   BIC:                             5809.\n",
       "Df Model:                           3                                         \n",
       "Covariance Type:            nonrobust                                         \n",
       "=======================================================================================\n",
       "                          coef    std err          t      P>|t|      [0.025      0.975]\n",
       "---------------------------------------------------------------------------------------\n",
       "Intercept              12.3145      0.428     28.795      0.000      11.475      13.154\n",
       "star_rating            -0.2233      0.123     -1.810      0.071      -0.466       0.019\n",
       "ratings                -0.0087      0.003     -3.386      0.001      -0.014      -0.004\n",
       "star_rating:ratings     0.0019      0.001      3.067      0.002       0.001       0.003\n",
       "==============================================================================\n",
       "Omnibus:                      310.472   Durbin-Watson:                   1.969\n",
       "Prob(Omnibus):                  0.000   Jarque-Bera (JB):             1337.020\n",
       "Skew:                           1.640   Prob(JB):                    4.67e-291\n",
       "Kurtosis:                       8.149   Cond. No.                     9.35e+03\n",
       "==============================================================================\n",
       "\n",
       "Notes:\n",
       "[1] Standard Errors assume that the covariance matrix of the errors is correctly specified.\n",
       "[2] The condition number is large, 9.35e+03. This might indicate that there are\n",
       "strong multicollinearity or other numerical problems.\n",
       "\"\"\""
      ]
     },
     "execution_count": 23,
     "metadata": {},
     "output_type": "execute_result"
    }
   ],
   "source": [
    "import statsmodels.formula.api as smf\n",
    "\n",
    "# OLS model with intercept\n",
    "OLS_smf_4 = smf.ols(formula = \"Price ~ star_rating * ratings\", data = Laptop_df)\n",
    "\n",
    "OLS_smf_4_results = OLS_smf_4.fit()\n",
    "OLS_smf_4_results.summary()"
   ]
  },
  {
   "cell_type": "markdown",
   "id": "ff08d1e4",
   "metadata": {},
   "source": [
    "The R-squared value is very low. This indicates that the model explains approximately none of the variability of the response data around its mean."
   ]
  },
  {
   "cell_type": "markdown",
   "id": "7b04d3bd",
   "metadata": {},
   "source": [
    "### 2] Use Quantitative and Qualitative Predictors"
   ]
  },
  {
   "cell_type": "markdown",
   "id": "69c3da08",
   "metadata": {},
   "source": [
    "The representative processor brands are Intel and AMD, which are reflected in these datasets. Most products use Intel or AMD processors, and there are not many that do not. So I chose 'the processor brand' as a qualitative predictor."
   ]
  },
  {
   "cell_type": "code",
   "execution_count": 24,
   "id": "85cc7dcd",
   "metadata": {},
   "outputs": [
    {
     "data": {
      "text/html": [
       "<div>\n",
       "<style scoped>\n",
       "    .dataframe tbody tr th:only-of-type {\n",
       "        vertical-align: middle;\n",
       "    }\n",
       "\n",
       "    .dataframe tbody tr th {\n",
       "        vertical-align: top;\n",
       "    }\n",
       "\n",
       "    .dataframe thead th {\n",
       "        text-align: right;\n",
       "    }\n",
       "</style>\n",
       "<table border=\"1\" class=\"dataframe\">\n",
       "  <thead>\n",
       "    <tr style=\"text-align: right;\">\n",
       "      <th></th>\n",
       "      <th>brand</th>\n",
       "      <th>model</th>\n",
       "      <th>processor_brand</th>\n",
       "      <th>processor_name</th>\n",
       "      <th>Touchscreen</th>\n",
       "      <th>msoffice</th>\n",
       "      <th>weight</th>\n",
       "      <th>RAM</th>\n",
       "      <th>SSD</th>\n",
       "      <th>HDD</th>\n",
       "      <th>Graphic_card</th>\n",
       "      <th>display_size</th>\n",
       "      <th>star_rating</th>\n",
       "      <th>ratings</th>\n",
       "      <th>reviews</th>\n",
       "      <th>Price</th>\n",
       "    </tr>\n",
       "  </thead>\n",
       "  <tbody>\n",
       "    <tr>\n",
       "      <th>0</th>\n",
       "      <td>ASUS</td>\n",
       "      <td>Celeron</td>\n",
       "      <td>Intel</td>\n",
       "      <td>Celeron Dual</td>\n",
       "      <td>No</td>\n",
       "      <td>No</td>\n",
       "      <td>Casual</td>\n",
       "      <td>4.00</td>\n",
       "      <td>0</td>\n",
       "      <td>1024</td>\n",
       "      <td>0</td>\n",
       "      <td>15.60</td>\n",
       "      <td>3.80</td>\n",
       "      <td>15279</td>\n",
       "      <td>1947</td>\n",
       "      <td>3.51</td>\n",
       "    </tr>\n",
       "    <tr>\n",
       "      <th>1</th>\n",
       "      <td>ASUS</td>\n",
       "      <td>VivoBook</td>\n",
       "      <td>Intel</td>\n",
       "      <td>Core i3</td>\n",
       "      <td>No</td>\n",
       "      <td>No</td>\n",
       "      <td>Casual</td>\n",
       "      <td>8.00</td>\n",
       "      <td>512</td>\n",
       "      <td>0</td>\n",
       "      <td>0</td>\n",
       "      <td>15.60</td>\n",
       "      <td>4.30</td>\n",
       "      <td>990</td>\n",
       "      <td>108</td>\n",
       "      <td>6.63</td>\n",
       "    </tr>\n",
       "    <tr>\n",
       "      <th>2</th>\n",
       "      <td>ASUS</td>\n",
       "      <td>Vivobook</td>\n",
       "      <td>Intel</td>\n",
       "      <td>Core i3</td>\n",
       "      <td>No</td>\n",
       "      <td>No</td>\n",
       "      <td>Casual</td>\n",
       "      <td>8.00</td>\n",
       "      <td>0</td>\n",
       "      <td>1024</td>\n",
       "      <td>0</td>\n",
       "      <td>14.10</td>\n",
       "      <td>3.90</td>\n",
       "      <td>28</td>\n",
       "      <td>4</td>\n",
       "      <td>6.11</td>\n",
       "    </tr>\n",
       "    <tr>\n",
       "      <th>3</th>\n",
       "      <td>HP</td>\n",
       "      <td>Core</td>\n",
       "      <td>Intel</td>\n",
       "      <td>Core i3</td>\n",
       "      <td>No</td>\n",
       "      <td>Yes</td>\n",
       "      <td>ThinNlight</td>\n",
       "      <td>8.00</td>\n",
       "      <td>512</td>\n",
       "      <td>0</td>\n",
       "      <td>0</td>\n",
       "      <td>15.60</td>\n",
       "      <td>4.40</td>\n",
       "      <td>158</td>\n",
       "      <td>18</td>\n",
       "      <td>7.45</td>\n",
       "    </tr>\n",
       "    <tr>\n",
       "      <th>4</th>\n",
       "      <td>HP</td>\n",
       "      <td>Core</td>\n",
       "      <td>Intel</td>\n",
       "      <td>Core i5</td>\n",
       "      <td>No</td>\n",
       "      <td>No</td>\n",
       "      <td>ThinNlight</td>\n",
       "      <td>8.00</td>\n",
       "      <td>512</td>\n",
       "      <td>0</td>\n",
       "      <td>0</td>\n",
       "      <td>15.60</td>\n",
       "      <td>4.20</td>\n",
       "      <td>116</td>\n",
       "      <td>15</td>\n",
       "      <td>9.12</td>\n",
       "    </tr>\n",
       "    <tr>\n",
       "      <th>5</th>\n",
       "      <td>Lenovo</td>\n",
       "      <td>IdeaPad</td>\n",
       "      <td>Intel</td>\n",
       "      <td>Core i3</td>\n",
       "      <td>No</td>\n",
       "      <td>Yes</td>\n",
       "      <td>ThinNlight</td>\n",
       "      <td>8.00</td>\n",
       "      <td>0</td>\n",
       "      <td>1024</td>\n",
       "      <td>0</td>\n",
       "      <td>15.60</td>\n",
       "      <td>4.00</td>\n",
       "      <td>2124</td>\n",
       "      <td>233</td>\n",
       "      <td>7.45</td>\n",
       "    </tr>\n",
       "    <tr>\n",
       "      <th>6</th>\n",
       "      <td>HP</td>\n",
       "      <td>15s</td>\n",
       "      <td>AMD</td>\n",
       "      <td>Ryzen 3</td>\n",
       "      <td>No</td>\n",
       "      <td>Yes</td>\n",
       "      <td>Casual</td>\n",
       "      <td>8.00</td>\n",
       "      <td>256</td>\n",
       "      <td>1024</td>\n",
       "      <td>0</td>\n",
       "      <td>15.60</td>\n",
       "      <td>4.30</td>\n",
       "      <td>3524</td>\n",
       "      <td>432</td>\n",
       "      <td>6.28</td>\n",
       "    </tr>\n",
       "    <tr>\n",
       "      <th>7</th>\n",
       "      <td>ASUS</td>\n",
       "      <td>Core</td>\n",
       "      <td>Intel</td>\n",
       "      <td>Core i3</td>\n",
       "      <td>No</td>\n",
       "      <td>No</td>\n",
       "      <td>ThinNlight</td>\n",
       "      <td>4.00</td>\n",
       "      <td>256</td>\n",
       "      <td>0</td>\n",
       "      <td>0</td>\n",
       "      <td>14.00</td>\n",
       "      <td>4.10</td>\n",
       "      <td>37</td>\n",
       "      <td>6</td>\n",
       "      <td>6.50</td>\n",
       "    </tr>\n",
       "    <tr>\n",
       "      <th>8</th>\n",
       "      <td>DELL</td>\n",
       "      <td>Vostro</td>\n",
       "      <td>Intel</td>\n",
       "      <td>Core i3</td>\n",
       "      <td>No</td>\n",
       "      <td>Yes</td>\n",
       "      <td>ThinNlight</td>\n",
       "      <td>8.00</td>\n",
       "      <td>256</td>\n",
       "      <td>1024</td>\n",
       "      <td>0</td>\n",
       "      <td>15.60</td>\n",
       "      <td>5.00</td>\n",
       "      <td>7</td>\n",
       "      <td>5</td>\n",
       "      <td>7.12</td>\n",
       "    </tr>\n",
       "    <tr>\n",
       "      <th>9</th>\n",
       "      <td>Lenovo</td>\n",
       "      <td>IdeaPad</td>\n",
       "      <td>Intel</td>\n",
       "      <td>Core i3</td>\n",
       "      <td>No</td>\n",
       "      <td>Yes</td>\n",
       "      <td>ThinNlight</td>\n",
       "      <td>8.00</td>\n",
       "      <td>256</td>\n",
       "      <td>0</td>\n",
       "      <td>0</td>\n",
       "      <td>15.60</td>\n",
       "      <td>4.30</td>\n",
       "      <td>2080</td>\n",
       "      <td>235</td>\n",
       "      <td>7.54</td>\n",
       "    </tr>\n",
       "  </tbody>\n",
       "</table>\n",
       "</div>"
      ],
      "text/plain": [
       "    brand     model processor_brand processor_name Touchscreen msoffice  \\\n",
       "0    ASUS   Celeron           Intel   Celeron Dual          No       No   \n",
       "1    ASUS  VivoBook           Intel        Core i3          No       No   \n",
       "2    ASUS  Vivobook           Intel        Core i3          No       No   \n",
       "3      HP      Core           Intel        Core i3          No      Yes   \n",
       "4      HP      Core           Intel        Core i5          No       No   \n",
       "5  Lenovo   IdeaPad           Intel        Core i3          No      Yes   \n",
       "6      HP       15s             AMD        Ryzen 3          No      Yes   \n",
       "7    ASUS      Core           Intel        Core i3          No       No   \n",
       "8    DELL    Vostro           Intel        Core i3          No      Yes   \n",
       "9  Lenovo   IdeaPad           Intel        Core i3          No      Yes   \n",
       "\n",
       "       weight                  RAM  SSD   HDD  Graphic_card  \\\n",
       "0      Casual                 4.00    0  1024             0   \n",
       "1      Casual                 8.00  512     0             0   \n",
       "2      Casual                 8.00    0  1024             0   \n",
       "3  ThinNlight                 8.00  512     0             0   \n",
       "4  ThinNlight                 8.00  512     0             0   \n",
       "5  ThinNlight                 8.00    0  1024             0   \n",
       "6      Casual                 8.00  256  1024             0   \n",
       "7  ThinNlight                 4.00  256     0             0   \n",
       "8  ThinNlight                 8.00  256  1024             0   \n",
       "9  ThinNlight                 8.00  256     0             0   \n",
       "\n",
       "          display_size          star_rating  ratings  reviews  \\\n",
       "0                15.60                 3.80    15279     1947   \n",
       "1                15.60                 4.30      990      108   \n",
       "2                14.10                 3.90       28        4   \n",
       "3                15.60                 4.40      158       18   \n",
       "4                15.60                 4.20      116       15   \n",
       "5                15.60                 4.00     2124      233   \n",
       "6                15.60                 4.30     3524      432   \n",
       "7                14.00                 4.10       37        6   \n",
       "8                15.60                 5.00        7        5   \n",
       "9                15.60                 4.30     2080      235   \n",
       "\n",
       "                 Price  \n",
       "0                 3.51  \n",
       "1                 6.63  \n",
       "2                 6.11  \n",
       "3                 7.45  \n",
       "4                 9.12  \n",
       "5                 7.45  \n",
       "6                 6.28  \n",
       "7                 6.50  \n",
       "8                 7.12  \n",
       "9                 7.54  "
      ]
     },
     "execution_count": 24,
     "metadata": {},
     "output_type": "execute_result"
    }
   ],
   "source": [
    "# Data filtering\n",
    "# Remove rows that do not contain Intel or AMD.\n",
    "\n",
    "processor_list = [\"Intel\", \"AMD\"]\n",
    "join_list = '|'.join(processor_list)\n",
    "\n",
    "Laptop_df = Laptop_df[Laptop_df[\"processor_brand\"].str.contains(join_list)]\n",
    "\n",
    "Laptop_df.head(10) # test."
   ]
  },
  {
   "cell_type": "code",
   "execution_count": 25,
   "id": "5e9fc9dd",
   "metadata": {},
   "outputs": [
    {
     "name": "stdout",
     "output_type": "stream",
     "text": [
      "The number of rows : 827\n"
     ]
    }
   ],
   "source": [
    "# See the number of rows\n",
    "print(\"The number of rows :\", len(Laptop_df))"
   ]
  },
  {
   "cell_type": "code",
   "execution_count": 26,
   "id": "99e33b8b",
   "metadata": {
    "scrolled": false
   },
   "outputs": [],
   "source": [
    "def ols_formula(df, dependent_var, *excluded_cols):\n",
    "    \"\"\"\n",
    "    Generates the R style formula for statsmodels (patsy) given\n",
    "    the dataframe, dependent variable and optional excluded columns \n",
    "    as strings\n",
    "    \"\"\"\n",
    "    df_columns = list(df.columns.values)\n",
    "    df_columns.remove(dependent_var)\n",
    "    for col in excluded_cols:\n",
    "        df_columns.remove(col)\n",
    "    return dependent_var + ' ~ ' + ' + '.join(df_columns)"
   ]
  },
  {
   "cell_type": "markdown",
   "id": "b2fbd42e",
   "metadata": {},
   "source": [
    "#### 1. Using a dummy variable: processor_brand"
   ]
  },
  {
   "cell_type": "code",
   "execution_count": 27,
   "id": "55df813a",
   "metadata": {
    "scrolled": false
   },
   "outputs": [
    {
     "data": {
      "text/html": [
       "<table class=\"simpletable\">\n",
       "<caption>OLS Regression Results</caption>\n",
       "<tr>\n",
       "  <th>Dep. Variable:</th>          <td>Price</td>      <th>  R-squared:         </th> <td>   0.363</td>\n",
       "</tr>\n",
       "<tr>\n",
       "  <th>Model:</th>                   <td>OLS</td>       <th>  Adj. R-squared:    </th> <td>   0.360</td>\n",
       "</tr>\n",
       "<tr>\n",
       "  <th>Method:</th>             <td>Least Squares</td>  <th>  F-statistic:       </th> <td>   117.0</td>\n",
       "</tr>\n",
       "<tr>\n",
       "  <th>Date:</th>             <td>Fri, 13 May 2022</td> <th>  Prob (F-statistic):</th> <td>5.28e-79</td>\n",
       "</tr>\n",
       "<tr>\n",
       "  <th>Time:</th>                 <td>10:03:00</td>     <th>  Log-Likelihood:    </th> <td> -2547.2</td>\n",
       "</tr>\n",
       "<tr>\n",
       "  <th>No. Observations:</th>      <td>   827</td>      <th>  AIC:               </th> <td>   5104.</td>\n",
       "</tr>\n",
       "<tr>\n",
       "  <th>Df Residuals:</th>          <td>   822</td>      <th>  BIC:               </th> <td>   5128.</td>\n",
       "</tr>\n",
       "<tr>\n",
       "  <th>Df Model:</th>              <td>     4</td>      <th>                     </th>     <td> </td>   \n",
       "</tr>\n",
       "<tr>\n",
       "  <th>Covariance Type:</th>      <td>nonrobust</td>    <th>                     </th>     <td> </td>   \n",
       "</tr>\n",
       "</table>\n",
       "<table class=\"simpletable\">\n",
       "<tr>\n",
       "               <td></td>                  <th>coef</th>     <th>std err</th>      <th>t</th>      <th>P>|t|</th>  <th>[0.025</th>    <th>0.975]</th>  \n",
       "</tr>\n",
       "<tr>\n",
       "  <th>Intercept</th>                   <td>    4.1658</td> <td>    0.573</td> <td>    7.269</td> <td> 0.000</td> <td>    3.041</td> <td>    5.291</td>\n",
       "</tr>\n",
       "<tr>\n",
       "  <th>C(processor_brand)[T.Intel]</th> <td>    0.5802</td> <td>    0.433</td> <td>    1.341</td> <td> 0.180</td> <td>   -0.269</td> <td>    1.429</td>\n",
       "</tr>\n",
       "<tr>\n",
       "  <th>SSD</th>                         <td>    0.0136</td> <td>    0.001</td> <td>   18.673</td> <td> 0.000</td> <td>    0.012</td> <td>    0.015</td>\n",
       "</tr>\n",
       "<tr>\n",
       "  <th>HDD</th>                         <td>    0.0007</td> <td>    0.001</td> <td>    1.100</td> <td> 0.272</td> <td>   -0.001</td> <td>    0.002</td>\n",
       "</tr>\n",
       "<tr>\n",
       "  <th>SSD:HDD</th>                     <td> 4.055e-06</td> <td> 2.96e-06</td> <td>    1.369</td> <td> 0.171</td> <td>-1.76e-06</td> <td> 9.87e-06</td>\n",
       "</tr>\n",
       "</table>\n",
       "<table class=\"simpletable\">\n",
       "<tr>\n",
       "  <th>Omnibus:</th>       <td>191.024</td> <th>  Durbin-Watson:     </th> <td>   1.957</td>\n",
       "</tr>\n",
       "<tr>\n",
       "  <th>Prob(Omnibus):</th> <td> 0.000</td>  <th>  Jarque-Bera (JB):  </th> <td>6845.787</td>\n",
       "</tr>\n",
       "<tr>\n",
       "  <th>Skew:</th>          <td>-0.169</td>  <th>  Prob(JB):          </th> <td>    0.00</td>\n",
       "</tr>\n",
       "<tr>\n",
       "  <th>Kurtosis:</th>      <td>17.091</td>  <th>  Cond. No.          </th> <td>3.05e+05</td>\n",
       "</tr>\n",
       "</table><br/><br/>Notes:<br/>[1] Standard Errors assume that the covariance matrix of the errors is correctly specified.<br/>[2] The condition number is large, 3.05e+05. This might indicate that there are<br/>strong multicollinearity or other numerical problems."
      ],
      "text/plain": [
       "<class 'statsmodels.iolib.summary.Summary'>\n",
       "\"\"\"\n",
       "                            OLS Regression Results                            \n",
       "==============================================================================\n",
       "Dep. Variable:                  Price   R-squared:                       0.363\n",
       "Model:                            OLS   Adj. R-squared:                  0.360\n",
       "Method:                 Least Squares   F-statistic:                     117.0\n",
       "Date:                Fri, 13 May 2022   Prob (F-statistic):           5.28e-79\n",
       "Time:                        10:03:00   Log-Likelihood:                -2547.2\n",
       "No. Observations:                 827   AIC:                             5104.\n",
       "Df Residuals:                     822   BIC:                             5128.\n",
       "Df Model:                           4                                         \n",
       "Covariance Type:            nonrobust                                         \n",
       "===============================================================================================\n",
       "                                  coef    std err          t      P>|t|      [0.025      0.975]\n",
       "-----------------------------------------------------------------------------------------------\n",
       "Intercept                       4.1658      0.573      7.269      0.000       3.041       5.291\n",
       "C(processor_brand)[T.Intel]     0.5802      0.433      1.341      0.180      -0.269       1.429\n",
       "SSD                             0.0136      0.001     18.673      0.000       0.012       0.015\n",
       "HDD                             0.0007      0.001      1.100      0.272      -0.001       0.002\n",
       "SSD:HDD                      4.055e-06   2.96e-06      1.369      0.171   -1.76e-06    9.87e-06\n",
       "==============================================================================\n",
       "Omnibus:                      191.024   Durbin-Watson:                   1.957\n",
       "Prob(Omnibus):                  0.000   Jarque-Bera (JB):             6845.787\n",
       "Skew:                          -0.169   Prob(JB):                         0.00\n",
       "Kurtosis:                      17.091   Cond. No.                     3.05e+05\n",
       "==============================================================================\n",
       "\n",
       "Notes:\n",
       "[1] Standard Errors assume that the covariance matrix of the errors is correctly specified.\n",
       "[2] The condition number is large, 3.05e+05. This might indicate that there are\n",
       "strong multicollinearity or other numerical problems.\n",
       "\"\"\""
      ]
     },
     "execution_count": 27,
     "metadata": {},
     "output_type": "execute_result"
    }
   ],
   "source": [
    "# use three variables: processor_brand(qualitative), SSD.HDD(quantitative)\n",
    "\n",
    "# add synergy term: SSD:HDD, RAM:Graphic_card\n",
    "form = ols_formula(Laptop_df, \"Price\", \"brand\", \"model\", \"processor_brand\", \"processor_name\",\n",
    "                  \"weight\", \"Touchscreen\", \"msoffice\", \"RAM\",\n",
    "                  \"Graphic_card\", \"display_size\", \"star_rating\",\n",
    "                  \"ratings\", \"reviews\") + \" + SSD:HDD + C(processor_brand) \"\n",
    "ols_smf = smf.ols(formula = form, data = Laptop_df)\n",
    "\n",
    "# fitted model and summary\n",
    "ols_smf_results = ols_smf.fit()\n",
    "ols_smf_results.summary()"
   ]
  },
  {
   "cell_type": "code",
   "execution_count": 28,
   "id": "5f493a65",
   "metadata": {},
   "outputs": [
    {
     "data": {
      "text/html": [
       "<table class=\"simpletable\">\n",
       "<caption>OLS Regression Results</caption>\n",
       "<tr>\n",
       "  <th>Dep. Variable:</th>          <td>Price</td>      <th>  R-squared:         </th> <td>   0.528</td> \n",
       "</tr>\n",
       "<tr>\n",
       "  <th>Model:</th>                   <td>OLS</td>       <th>  Adj. R-squared:    </th> <td>   0.522</td> \n",
       "</tr>\n",
       "<tr>\n",
       "  <th>Method:</th>             <td>Least Squares</td>  <th>  F-statistic:       </th> <td>   82.91</td> \n",
       "</tr>\n",
       "<tr>\n",
       "  <th>Date:</th>             <td>Fri, 13 May 2022</td> <th>  Prob (F-statistic):</th> <td>7.88e-125</td>\n",
       "</tr>\n",
       "<tr>\n",
       "  <th>Time:</th>                 <td>10:03:00</td>     <th>  Log-Likelihood:    </th> <td> -2423.0</td> \n",
       "</tr>\n",
       "<tr>\n",
       "  <th>No. Observations:</th>      <td>   827</td>      <th>  AIC:               </th> <td>   4870.</td> \n",
       "</tr>\n",
       "<tr>\n",
       "  <th>Df Residuals:</th>          <td>   815</td>      <th>  BIC:               </th> <td>   4927.</td> \n",
       "</tr>\n",
       "<tr>\n",
       "  <th>Df Model:</th>              <td>    11</td>      <th>                     </th>     <td> </td>    \n",
       "</tr>\n",
       "<tr>\n",
       "  <th>Covariance Type:</th>      <td>nonrobust</td>    <th>                     </th>     <td> </td>    \n",
       "</tr>\n",
       "</table>\n",
       "<table class=\"simpletable\">\n",
       "<tr>\n",
       "               <td></td>                  <th>coef</th>     <th>std err</th>      <th>t</th>      <th>P>|t|</th>  <th>[0.025</th>    <th>0.975]</th>  \n",
       "</tr>\n",
       "<tr>\n",
       "  <th>Intercept</th>                   <td>    3.5752</td> <td>    1.115</td> <td>    3.206</td> <td> 0.001</td> <td>    1.387</td> <td>    5.764</td>\n",
       "</tr>\n",
       "<tr>\n",
       "  <th>C(processor_brand)[T.Intel]</th> <td>    0.6920</td> <td>    0.376</td> <td>    1.842</td> <td> 0.066</td> <td>   -0.046</td> <td>    1.430</td>\n",
       "</tr>\n",
       "<tr>\n",
       "  <th>RAM</th>                         <td>    0.4772</td> <td>    0.054</td> <td>    8.904</td> <td> 0.000</td> <td>    0.372</td> <td>    0.582</td>\n",
       "</tr>\n",
       "<tr>\n",
       "  <th>SSD</th>                         <td>    0.0057</td> <td>    0.001</td> <td>    6.935</td> <td> 0.000</td> <td>    0.004</td> <td>    0.007</td>\n",
       "</tr>\n",
       "<tr>\n",
       "  <th>HDD</th>                         <td>   -0.0007</td> <td>    0.001</td> <td>   -1.140</td> <td> 0.255</td> <td>   -0.002</td> <td>    0.001</td>\n",
       "</tr>\n",
       "<tr>\n",
       "  <th>Graphic_card</th>                <td>    0.3770</td> <td>    0.203</td> <td>    1.861</td> <td> 0.063</td> <td>   -0.021</td> <td>    0.775</td>\n",
       "</tr>\n",
       "<tr>\n",
       "  <th>display_size</th>                <td>   -0.0556</td> <td>    0.070</td> <td>   -0.789</td> <td> 0.430</td> <td>   -0.194</td> <td>    0.083</td>\n",
       "</tr>\n",
       "<tr>\n",
       "  <th>star_rating</th>                 <td>   -0.1361</td> <td>    0.083</td> <td>   -1.633</td> <td> 0.103</td> <td>   -0.300</td> <td>    0.028</td>\n",
       "</tr>\n",
       "<tr>\n",
       "  <th>ratings</th>                     <td>    0.0005</td> <td>    0.001</td> <td>    0.469</td> <td> 0.639</td> <td>   -0.002</td> <td>    0.002</td>\n",
       "</tr>\n",
       "<tr>\n",
       "  <th>reviews</th>                     <td>   -0.0051</td> <td>    0.008</td> <td>   -0.633</td> <td> 0.527</td> <td>   -0.021</td> <td>    0.011</td>\n",
       "</tr>\n",
       "<tr>\n",
       "  <th>SSD:HDD</th>                     <td> 4.754e-06</td> <td> 2.59e-06</td> <td>    1.834</td> <td> 0.067</td> <td>-3.34e-07</td> <td> 9.84e-06</td>\n",
       "</tr>\n",
       "<tr>\n",
       "  <th>RAM:Graphic_card</th>            <td>    0.0253</td> <td>    0.014</td> <td>    1.872</td> <td> 0.062</td> <td>   -0.001</td> <td>    0.052</td>\n",
       "</tr>\n",
       "</table>\n",
       "<table class=\"simpletable\">\n",
       "<tr>\n",
       "  <th>Omnibus:</th>       <td>316.592</td> <th>  Durbin-Watson:     </th> <td>   2.025</td>\n",
       "</tr>\n",
       "<tr>\n",
       "  <th>Prob(Omnibus):</th> <td> 0.000</td>  <th>  Jarque-Bera (JB):  </th> <td>7179.462</td>\n",
       "</tr>\n",
       "<tr>\n",
       "  <th>Skew:</th>          <td>-1.186</td>  <th>  Prob(JB):          </th> <td>    0.00</td>\n",
       "</tr>\n",
       "<tr>\n",
       "  <th>Kurtosis:</th>      <td>17.238</td>  <th>  Cond. No.          </th> <td>6.04e+05</td>\n",
       "</tr>\n",
       "</table><br/><br/>Notes:<br/>[1] Standard Errors assume that the covariance matrix of the errors is correctly specified.<br/>[2] The condition number is large, 6.04e+05. This might indicate that there are<br/>strong multicollinearity or other numerical problems."
      ],
      "text/plain": [
       "<class 'statsmodels.iolib.summary.Summary'>\n",
       "\"\"\"\n",
       "                            OLS Regression Results                            \n",
       "==============================================================================\n",
       "Dep. Variable:                  Price   R-squared:                       0.528\n",
       "Model:                            OLS   Adj. R-squared:                  0.522\n",
       "Method:                 Least Squares   F-statistic:                     82.91\n",
       "Date:                Fri, 13 May 2022   Prob (F-statistic):          7.88e-125\n",
       "Time:                        10:03:00   Log-Likelihood:                -2423.0\n",
       "No. Observations:                 827   AIC:                             4870.\n",
       "Df Residuals:                     815   BIC:                             4927.\n",
       "Df Model:                          11                                         \n",
       "Covariance Type:            nonrobust                                         \n",
       "===============================================================================================\n",
       "                                  coef    std err          t      P>|t|      [0.025      0.975]\n",
       "-----------------------------------------------------------------------------------------------\n",
       "Intercept                       3.5752      1.115      3.206      0.001       1.387       5.764\n",
       "C(processor_brand)[T.Intel]     0.6920      0.376      1.842      0.066      -0.046       1.430\n",
       "RAM                             0.4772      0.054      8.904      0.000       0.372       0.582\n",
       "SSD                             0.0057      0.001      6.935      0.000       0.004       0.007\n",
       "HDD                            -0.0007      0.001     -1.140      0.255      -0.002       0.001\n",
       "Graphic_card                    0.3770      0.203      1.861      0.063      -0.021       0.775\n",
       "display_size                   -0.0556      0.070     -0.789      0.430      -0.194       0.083\n",
       "star_rating                    -0.1361      0.083     -1.633      0.103      -0.300       0.028\n",
       "ratings                         0.0005      0.001      0.469      0.639      -0.002       0.002\n",
       "reviews                        -0.0051      0.008     -0.633      0.527      -0.021       0.011\n",
       "SSD:HDD                      4.754e-06   2.59e-06      1.834      0.067   -3.34e-07    9.84e-06\n",
       "RAM:Graphic_card                0.0253      0.014      1.872      0.062      -0.001       0.052\n",
       "==============================================================================\n",
       "Omnibus:                      316.592   Durbin-Watson:                   2.025\n",
       "Prob(Omnibus):                  0.000   Jarque-Bera (JB):             7179.462\n",
       "Skew:                          -1.186   Prob(JB):                         0.00\n",
       "Kurtosis:                      17.238   Cond. No.                     6.04e+05\n",
       "==============================================================================\n",
       "\n",
       "Notes:\n",
       "[1] Standard Errors assume that the covariance matrix of the errors is correctly specified.\n",
       "[2] The condition number is large, 6.04e+05. This might indicate that there are\n",
       "strong multicollinearity or other numerical problems.\n",
       "\"\"\""
      ]
     },
     "execution_count": 28,
     "metadata": {},
     "output_type": "execute_result"
    }
   ],
   "source": [
    "# Erase qualitative predictors\n",
    "# add synergy term: SSD:HDD, RAM:Graphic_card\n",
    "form = ols_formula(Laptop_df, \"Price\", \"brand\", \"model\", \"processor_brand\", \"processor_name\",\n",
    "                  \"weight\", \"Touchscreen\", \"msoffice\") + \" + SSD:HDD \\\n",
    "                    + RAM:Graphic_card + C(processor_brand) \"\n",
    "ols_smf = smf.ols(formula = form, data = Laptop_df)\n",
    "\n",
    "# fitted model and summary\n",
    "ols_smf_results = ols_smf.fit()\n",
    "ols_smf_results.summary()"
   ]
  },
  {
   "cell_type": "markdown",
   "id": "152bca0d",
   "metadata": {},
   "source": [
    "* The 𝑝-values associated with RAM, SSD, Graphic_card and the interaction term SSD*HDD, RAM:Graphic_card, and the dummy variable for processor_brand status are very small, indicating that each of these variables is associated with the probability of the Price.\n",
    "* The p-value of star_rating is somewhat small, but it had a negative coefficient. So, for a fixed price value, the star_rating is less likely to estimate."
   ]
  },
  {
   "cell_type": "markdown",
   "id": "02d383cd",
   "metadata": {},
   "source": [
    "#### Using two dummy variables: processor_brand, weight"
   ]
  },
  {
   "cell_type": "code",
   "execution_count": 29,
   "id": "50aeda54",
   "metadata": {},
   "outputs": [
    {
     "data": {
      "text/html": [
       "<table class=\"simpletable\">\n",
       "<caption>OLS Regression Results</caption>\n",
       "<tr>\n",
       "  <th>Dep. Variable:</th>          <td>Price</td>      <th>  R-squared:         </th> <td>   0.532</td> \n",
       "</tr>\n",
       "<tr>\n",
       "  <th>Model:</th>                   <td>OLS</td>       <th>  Adj. R-squared:    </th> <td>   0.524</td> \n",
       "</tr>\n",
       "<tr>\n",
       "  <th>Method:</th>             <td>Least Squares</td>  <th>  F-statistic:       </th> <td>   70.96</td> \n",
       "</tr>\n",
       "<tr>\n",
       "  <th>Date:</th>             <td>Fri, 13 May 2022</td> <th>  Prob (F-statistic):</th> <td>3.43e-124</td>\n",
       "</tr>\n",
       "<tr>\n",
       "  <th>Time:</th>                 <td>10:03:00</td>     <th>  Log-Likelihood:    </th> <td> -2420.0</td> \n",
       "</tr>\n",
       "<tr>\n",
       "  <th>No. Observations:</th>      <td>   827</td>      <th>  AIC:               </th> <td>   4868.</td> \n",
       "</tr>\n",
       "<tr>\n",
       "  <th>Df Residuals:</th>          <td>   813</td>      <th>  BIC:               </th> <td>   4934.</td> \n",
       "</tr>\n",
       "<tr>\n",
       "  <th>Df Model:</th>              <td>    13</td>      <th>                     </th>     <td> </td>    \n",
       "</tr>\n",
       "<tr>\n",
       "  <th>Covariance Type:</th>      <td>nonrobust</td>    <th>                     </th>     <td> </td>    \n",
       "</tr>\n",
       "</table>\n",
       "<table class=\"simpletable\">\n",
       "<tr>\n",
       "               <td></td>                  <th>coef</th>     <th>std err</th>      <th>t</th>      <th>P>|t|</th>  <th>[0.025</th>    <th>0.975]</th>  \n",
       "</tr>\n",
       "<tr>\n",
       "  <th>Intercept</th>                   <td>    3.6136</td> <td>    1.117</td> <td>    3.236</td> <td> 0.001</td> <td>    1.422</td> <td>    5.806</td>\n",
       "</tr>\n",
       "<tr>\n",
       "  <th>C(processor_brand)[T.Intel]</th> <td>    0.7136</td> <td>    0.375</td> <td>    1.903</td> <td> 0.057</td> <td>   -0.022</td> <td>    1.450</td>\n",
       "</tr>\n",
       "<tr>\n",
       "  <th>C(weight)[T.Gaming]</th>         <td>   -0.5728</td> <td>    0.836</td> <td>   -0.685</td> <td> 0.493</td> <td>   -2.214</td> <td>    1.068</td>\n",
       "</tr>\n",
       "<tr>\n",
       "  <th>C(weight)[T.ThinNlight]</th>     <td>   -0.8831</td> <td>    0.372</td> <td>   -2.372</td> <td> 0.018</td> <td>   -1.614</td> <td>   -0.152</td>\n",
       "</tr>\n",
       "<tr>\n",
       "  <th>RAM</th>                         <td>    0.4674</td> <td>    0.054</td> <td>    8.697</td> <td> 0.000</td> <td>    0.362</td> <td>    0.573</td>\n",
       "</tr>\n",
       "<tr>\n",
       "  <th>SSD</th>                         <td>    0.0056</td> <td>    0.001</td> <td>    6.797</td> <td> 0.000</td> <td>    0.004</td> <td>    0.007</td>\n",
       "</tr>\n",
       "<tr>\n",
       "  <th>HDD</th>                         <td>   -0.0009</td> <td>    0.001</td> <td>   -1.439</td> <td> 0.151</td> <td>   -0.002</td> <td>    0.000</td>\n",
       "</tr>\n",
       "<tr>\n",
       "  <th>Graphic_card</th>                <td>    0.2852</td> <td>    0.224</td> <td>    1.272</td> <td> 0.204</td> <td>   -0.155</td> <td>    0.725</td>\n",
       "</tr>\n",
       "<tr>\n",
       "  <th>display_size</th>                <td>   -0.0216</td> <td>    0.072</td> <td>   -0.302</td> <td> 0.763</td> <td>   -0.162</td> <td>    0.119</td>\n",
       "</tr>\n",
       "<tr>\n",
       "  <th>star_rating</th>                 <td>   -0.1246</td> <td>    0.084</td> <td>   -1.487</td> <td> 0.137</td> <td>   -0.289</td> <td>    0.040</td>\n",
       "</tr>\n",
       "<tr>\n",
       "  <th>ratings</th>                     <td>    0.0006</td> <td>    0.001</td> <td>    0.572</td> <td> 0.567</td> <td>   -0.001</td> <td>    0.003</td>\n",
       "</tr>\n",
       "<tr>\n",
       "  <th>reviews</th>                     <td>   -0.0058</td> <td>    0.008</td> <td>   -0.719</td> <td> 0.472</td> <td>   -0.022</td> <td>    0.010</td>\n",
       "</tr>\n",
       "<tr>\n",
       "  <th>SSD:HDD</th>                     <td> 5.084e-06</td> <td> 2.59e-06</td> <td>    1.960</td> <td> 0.050</td> <td>-8.67e-09</td> <td> 1.02e-05</td>\n",
       "</tr>\n",
       "<tr>\n",
       "  <th>RAM:Graphic_card</th>            <td>    0.0275</td> <td>    0.014</td> <td>    1.971</td> <td> 0.049</td> <td>    0.000</td> <td>    0.055</td>\n",
       "</tr>\n",
       "</table>\n",
       "<table class=\"simpletable\">\n",
       "<tr>\n",
       "  <th>Omnibus:</th>       <td>321.638</td> <th>  Durbin-Watson:     </th> <td>   2.010</td>\n",
       "</tr>\n",
       "<tr>\n",
       "  <th>Prob(Omnibus):</th> <td> 0.000</td>  <th>  Jarque-Bera (JB):  </th> <td>7401.277</td>\n",
       "</tr>\n",
       "<tr>\n",
       "  <th>Skew:</th>          <td>-1.209</td>  <th>  Prob(JB):          </th> <td>    0.00</td>\n",
       "</tr>\n",
       "<tr>\n",
       "  <th>Kurtosis:</th>      <td>17.455</td>  <th>  Cond. No.          </th> <td>6.09e+05</td>\n",
       "</tr>\n",
       "</table><br/><br/>Notes:<br/>[1] Standard Errors assume that the covariance matrix of the errors is correctly specified.<br/>[2] The condition number is large, 6.09e+05. This might indicate that there are<br/>strong multicollinearity or other numerical problems."
      ],
      "text/plain": [
       "<class 'statsmodels.iolib.summary.Summary'>\n",
       "\"\"\"\n",
       "                            OLS Regression Results                            \n",
       "==============================================================================\n",
       "Dep. Variable:                  Price   R-squared:                       0.532\n",
       "Model:                            OLS   Adj. R-squared:                  0.524\n",
       "Method:                 Least Squares   F-statistic:                     70.96\n",
       "Date:                Fri, 13 May 2022   Prob (F-statistic):          3.43e-124\n",
       "Time:                        10:03:00   Log-Likelihood:                -2420.0\n",
       "No. Observations:                 827   AIC:                             4868.\n",
       "Df Residuals:                     813   BIC:                             4934.\n",
       "Df Model:                          13                                         \n",
       "Covariance Type:            nonrobust                                         \n",
       "===============================================================================================\n",
       "                                  coef    std err          t      P>|t|      [0.025      0.975]\n",
       "-----------------------------------------------------------------------------------------------\n",
       "Intercept                       3.6136      1.117      3.236      0.001       1.422       5.806\n",
       "C(processor_brand)[T.Intel]     0.7136      0.375      1.903      0.057      -0.022       1.450\n",
       "C(weight)[T.Gaming]            -0.5728      0.836     -0.685      0.493      -2.214       1.068\n",
       "C(weight)[T.ThinNlight]        -0.8831      0.372     -2.372      0.018      -1.614      -0.152\n",
       "RAM                             0.4674      0.054      8.697      0.000       0.362       0.573\n",
       "SSD                             0.0056      0.001      6.797      0.000       0.004       0.007\n",
       "HDD                            -0.0009      0.001     -1.439      0.151      -0.002       0.000\n",
       "Graphic_card                    0.2852      0.224      1.272      0.204      -0.155       0.725\n",
       "display_size                   -0.0216      0.072     -0.302      0.763      -0.162       0.119\n",
       "star_rating                    -0.1246      0.084     -1.487      0.137      -0.289       0.040\n",
       "ratings                         0.0006      0.001      0.572      0.567      -0.001       0.003\n",
       "reviews                        -0.0058      0.008     -0.719      0.472      -0.022       0.010\n",
       "SSD:HDD                      5.084e-06   2.59e-06      1.960      0.050   -8.67e-09    1.02e-05\n",
       "RAM:Graphic_card                0.0275      0.014      1.971      0.049       0.000       0.055\n",
       "==============================================================================\n",
       "Omnibus:                      321.638   Durbin-Watson:                   2.010\n",
       "Prob(Omnibus):                  0.000   Jarque-Bera (JB):             7401.277\n",
       "Skew:                          -1.209   Prob(JB):                         0.00\n",
       "Kurtosis:                      17.455   Cond. No.                     6.09e+05\n",
       "==============================================================================\n",
       "\n",
       "Notes:\n",
       "[1] Standard Errors assume that the covariance matrix of the errors is correctly specified.\n",
       "[2] The condition number is large, 6.09e+05. This might indicate that there are\n",
       "strong multicollinearity or other numerical problems.\n",
       "\"\"\""
      ]
     },
     "execution_count": 29,
     "metadata": {},
     "output_type": "execute_result"
    }
   ],
   "source": [
    "# Erase qualitative predictors\n",
    "# add synergy term: SSD:HDD, RAM:Graphic_card\n",
    "form = ols_formula(Laptop_df, \"Price\", \"brand\", \"model\", \"processor_brand\", \"processor_name\",\n",
    "                  \"weight\", \"Touchscreen\", \"msoffice\") + \" + SSD:HDD \\\n",
    "                    + RAM:Graphic_card + C(processor_brand) + C(weight) \"\n",
    "ols_smf = smf.ols(formula = form, data = Laptop_df)\n",
    "\n",
    "# fitted model and summary\n",
    "ols_smf_results = ols_smf.fit()\n",
    "ols_smf_results.summary()"
   ]
  },
  {
   "cell_type": "markdown",
   "id": "c98404e6",
   "metadata": {},
   "source": [
    "#### Using three dummy variables: processor_brand, weight, Touchscreen"
   ]
  },
  {
   "cell_type": "code",
   "execution_count": 30,
   "id": "ad7298c1",
   "metadata": {},
   "outputs": [
    {
     "data": {
      "text/html": [
       "<table class=\"simpletable\">\n",
       "<caption>OLS Regression Results</caption>\n",
       "<tr>\n",
       "  <th>Dep. Variable:</th>          <td>Price</td>      <th>  R-squared:         </th> <td>   0.544</td> \n",
       "</tr>\n",
       "<tr>\n",
       "  <th>Model:</th>                   <td>OLS</td>       <th>  Adj. R-squared:    </th> <td>   0.536</td> \n",
       "</tr>\n",
       "<tr>\n",
       "  <th>Method:</th>             <td>Least Squares</td>  <th>  F-statistic:       </th> <td>   69.28</td> \n",
       "</tr>\n",
       "<tr>\n",
       "  <th>Date:</th>             <td>Fri, 13 May 2022</td> <th>  Prob (F-statistic):</th> <td>4.56e-128</td>\n",
       "</tr>\n",
       "<tr>\n",
       "  <th>Time:</th>                 <td>10:03:00</td>     <th>  Log-Likelihood:    </th> <td> -2408.6</td> \n",
       "</tr>\n",
       "<tr>\n",
       "  <th>No. Observations:</th>      <td>   827</td>      <th>  AIC:               </th> <td>   4847.</td> \n",
       "</tr>\n",
       "<tr>\n",
       "  <th>Df Residuals:</th>          <td>   812</td>      <th>  BIC:               </th> <td>   4918.</td> \n",
       "</tr>\n",
       "<tr>\n",
       "  <th>Df Model:</th>              <td>    14</td>      <th>                     </th>     <td> </td>    \n",
       "</tr>\n",
       "<tr>\n",
       "  <th>Covariance Type:</th>      <td>nonrobust</td>    <th>                     </th>     <td> </td>    \n",
       "</tr>\n",
       "</table>\n",
       "<table class=\"simpletable\">\n",
       "<tr>\n",
       "               <td></td>                  <th>coef</th>     <th>std err</th>      <th>t</th>      <th>P>|t|</th>  <th>[0.025</th>    <th>0.975]</th>  \n",
       "</tr>\n",
       "<tr>\n",
       "  <th>Intercept</th>                   <td>    3.3432</td> <td>    1.104</td> <td>    3.029</td> <td> 0.003</td> <td>    1.177</td> <td>    5.509</td>\n",
       "</tr>\n",
       "<tr>\n",
       "  <th>C(processor_brand)[T.Intel]</th> <td>    0.6222</td> <td>    0.371</td> <td>    1.679</td> <td> 0.094</td> <td>   -0.105</td> <td>    1.349</td>\n",
       "</tr>\n",
       "<tr>\n",
       "  <th>C(weight)[T.Gaming]</th>         <td>   -0.4874</td> <td>    0.825</td> <td>   -0.591</td> <td> 0.555</td> <td>   -2.107</td> <td>    1.133</td>\n",
       "</tr>\n",
       "<tr>\n",
       "  <th>C(weight)[T.ThinNlight]</th>     <td>   -0.4307</td> <td>    0.379</td> <td>   -1.135</td> <td> 0.257</td> <td>   -1.176</td> <td>    0.314</td>\n",
       "</tr>\n",
       "<tr>\n",
       "  <th>C(Touchscreen)[T.Yes]</th>       <td>    2.5001</td> <td>    0.524</td> <td>    4.770</td> <td> 0.000</td> <td>    1.471</td> <td>    3.529</td>\n",
       "</tr>\n",
       "<tr>\n",
       "  <th>RAM</th>                         <td>    0.4127</td> <td>    0.054</td> <td>    7.605</td> <td> 0.000</td> <td>    0.306</td> <td>    0.519</td>\n",
       "</tr>\n",
       "<tr>\n",
       "  <th>SSD</th>                         <td>    0.0055</td> <td>    0.001</td> <td>    6.825</td> <td> 0.000</td> <td>    0.004</td> <td>    0.007</td>\n",
       "</tr>\n",
       "<tr>\n",
       "  <th>HDD</th>                         <td>   -0.0006</td> <td>    0.001</td> <td>   -1.044</td> <td> 0.297</td> <td>   -0.002</td> <td>    0.001</td>\n",
       "</tr>\n",
       "<tr>\n",
       "  <th>Graphic_card</th>                <td>    0.3942</td> <td>    0.222</td> <td>    1.772</td> <td> 0.077</td> <td>   -0.042</td> <td>    0.831</td>\n",
       "</tr>\n",
       "<tr>\n",
       "  <th>display_size</th>                <td>   -0.0041</td> <td>    0.071</td> <td>   -0.058</td> <td> 0.954</td> <td>   -0.143</td> <td>    0.135</td>\n",
       "</tr>\n",
       "<tr>\n",
       "  <th>star_rating</th>                 <td>   -0.1372</td> <td>    0.083</td> <td>   -1.659</td> <td> 0.098</td> <td>   -0.300</td> <td>    0.025</td>\n",
       "</tr>\n",
       "<tr>\n",
       "  <th>ratings</th>                     <td>    0.0005</td> <td>    0.001</td> <td>    0.473</td> <td> 0.636</td> <td>   -0.002</td> <td>    0.002</td>\n",
       "</tr>\n",
       "<tr>\n",
       "  <th>reviews</th>                     <td>   -0.0046</td> <td>    0.008</td> <td>   -0.582</td> <td> 0.561</td> <td>   -0.020</td> <td>    0.011</td>\n",
       "</tr>\n",
       "<tr>\n",
       "  <th>SSD:HDD</th>                     <td> 5.056e-06</td> <td> 2.56e-06</td> <td>    1.975</td> <td> 0.049</td> <td> 3.02e-08</td> <td> 1.01e-05</td>\n",
       "</tr>\n",
       "<tr>\n",
       "  <th>RAM:Graphic_card</th>            <td>    0.0298</td> <td>    0.014</td> <td>    2.164</td> <td> 0.031</td> <td>    0.003</td> <td>    0.057</td>\n",
       "</tr>\n",
       "</table>\n",
       "<table class=\"simpletable\">\n",
       "<tr>\n",
       "  <th>Omnibus:</th>       <td>317.435</td> <th>  Durbin-Watson:     </th> <td>   2.014</td>\n",
       "</tr>\n",
       "<tr>\n",
       "  <th>Prob(Omnibus):</th> <td> 0.000</td>  <th>  Jarque-Bera (JB):  </th> <td>7305.090</td>\n",
       "</tr>\n",
       "<tr>\n",
       "  <th>Skew:</th>          <td>-1.186</td>  <th>  Prob(JB):          </th> <td>    0.00</td>\n",
       "</tr>\n",
       "<tr>\n",
       "  <th>Kurtosis:</th>      <td>17.366</td>  <th>  Cond. No.          </th> <td>6.10e+05</td>\n",
       "</tr>\n",
       "</table><br/><br/>Notes:<br/>[1] Standard Errors assume that the covariance matrix of the errors is correctly specified.<br/>[2] The condition number is large, 6.1e+05. This might indicate that there are<br/>strong multicollinearity or other numerical problems."
      ],
      "text/plain": [
       "<class 'statsmodels.iolib.summary.Summary'>\n",
       "\"\"\"\n",
       "                            OLS Regression Results                            \n",
       "==============================================================================\n",
       "Dep. Variable:                  Price   R-squared:                       0.544\n",
       "Model:                            OLS   Adj. R-squared:                  0.536\n",
       "Method:                 Least Squares   F-statistic:                     69.28\n",
       "Date:                Fri, 13 May 2022   Prob (F-statistic):          4.56e-128\n",
       "Time:                        10:03:00   Log-Likelihood:                -2408.6\n",
       "No. Observations:                 827   AIC:                             4847.\n",
       "Df Residuals:                     812   BIC:                             4918.\n",
       "Df Model:                          14                                         \n",
       "Covariance Type:            nonrobust                                         \n",
       "===============================================================================================\n",
       "                                  coef    std err          t      P>|t|      [0.025      0.975]\n",
       "-----------------------------------------------------------------------------------------------\n",
       "Intercept                       3.3432      1.104      3.029      0.003       1.177       5.509\n",
       "C(processor_brand)[T.Intel]     0.6222      0.371      1.679      0.094      -0.105       1.349\n",
       "C(weight)[T.Gaming]            -0.4874      0.825     -0.591      0.555      -2.107       1.133\n",
       "C(weight)[T.ThinNlight]        -0.4307      0.379     -1.135      0.257      -1.176       0.314\n",
       "C(Touchscreen)[T.Yes]           2.5001      0.524      4.770      0.000       1.471       3.529\n",
       "RAM                             0.4127      0.054      7.605      0.000       0.306       0.519\n",
       "SSD                             0.0055      0.001      6.825      0.000       0.004       0.007\n",
       "HDD                            -0.0006      0.001     -1.044      0.297      -0.002       0.001\n",
       "Graphic_card                    0.3942      0.222      1.772      0.077      -0.042       0.831\n",
       "display_size                   -0.0041      0.071     -0.058      0.954      -0.143       0.135\n",
       "star_rating                    -0.1372      0.083     -1.659      0.098      -0.300       0.025\n",
       "ratings                         0.0005      0.001      0.473      0.636      -0.002       0.002\n",
       "reviews                        -0.0046      0.008     -0.582      0.561      -0.020       0.011\n",
       "SSD:HDD                      5.056e-06   2.56e-06      1.975      0.049    3.02e-08    1.01e-05\n",
       "RAM:Graphic_card                0.0298      0.014      2.164      0.031       0.003       0.057\n",
       "==============================================================================\n",
       "Omnibus:                      317.435   Durbin-Watson:                   2.014\n",
       "Prob(Omnibus):                  0.000   Jarque-Bera (JB):             7305.090\n",
       "Skew:                          -1.186   Prob(JB):                         0.00\n",
       "Kurtosis:                      17.366   Cond. No.                     6.10e+05\n",
       "==============================================================================\n",
       "\n",
       "Notes:\n",
       "[1] Standard Errors assume that the covariance matrix of the errors is correctly specified.\n",
       "[2] The condition number is large, 6.1e+05. This might indicate that there are\n",
       "strong multicollinearity or other numerical problems.\n",
       "\"\"\""
      ]
     },
     "execution_count": 30,
     "metadata": {},
     "output_type": "execute_result"
    }
   ],
   "source": [
    "# Erase qualitative predictors\n",
    "# add synergy term: SSD:HDD, RAM:Graphic_card\n",
    "form = ols_formula(Laptop_df, \"Price\", \"brand\", \"model\", \"processor_brand\", \"processor_name\",\n",
    "                  \"weight\", \"Touchscreen\", \"msoffice\") + \" + SSD:HDD \\\n",
    "                    + RAM:Graphic_card + C(processor_brand) + C(weight) + C(Touchscreen) \"\n",
    "ols_smf = smf.ols(formula = form, data = Laptop_df)\n",
    "\n",
    "# fitted model and summary\n",
    "ols_smf_results = ols_smf.fit()\n",
    "ols_smf_results.summary()"
   ]
  },
  {
   "cell_type": "markdown",
   "id": "49becfae",
   "metadata": {},
   "source": [
    "#### Using four dummy variables: processor_brand, weight, Touchscreen, msoffice"
   ]
  },
  {
   "cell_type": "code",
   "execution_count": 31,
   "id": "53371294",
   "metadata": {},
   "outputs": [
    {
     "data": {
      "text/html": [
       "<table class=\"simpletable\">\n",
       "<caption>OLS Regression Results</caption>\n",
       "<tr>\n",
       "  <th>Dep. Variable:</th>          <td>Price</td>      <th>  R-squared:         </th> <td>   0.544</td> \n",
       "</tr>\n",
       "<tr>\n",
       "  <th>Model:</th>                   <td>OLS</td>       <th>  Adj. R-squared:    </th> <td>   0.536</td> \n",
       "</tr>\n",
       "<tr>\n",
       "  <th>Method:</th>             <td>Least Squares</td>  <th>  F-statistic:       </th> <td>   64.59</td> \n",
       "</tr>\n",
       "<tr>\n",
       "  <th>Date:</th>             <td>Fri, 13 May 2022</td> <th>  Prob (F-statistic):</th> <td>3.71e-127</td>\n",
       "</tr>\n",
       "<tr>\n",
       "  <th>Time:</th>                 <td>10:03:00</td>     <th>  Log-Likelihood:    </th> <td> -2408.5</td> \n",
       "</tr>\n",
       "<tr>\n",
       "  <th>No. Observations:</th>      <td>   827</td>      <th>  AIC:               </th> <td>   4849.</td> \n",
       "</tr>\n",
       "<tr>\n",
       "  <th>Df Residuals:</th>          <td>   811</td>      <th>  BIC:               </th> <td>   4925.</td> \n",
       "</tr>\n",
       "<tr>\n",
       "  <th>Df Model:</th>              <td>    15</td>      <th>                     </th>     <td> </td>    \n",
       "</tr>\n",
       "<tr>\n",
       "  <th>Covariance Type:</th>      <td>nonrobust</td>    <th>                     </th>     <td> </td>    \n",
       "</tr>\n",
       "</table>\n",
       "<table class=\"simpletable\">\n",
       "<tr>\n",
       "               <td></td>                  <th>coef</th>     <th>std err</th>      <th>t</th>      <th>P>|t|</th>  <th>[0.025</th>    <th>0.975]</th>  \n",
       "</tr>\n",
       "<tr>\n",
       "  <th>Intercept</th>                   <td>    3.3289</td> <td>    1.105</td> <td>    3.012</td> <td> 0.003</td> <td>    1.159</td> <td>    5.498</td>\n",
       "</tr>\n",
       "<tr>\n",
       "  <th>C(processor_brand)[T.Intel]</th> <td>    0.6201</td> <td>    0.371</td> <td>    1.672</td> <td> 0.095</td> <td>   -0.108</td> <td>    1.348</td>\n",
       "</tr>\n",
       "<tr>\n",
       "  <th>C(weight)[T.Gaming]</th>         <td>   -0.4824</td> <td>    0.826</td> <td>   -0.584</td> <td> 0.559</td> <td>   -2.104</td> <td>    1.139</td>\n",
       "</tr>\n",
       "<tr>\n",
       "  <th>C(weight)[T.ThinNlight]</th>     <td>   -0.4173</td> <td>    0.382</td> <td>   -1.091</td> <td> 0.276</td> <td>   -1.168</td> <td>    0.333</td>\n",
       "</tr>\n",
       "<tr>\n",
       "  <th>C(Touchscreen)[T.Yes]</th>       <td>    2.5240</td> <td>    0.531</td> <td>    4.756</td> <td> 0.000</td> <td>    1.482</td> <td>    3.566</td>\n",
       "</tr>\n",
       "<tr>\n",
       "  <th>C(msoffice)[T.Yes]</th>          <td>   -0.1019</td> <td>    0.347</td> <td>   -0.293</td> <td> 0.769</td> <td>   -0.783</td> <td>    0.580</td>\n",
       "</tr>\n",
       "<tr>\n",
       "  <th>RAM</th>                         <td>    0.4137</td> <td>    0.054</td> <td>    7.604</td> <td> 0.000</td> <td>    0.307</td> <td>    0.520</td>\n",
       "</tr>\n",
       "<tr>\n",
       "  <th>SSD</th>                         <td>    0.0055</td> <td>    0.001</td> <td>    6.826</td> <td> 0.000</td> <td>    0.004</td> <td>    0.007</td>\n",
       "</tr>\n",
       "<tr>\n",
       "  <th>HDD</th>                         <td>   -0.0007</td> <td>    0.001</td> <td>   -1.053</td> <td> 0.293</td> <td>   -0.002</td> <td>    0.001</td>\n",
       "</tr>\n",
       "<tr>\n",
       "  <th>Graphic_card</th>                <td>    0.3934</td> <td>    0.223</td> <td>    1.768</td> <td> 0.078</td> <td>   -0.043</td> <td>    0.830</td>\n",
       "</tr>\n",
       "<tr>\n",
       "  <th>display_size</th>                <td>   -0.0027</td> <td>    0.071</td> <td>   -0.039</td> <td> 0.969</td> <td>   -0.142</td> <td>    0.137</td>\n",
       "</tr>\n",
       "<tr>\n",
       "  <th>star_rating</th>                 <td>   -0.1324</td> <td>    0.084</td> <td>   -1.568</td> <td> 0.117</td> <td>   -0.298</td> <td>    0.033</td>\n",
       "</tr>\n",
       "<tr>\n",
       "  <th>ratings</th>                     <td>    0.0005</td> <td>    0.001</td> <td>    0.489</td> <td> 0.625</td> <td>   -0.001</td> <td>    0.002</td>\n",
       "</tr>\n",
       "<tr>\n",
       "  <th>reviews</th>                     <td>   -0.0048</td> <td>    0.008</td> <td>   -0.596</td> <td> 0.552</td> <td>   -0.020</td> <td>    0.011</td>\n",
       "</tr>\n",
       "<tr>\n",
       "  <th>SSD:HDD</th>                     <td> 5.082e-06</td> <td> 2.56e-06</td> <td>    1.982</td> <td> 0.048</td> <td> 5.01e-08</td> <td> 1.01e-05</td>\n",
       "</tr>\n",
       "<tr>\n",
       "  <th>RAM:Graphic_card</th>            <td>    0.0297</td> <td>    0.014</td> <td>    2.152</td> <td> 0.032</td> <td>    0.003</td> <td>    0.057</td>\n",
       "</tr>\n",
       "</table>\n",
       "<table class=\"simpletable\">\n",
       "<tr>\n",
       "  <th>Omnibus:</th>       <td>318.586</td> <th>  Durbin-Watson:     </th> <td>   2.014</td>\n",
       "</tr>\n",
       "<tr>\n",
       "  <th>Prob(Omnibus):</th> <td> 0.000</td>  <th>  Jarque-Bera (JB):  </th> <td>7364.342</td>\n",
       "</tr>\n",
       "<tr>\n",
       "  <th>Skew:</th>          <td>-1.191</td>  <th>  Prob(JB):          </th> <td>    0.00</td>\n",
       "</tr>\n",
       "<tr>\n",
       "  <th>Kurtosis:</th>      <td>17.424</td>  <th>  Cond. No.          </th> <td>6.10e+05</td>\n",
       "</tr>\n",
       "</table><br/><br/>Notes:<br/>[1] Standard Errors assume that the covariance matrix of the errors is correctly specified.<br/>[2] The condition number is large, 6.1e+05. This might indicate that there are<br/>strong multicollinearity or other numerical problems."
      ],
      "text/plain": [
       "<class 'statsmodels.iolib.summary.Summary'>\n",
       "\"\"\"\n",
       "                            OLS Regression Results                            \n",
       "==============================================================================\n",
       "Dep. Variable:                  Price   R-squared:                       0.544\n",
       "Model:                            OLS   Adj. R-squared:                  0.536\n",
       "Method:                 Least Squares   F-statistic:                     64.59\n",
       "Date:                Fri, 13 May 2022   Prob (F-statistic):          3.71e-127\n",
       "Time:                        10:03:00   Log-Likelihood:                -2408.5\n",
       "No. Observations:                 827   AIC:                             4849.\n",
       "Df Residuals:                     811   BIC:                             4925.\n",
       "Df Model:                          15                                         \n",
       "Covariance Type:            nonrobust                                         \n",
       "===============================================================================================\n",
       "                                  coef    std err          t      P>|t|      [0.025      0.975]\n",
       "-----------------------------------------------------------------------------------------------\n",
       "Intercept                       3.3289      1.105      3.012      0.003       1.159       5.498\n",
       "C(processor_brand)[T.Intel]     0.6201      0.371      1.672      0.095      -0.108       1.348\n",
       "C(weight)[T.Gaming]            -0.4824      0.826     -0.584      0.559      -2.104       1.139\n",
       "C(weight)[T.ThinNlight]        -0.4173      0.382     -1.091      0.276      -1.168       0.333\n",
       "C(Touchscreen)[T.Yes]           2.5240      0.531      4.756      0.000       1.482       3.566\n",
       "C(msoffice)[T.Yes]             -0.1019      0.347     -0.293      0.769      -0.783       0.580\n",
       "RAM                             0.4137      0.054      7.604      0.000       0.307       0.520\n",
       "SSD                             0.0055      0.001      6.826      0.000       0.004       0.007\n",
       "HDD                            -0.0007      0.001     -1.053      0.293      -0.002       0.001\n",
       "Graphic_card                    0.3934      0.223      1.768      0.078      -0.043       0.830\n",
       "display_size                   -0.0027      0.071     -0.039      0.969      -0.142       0.137\n",
       "star_rating                    -0.1324      0.084     -1.568      0.117      -0.298       0.033\n",
       "ratings                         0.0005      0.001      0.489      0.625      -0.001       0.002\n",
       "reviews                        -0.0048      0.008     -0.596      0.552      -0.020       0.011\n",
       "SSD:HDD                      5.082e-06   2.56e-06      1.982      0.048    5.01e-08    1.01e-05\n",
       "RAM:Graphic_card                0.0297      0.014      2.152      0.032       0.003       0.057\n",
       "==============================================================================\n",
       "Omnibus:                      318.586   Durbin-Watson:                   2.014\n",
       "Prob(Omnibus):                  0.000   Jarque-Bera (JB):             7364.342\n",
       "Skew:                          -1.191   Prob(JB):                         0.00\n",
       "Kurtosis:                      17.424   Cond. No.                     6.10e+05\n",
       "==============================================================================\n",
       "\n",
       "Notes:\n",
       "[1] Standard Errors assume that the covariance matrix of the errors is correctly specified.\n",
       "[2] The condition number is large, 6.1e+05. This might indicate that there are\n",
       "strong multicollinearity or other numerical problems.\n",
       "\"\"\""
      ]
     },
     "execution_count": 31,
     "metadata": {},
     "output_type": "execute_result"
    }
   ],
   "source": [
    "# Erase qualitative predictors\n",
    "# add synergy term: SSD:HDD, RAM:Graphic_card\n",
    "form = ols_formula(Laptop_df, \"Price\", \"brand\", \"model\", \"processor_brand\", \"processor_name\",\n",
    "                  \"weight\", \"Touchscreen\", \"msoffice\") + \" + SSD:HDD \\\n",
    "                    + RAM:Graphic_card + C(processor_brand) + C(weight) + C(Touchscreen) \\\n",
    "                    + C(msoffice)\"\n",
    "ols_smf = smf.ols(formula = form, data = Laptop_df)\n",
    "\n",
    "# fitted model and summary\n",
    "ols_smf_results = ols_smf.fit()\n",
    "ols_smf_results.summary()"
   ]
  },
  {
   "cell_type": "markdown",
   "id": "4439c742",
   "metadata": {},
   "source": [
    "## 3. Resampling methods"
   ]
  },
  {
   "cell_type": "markdown",
   "id": "0b924a85",
   "metadata": {},
   "source": [
    "Why do we estimate the test error? Measure the test error is one of the essential issues. For example, when we use a Polynomial Regression, it is crucial to set the degree of the function, which is called a hyperparameter tuning. First, the kernel function must be determined before the Regression can be applied. Then, there will be each test error in the kernel function itself when the degree is 1, 2, 3, etc. Therefore, it would be better to set the smallest test error value to the degree among them. In this respect, measuring the test error is also an important issue."
   ]
  },
  {
   "cell_type": "code",
   "execution_count": 32,
   "id": "1eb45cbe",
   "metadata": {},
   "outputs": [],
   "source": [
    "Laptop_df_re = Laptop_df.copy() # dataset copy to use resampling methods\n",
    "\n",
    "# Because the RAM is the most correlated with the Price, \n",
    "# I choose the RAM as a predictor.\n",
    "Laptop_df_re[\"RAM_2\"] = np.power(Laptop_df_re.RAM, 2)\n",
    "Laptop_df_re[\"RAM_3\"] = np.power(Laptop_df_re.RAM, 3)\n",
    "Laptop_df_re[\"RAM_4\"] = np.power(Laptop_df_re.RAM, 4)\n",
    "Laptop_df_re[\"RAM_5\"] = np.power(Laptop_df_re.RAM, 5)\n",
    "\n",
    "from sklearn.preprocessing import PolynomialFeatures\n",
    "\n",
    "pol = PolynomialFeatures(degree = 5, interaction_only = False, include_bias = False)\n",
    "polf = pol.fit_transform(Laptop_df_re.loc[:, 'RAM'].values.reshape(-1, 1))"
   ]
  },
  {
   "cell_type": "markdown",
   "id": "144b176b",
   "metadata": {},
   "source": [
    "### 1] Validation Set Approach"
   ]
  },
  {
   "cell_type": "code",
   "execution_count": 33,
   "id": "3e46181f",
   "metadata": {},
   "outputs": [],
   "source": [
    "from sklearn.model_selection import train_test_split\n",
    "\n",
    "X, y = Laptop_df_re.loc[:, [\"RAM\", \"RAM_2\", \"RAM_3\", \"RAM_4\", \"RAM_5\"]], Laptop_df_re.Price\n",
    "\n",
    "X_train, X_test, y_train, y_test = train_test_split(X, y, test_size = 0.5, random_state = 42)"
   ]
  },
  {
   "cell_type": "markdown",
   "id": "835416e2",
   "metadata": {},
   "source": [
    "I set the test size to 0.5. This means, half of the data used the training set and the rest are used the validation set. Moreover, the resulting validation-set error provides an estimate of the test error, so I used MSE to estimate the actual test error.   "
   ]
  },
  {
   "cell_type": "code",
   "execution_count": 34,
   "id": "9d257ec5",
   "metadata": {},
   "outputs": [
    {
     "name": "stdout",
     "output_type": "stream",
     "text": [
      "Linear Model 1, MSE: 23.51135895528877\n",
      "Linear Model 2, MSE: 24.95277292873239\n",
      "Linear Model 3, MSE: 25.106013957148836\n",
      "Linear Model 4, MSE: 25.098484858155253\n",
      "Linear Model 5, MSE: 25.098484837886\n"
     ]
    }
   ],
   "source": [
    "from sklearn.linear_model import LinearRegression\n",
    "from sklearn.metrics import mean_squared_error\n",
    "\n",
    "# OLS model with intercept\n",
    "LM1 = LinearRegression(fit_intercept = True)\n",
    "LM2 = LinearRegression(fit_intercept = True)\n",
    "LM3 = LinearRegression(fit_intercept = True)\n",
    "LM4 = LinearRegression(fit_intercept = True)\n",
    "LM5 = LinearRegression(fit_intercept = True)\n",
    "\n",
    "LM1_fit = LM1.fit(X_train.loc[:, \"RAM\"].values.reshape(-1, 1), y_train)\n",
    "LM2_fit = LM2.fit(X_train.loc[:, [\"RAM\", \"RAM_2\"]], y_train)\n",
    "LM3_fit = LM3.fit(X_train.loc[:, [\"RAM\", \"RAM_2\", \"RAM_3\"]], y_train)\n",
    "LM4_fit = LM4.fit(X_train.loc[:, [\"RAM\", \"RAM_2\", \"RAM_3\", \"RAM_4\"]], y_train)\n",
    "LM5_fit = LM5.fit(X_train.loc[:, [\"RAM\", \"RAM_2\", \"RAM_3\", \"RAM_4\", \"RAM_5\"]], y_train)\n",
    "\n",
    "LM1_predict = LM1_fit.predict(X_test.loc[:, \"RAM\"].values.reshape(-1, 1))\n",
    "LM2_predict = LM2_fit.predict(X_test.loc[:, [\"RAM\", \"RAM_2\"]])\n",
    "LM3_predict = LM3_fit.predict(X_test.loc[:, [\"RAM\", \"RAM_2\", \"RAM_3\"]])\n",
    "LM4_predict = LM4_fit.predict(X_test.loc[:, [\"RAM\", \"RAM_2\", \"RAM_3\", \"RAM_4\"]])\n",
    "LM5_predict = LM5_fit.predict(X_test.loc[:, [\"RAM\", \"RAM_2\", \"RAM_3\", \"RAM_4\", \"RAM_5\"]])\n",
    "\n",
    "\n",
    "print(\"Linear Model 1, MSE:\", mean_squared_error(y_test, LM1_predict))\n",
    "print(\"Linear Model 2, MSE:\", mean_squared_error(y_test, LM2_predict))\n",
    "print(\"Linear Model 3, MSE:\", mean_squared_error(y_test, LM3_predict))\n",
    "print(\"Linear Model 4, MSE:\", mean_squared_error(y_test, LM4_predict))\n",
    "print(\"Linear Model 5, MSE:\", mean_squared_error(y_test, LM5_predict))\n"
   ]
  },
  {
   "cell_type": "markdown",
   "id": "c5e48ebf",
   "metadata": {},
   "source": [
    "**The result is that the Polynomial Regression which degree is one is enough.**"
   ]
  },
  {
   "cell_type": "markdown",
   "id": "88b5099c",
   "metadata": {},
   "source": [
    "### 2. Leave-One-Out Cross-Validation(LOOCV)"
   ]
  },
  {
   "cell_type": "code",
   "execution_count": 35,
   "id": "cd974de6",
   "metadata": {},
   "outputs": [
    {
     "name": "stdout",
     "output_type": "stream",
     "text": [
      "Each column of Laptop_df_re has 827 elements\n"
     ]
    }
   ],
   "source": [
    "from sklearn.model_selection import LeaveOneOut\n",
    "\n",
    "X, y = Laptop_df_re.loc[:, [\"RAM\", \"RAM_2\", \"RAM_3\", \"RAM_4\", \"RAM_5\"]], Laptop_df_re.Price\n",
    "\n",
    "LOOCV = LeaveOneOut() # Return the number of splitting iterations in the cross-validator\n",
    "numOfRows = LOOCV.get_n_splits(X)\n",
    "\n",
    "\n",
    "print(\"Each column of Laptop_df_re has \" + str(numOfRows) + \" elements\")"
   ]
  },
  {
   "cell_type": "code",
   "execution_count": 36,
   "id": "6fdd6d81",
   "metadata": {},
   "outputs": [
    {
     "name": "stdout",
     "output_type": "stream",
     "text": [
      "lm1_MSE = 0.022136745511520173\n",
      "lm2_MSE = 0.04757180006497249\n",
      "lm3_MSE = 0.23964284799604896\n",
      "lm4_MSE = 0.2780833680495323\n",
      "lm5_MSE = 0.2780833641263575\n"
     ]
    }
   ],
   "source": [
    "# Loop for 5 degree polynomial Linear Regressions with LOOCV\n",
    "\n",
    "LOOCV_polynomial = {}\n",
    "\n",
    "for i in range(1, 6):\n",
    "    LOOCV_MSE = []\n",
    "    \n",
    "    for train_index, test_index in LOOCV.split(X):\n",
    "        X_train, X_test = X.iloc[train_index], X.iloc[test_index]\n",
    "        y_train, y_test = y.iloc[train_index], y.iloc[test_index]\n",
    "        \n",
    "    if i == 1:\n",
    "        X_TRAIN = X_train.iloc[:, 0:1].values.reshape(-1, 1)\n",
    "        X_TEST = X_test.iloc[:, 0:1].values.reshape(-1, 1)\n",
    "    else:\n",
    "        X_TRAIN = X_train.iloc[:, 0:i]\n",
    "        X_TEST = X_test.iloc[:, 0:i]\n",
    "        \n",
    "    LOOCV_MSE.append(mean_squared_error(y_test,\n",
    "                                       LinearRegression(fit_intercept = True)\n",
    "                                       .fit(\n",
    "                                           X_TRAIN, \n",
    "                                       y_train\n",
    "                                       )\n",
    "                                       .predict(\n",
    "                                       X_TEST)\n",
    "                                       )\n",
    "                                    )\n",
    "    LOOCV_polynomial['lm' + str(i) + '_MSE'] = np.array(LOOCV_MSE).mean()\n",
    "    \n",
    "for key, value in LOOCV_polynomial.items():\n",
    "    print(key,\"=\", value)\n",
    "    "
   ]
  },
  {
   "cell_type": "markdown",
   "id": "ca05dcb4",
   "metadata": {},
   "source": [
    "The advantage of LOOCV is that it is trained from 826 columns so that the bias can be reduced than the Validation Set Approach.   \n",
    "And the result is the same as the Validation Set Approach. The degree one is enough."
   ]
  },
  {
   "cell_type": "markdown",
   "id": "31a0ab3b",
   "metadata": {},
   "source": [
    "### 3. K-Fold Cross-Validation"
   ]
  },
  {
   "cell_type": "markdown",
   "id": "5ec5b92f",
   "metadata": {},
   "source": [
    "k = 5 or k = 10 provides a good compromise for this bias-variance tradeoff, so I did both 5 and 10. "
   ]
  },
  {
   "cell_type": "code",
   "execution_count": 37,
   "id": "e57115f4",
   "metadata": {},
   "outputs": [],
   "source": [
    "from sklearn.model_selection import KFold\n",
    "\n",
    "X, y = Laptop_df_re.loc[:, [\"RAM\", \"RAM_2\", \"RAM_3\", \"RAM_4\", \"RAM_5\"]], Laptop_df_re.Price\n",
    "\n",
    "kfold_5 = KFold(n_splits = 5, shuffle = True, random_state = 33) # n_splits: number of folds\n",
    "kfold_10 = KFold(n_splits = 10, shuffle = True, random_state = 33)"
   ]
  },
  {
   "cell_type": "code",
   "execution_count": 38,
   "id": "64fc8d4d",
   "metadata": {},
   "outputs": [
    {
     "data": {
      "text/plain": [
       "{'lm1_MSE': 20.437848909748485,\n",
       " 'lm2_MSE': 20.55131897880513,\n",
       " 'lm3_MSE': 20.517183218034592,\n",
       " 'lm4_MSE': 20.52634821204599,\n",
       " 'lm5_MSE': 20.53900552731615}"
      ]
     },
     "execution_count": 38,
     "metadata": {},
     "output_type": "execute_result"
    }
   ],
   "source": [
    "# Loop for 5 degree polynomial Linear Regressions with K-Fold CV \n",
    "# k = 5\n",
    "\n",
    "kf_polynomial = {}\n",
    "\n",
    "for i in range(1, 6):\n",
    "    kf_mse = []\n",
    "    \n",
    "    for train_index, test_index in kfold_5.split(X):\n",
    "        X_train, X_test = X.iloc[train_index], X.iloc[test_index]\n",
    "        y_train, y_test = y.iloc[train_index], y.iloc[test_index]\n",
    "        \n",
    "    if i == 1:\n",
    "        X_TRAIN = X_train.iloc[:, 0:1].values.reshape(-1, 1)\n",
    "        X_TEST = X_test.iloc[:, 0:1].values.reshape(-1, 1)\n",
    "    else:\n",
    "        X_TRAIN = X_train.iloc[:, 0:i]\n",
    "        X_TEST = X_test.iloc[:, 0:i]\n",
    "        \n",
    "    kf_mse.append(mean_squared_error(y_test,\n",
    "                                       LinearRegression(fit_intercept = True)\n",
    "                                       .fit(X_TRAIN, y_train)\n",
    "                                       .predict(X_TEST))\n",
    "                                    )\n",
    "    kf_polynomial['lm' + str(i) + '_MSE'] = np.array(kf_mse).mean()\n",
    "    \n",
    "kf_polynomial"
   ]
  },
  {
   "cell_type": "code",
   "execution_count": 39,
   "id": "c8c10474",
   "metadata": {},
   "outputs": [
    {
     "data": {
      "text/plain": [
       "{'lm1_MSE': 23.878698780760324,\n",
       " 'lm2_MSE': 24.34139683599557,\n",
       " 'lm3_MSE': 24.30114330787115,\n",
       " 'lm4_MSE': 24.320220352531624,\n",
       " 'lm5_MSE': 24.346282172610287}"
      ]
     },
     "execution_count": 39,
     "metadata": {},
     "output_type": "execute_result"
    }
   ],
   "source": [
    "# Loop for 5 degree polynomial Linear Regressions with K-Fold CV \n",
    "# k = 10\n",
    "\n",
    "kf_polynomial = {}\n",
    "\n",
    "for i in range(1, 6):\n",
    "    kf_mse = []\n",
    "    \n",
    "    for train_index, test_index in kfold_10.split(X):\n",
    "        X_train, X_test = X.iloc[train_index], X.iloc[test_index]\n",
    "        y_train, y_test = y.iloc[train_index], y.iloc[test_index]\n",
    "        \n",
    "    if i == 1:\n",
    "        X_TRAIN = X_train.iloc[:, 0:1].values.reshape(-1, 1)\n",
    "        X_TEST = X_test.iloc[:, 0:1].values.reshape(-1, 1)\n",
    "    else:\n",
    "        X_TRAIN = X_train.iloc[:, 0:i]\n",
    "        X_TEST = X_test.iloc[:, 0:i]\n",
    "        \n",
    "    kf_mse.append(mean_squared_error(y_test,\n",
    "                                       LinearRegression(fit_intercept = True)\n",
    "                                       .fit(X_TRAIN, y_train)\n",
    "                                       .predict(X_TEST))\n",
    "                                    )\n",
    "    kf_polynomial['lm' + str(i) + '_MSE'] = np.array(kf_mse).mean()\n",
    "    \n",
    "kf_polynomial"
   ]
  },
  {
   "cell_type": "markdown",
   "id": "cafa28f2",
   "metadata": {},
   "source": [
    "When the value of k is 5 and 10, the result was the same. The Polynomial Regression| which degree is one is enough."
   ]
  },
  {
   "cell_type": "markdown",
   "id": "8e1860e3",
   "metadata": {},
   "source": [
    "The three methods, Approach Set Validation, LOOCV, and k-Fold Cross Validation give the same results that to predict the Laptop price by using predictor RAM in the Polynomial Regression, degree one is enough."
   ]
  },
  {
   "cell_type": "markdown",
   "id": "301b592f",
   "metadata": {},
   "source": [
    "## 4. LinearModel Selection and Regularization"
   ]
  },
  {
   "cell_type": "code",
   "execution_count": 40,
   "id": "23e70e4e",
   "metadata": {},
   "outputs": [
    {
     "data": {
      "text/html": [
       "<div>\n",
       "<style scoped>\n",
       "    .dataframe tbody tr th:only-of-type {\n",
       "        vertical-align: middle;\n",
       "    }\n",
       "\n",
       "    .dataframe tbody tr th {\n",
       "        vertical-align: top;\n",
       "    }\n",
       "\n",
       "    .dataframe thead th {\n",
       "        text-align: right;\n",
       "    }\n",
       "</style>\n",
       "<table border=\"1\" class=\"dataframe\">\n",
       "  <thead>\n",
       "    <tr style=\"text-align: right;\">\n",
       "      <th></th>\n",
       "      <th>processor_brand</th>\n",
       "      <th>Touchscreen</th>\n",
       "      <th>msoffice</th>\n",
       "      <th>weight</th>\n",
       "      <th>RAM</th>\n",
       "      <th>SSD</th>\n",
       "      <th>HDD</th>\n",
       "      <th>Graphic_card</th>\n",
       "      <th>display_size</th>\n",
       "      <th>star_rating</th>\n",
       "      <th>ratings</th>\n",
       "      <th>reviews</th>\n",
       "      <th>Price</th>\n",
       "    </tr>\n",
       "  </thead>\n",
       "  <tbody>\n",
       "    <tr>\n",
       "      <th>0</th>\n",
       "      <td>0</td>\n",
       "      <td>1</td>\n",
       "      <td>1</td>\n",
       "      <td>1</td>\n",
       "      <td>4.00</td>\n",
       "      <td>0</td>\n",
       "      <td>1024</td>\n",
       "      <td>0</td>\n",
       "      <td>15.60</td>\n",
       "      <td>3.80</td>\n",
       "      <td>15279</td>\n",
       "      <td>1947</td>\n",
       "      <td>3.51</td>\n",
       "    </tr>\n",
       "    <tr>\n",
       "      <th>1</th>\n",
       "      <td>0</td>\n",
       "      <td>1</td>\n",
       "      <td>1</td>\n",
       "      <td>1</td>\n",
       "      <td>8.00</td>\n",
       "      <td>512</td>\n",
       "      <td>0</td>\n",
       "      <td>0</td>\n",
       "      <td>15.60</td>\n",
       "      <td>4.30</td>\n",
       "      <td>990</td>\n",
       "      <td>108</td>\n",
       "      <td>6.63</td>\n",
       "    </tr>\n",
       "    <tr>\n",
       "      <th>2</th>\n",
       "      <td>0</td>\n",
       "      <td>1</td>\n",
       "      <td>1</td>\n",
       "      <td>1</td>\n",
       "      <td>8.00</td>\n",
       "      <td>0</td>\n",
       "      <td>1024</td>\n",
       "      <td>0</td>\n",
       "      <td>14.10</td>\n",
       "      <td>3.90</td>\n",
       "      <td>28</td>\n",
       "      <td>4</td>\n",
       "      <td>6.11</td>\n",
       "    </tr>\n",
       "    <tr>\n",
       "      <th>3</th>\n",
       "      <td>0</td>\n",
       "      <td>1</td>\n",
       "      <td>0</td>\n",
       "      <td>0</td>\n",
       "      <td>8.00</td>\n",
       "      <td>512</td>\n",
       "      <td>0</td>\n",
       "      <td>0</td>\n",
       "      <td>15.60</td>\n",
       "      <td>4.40</td>\n",
       "      <td>158</td>\n",
       "      <td>18</td>\n",
       "      <td>7.45</td>\n",
       "    </tr>\n",
       "    <tr>\n",
       "      <th>4</th>\n",
       "      <td>0</td>\n",
       "      <td>1</td>\n",
       "      <td>1</td>\n",
       "      <td>0</td>\n",
       "      <td>8.00</td>\n",
       "      <td>512</td>\n",
       "      <td>0</td>\n",
       "      <td>0</td>\n",
       "      <td>15.60</td>\n",
       "      <td>4.20</td>\n",
       "      <td>116</td>\n",
       "      <td>15</td>\n",
       "      <td>9.12</td>\n",
       "    </tr>\n",
       "    <tr>\n",
       "      <th>5</th>\n",
       "      <td>0</td>\n",
       "      <td>1</td>\n",
       "      <td>0</td>\n",
       "      <td>0</td>\n",
       "      <td>8.00</td>\n",
       "      <td>0</td>\n",
       "      <td>1024</td>\n",
       "      <td>0</td>\n",
       "      <td>15.60</td>\n",
       "      <td>4.00</td>\n",
       "      <td>2124</td>\n",
       "      <td>233</td>\n",
       "      <td>7.45</td>\n",
       "    </tr>\n",
       "    <tr>\n",
       "      <th>6</th>\n",
       "      <td>1</td>\n",
       "      <td>0</td>\n",
       "      <td>0</td>\n",
       "      <td>1</td>\n",
       "      <td>8.00</td>\n",
       "      <td>256</td>\n",
       "      <td>1024</td>\n",
       "      <td>0</td>\n",
       "      <td>15.60</td>\n",
       "      <td>4.30</td>\n",
       "      <td>3524</td>\n",
       "      <td>432</td>\n",
       "      <td>6.28</td>\n",
       "    </tr>\n",
       "    <tr>\n",
       "      <th>7</th>\n",
       "      <td>0</td>\n",
       "      <td>1</td>\n",
       "      <td>1</td>\n",
       "      <td>0</td>\n",
       "      <td>4.00</td>\n",
       "      <td>256</td>\n",
       "      <td>0</td>\n",
       "      <td>0</td>\n",
       "      <td>14.00</td>\n",
       "      <td>4.10</td>\n",
       "      <td>37</td>\n",
       "      <td>6</td>\n",
       "      <td>6.50</td>\n",
       "    </tr>\n",
       "    <tr>\n",
       "      <th>8</th>\n",
       "      <td>0</td>\n",
       "      <td>1</td>\n",
       "      <td>0</td>\n",
       "      <td>0</td>\n",
       "      <td>8.00</td>\n",
       "      <td>256</td>\n",
       "      <td>1024</td>\n",
       "      <td>0</td>\n",
       "      <td>15.60</td>\n",
       "      <td>5.00</td>\n",
       "      <td>7</td>\n",
       "      <td>5</td>\n",
       "      <td>7.12</td>\n",
       "    </tr>\n",
       "    <tr>\n",
       "      <th>9</th>\n",
       "      <td>0</td>\n",
       "      <td>1</td>\n",
       "      <td>0</td>\n",
       "      <td>0</td>\n",
       "      <td>8.00</td>\n",
       "      <td>256</td>\n",
       "      <td>0</td>\n",
       "      <td>0</td>\n",
       "      <td>15.60</td>\n",
       "      <td>4.30</td>\n",
       "      <td>2080</td>\n",
       "      <td>235</td>\n",
       "      <td>7.54</td>\n",
       "    </tr>\n",
       "  </tbody>\n",
       "</table>\n",
       "</div>"
      ],
      "text/plain": [
       "   processor_brand  Touchscreen  msoffice  weight                  RAM  SSD  \\\n",
       "0                0            1         1       1                 4.00    0   \n",
       "1                0            1         1       1                 8.00  512   \n",
       "2                0            1         1       1                 8.00    0   \n",
       "3                0            1         0       0                 8.00  512   \n",
       "4                0            1         1       0                 8.00  512   \n",
       "5                0            1         0       0                 8.00    0   \n",
       "6                1            0         0       1                 8.00  256   \n",
       "7                0            1         1       0                 4.00  256   \n",
       "8                0            1         0       0                 8.00  256   \n",
       "9                0            1         0       0                 8.00  256   \n",
       "\n",
       "    HDD  Graphic_card         display_size          star_rating  ratings  \\\n",
       "0  1024             0                15.60                 3.80    15279   \n",
       "1     0             0                15.60                 4.30      990   \n",
       "2  1024             0                14.10                 3.90       28   \n",
       "3     0             0                15.60                 4.40      158   \n",
       "4     0             0                15.60                 4.20      116   \n",
       "5  1024             0                15.60                 4.00     2124   \n",
       "6  1024             0                15.60                 4.30     3524   \n",
       "7     0             0                14.00                 4.10       37   \n",
       "8  1024             0                15.60                 5.00        7   \n",
       "9     0             0                15.60                 4.30     2080   \n",
       "\n",
       "   reviews                Price  \n",
       "0     1947                 3.51  \n",
       "1      108                 6.63  \n",
       "2        4                 6.11  \n",
       "3       18                 7.45  \n",
       "4       15                 9.12  \n",
       "5      233                 7.45  \n",
       "6      432                 6.28  \n",
       "7        6                 6.50  \n",
       "8        5                 7.12  \n",
       "9      235                 7.54  "
      ]
     },
     "execution_count": 40,
     "metadata": {},
     "output_type": "execute_result"
    }
   ],
   "source": [
    "Laptop_df_reg = Laptop_df.copy() # dataset copy to use regularization\n",
    "\n",
    "# Convert categorical variable into dummy variables\n",
    "Laptop_df_reg = Laptop_df.drop([\"brand\", \"model\", \"processor_name\"], axis = 1, inplace = False)\n",
    "\n",
    "Laptop_df_reg['processor_brand'] = pd.get_dummies(Laptop_df_reg['processor_brand']).iloc[:, 0]\n",
    "Laptop_df_reg['Touchscreen'] = pd.get_dummies(Laptop_df_reg['processor_brand']).iloc[:, 0]\n",
    "Laptop_df_reg['msoffice'] = pd.get_dummies(Laptop_df_reg['msoffice']).iloc[:, 0]\n",
    "Laptop_df_reg['weight'] = pd.get_dummies(Laptop_df_reg['weight']).iloc[:, 0]\n",
    "\n",
    "Laptop_df_reg.head(10) # test"
   ]
  },
  {
   "cell_type": "code",
   "execution_count": 41,
   "id": "b8d9cbdd",
   "metadata": {},
   "outputs": [],
   "source": [
    "X = Laptop_df_reg.iloc[:, 1: 12]\n",
    "y = Laptop_df_reg.iloc[:, 12]"
   ]
  },
  {
   "cell_type": "markdown",
   "id": "9648cac1",
   "metadata": {},
   "source": [
    "### 4.1 Implement Forward and Backward Stepwise Selection: based on training data"
   ]
  },
  {
   "cell_type": "markdown",
   "id": "930e0656",
   "metadata": {},
   "source": [
    "* Forward and Backward Stepwise Selection provides an efficient alternative to the Best Subset Selection\n",
    "* An enormous search space in the Best Subset Selection can lead to overfitting and high variable estimates. Therefore, the test error can be increased\n",
    "* But, the two stepwise methods are not guaranteed to find the best possible model"
   ]
  },
  {
   "cell_type": "code",
   "execution_count": 42,
   "id": "2334446c",
   "metadata": {},
   "outputs": [],
   "source": [
    "from itertools import chain, combinations # Functions creating iterators for efficient \n",
    "\n",
    "def processSubset(feature_set):\n",
    "    # Fit model on feature_set and calculate RSS\n",
    "    model = sm.OLS(y, X[list(feature_set)])\n",
    "    regr = model.fit()\n",
    "    RSS = regr.ssr\n",
    "    AIC = regr.aic\n",
    "    BIC = regr.bic\n",
    "    return {\"model\" : regr, \"RSS\" : RSS, \"AIC\" : AIC, \"BIC\" : BIC} \n",
    "\n",
    "\n",
    "def forward(predictors):\n",
    "    \n",
    "    # Pull out predictors we still need to process\n",
    "    remaining_predictors = [p for p in X.columns if p not in predictors]\n",
    "    \n",
    "    results = []\n",
    "    \n",
    "    for p in remaining_predictors:\n",
    "        results.append(processSubset(predictors + [p])) # Linear Regression\n",
    "        \n",
    "    # wrap everything up in a nice dataframe\n",
    "    models = pd.DataFrame(results)\n",
    "    \n",
    "    # Choose the model with the Lowest RSS(minimizing RSS)\n",
    "    best_model = models.loc[models[\"RSS\"].argmin()] \n",
    "    \n",
    "    # Return the best model, along with some other useful information about the model\n",
    "    return best_model, results\n",
    "\n",
    "\n",
    "def backward(predictors):\n",
    "    \n",
    "    results = []\n",
    "    \n",
    "    for combo in combinations(predictors, len(predictors) - 1):\n",
    "        results.append(processSubset(combo))\n",
    "        \n",
    "    # wrap everything up in a nice dataframe\n",
    "    models = pd.DataFrame(results)\n",
    "    \n",
    "    # Choose the model with the Lowest RSS(minimizing RSS)\n",
    "    best_model = models.loc[models[\"RSS\"].argmin()]\n",
    "    \n",
    "    # Return the best model, along with some other useful information about the model\n",
    "    return best_model, results"
   ]
  },
  {
   "cell_type": "markdown",
   "id": "acea36a2",
   "metadata": {},
   "source": [
    "### Run Forward Stepwise Selection"
   ]
  },
  {
   "cell_type": "code",
   "execution_count": 43,
   "id": "34aa185a",
   "metadata": {
    "scrolled": false
   },
   "outputs": [
    {
     "name": "stdout",
     "output_type": "stream",
     "text": [
      "When the RSS is the smallest, number of predictors: 4\n",
      "AIC value is 4873.5781998726725\n",
      "BIC value is 4925.474051517933\n"
     ]
    }
   ],
   "source": [
    "models2 = pd.DataFrame(columns = [\"RSS\", \"model\"])\n",
    "\n",
    "predictors = []\n",
    "results = []\n",
    "\n",
    "for i in range(1, len(X.columns) + 1):\n",
    "    models2.loc[i], results = forward(predictors)\n",
    "    predictors = models2.loc[i][\"model\"].model.exog_names\n",
    "    \n",
    "bic_f = []\n",
    "for m in models2.model:\n",
    "    bic_f.append(m.bic)\n",
    "    \n",
    "num_of_predictors = np.array(bic_f).argmin()\n",
    "print(\"When the RSS is the smallest, number of predictors:\",num_of_predictors) \n",
    "print(\"AIC value is\", results[0].get(\"AIC\"))\n",
    "print(\"BIC value is\", results[0].get(\"BIC\"))"
   ]
  },
  {
   "cell_type": "code",
   "execution_count": 44,
   "id": "d99ec0ec",
   "metadata": {},
   "outputs": [
    {
     "data": {
      "text/plain": [
       "(['RAM',\n",
       "  'SSD',\n",
       "  'Graphic_card',\n",
       "  'Touchscreen',\n",
       "  'weight',\n",
       "  'display_size',\n",
       "  'star_rating',\n",
       "  'reviews',\n",
       "  'HDD',\n",
       "  'ratings',\n",
       "  'msoffice'],\n",
       " [5041.715284621624,\n",
       "  4946.228966391631,\n",
       "  4914.20050727932,\n",
       "  4893.763605618674,\n",
       "  4889.30722507216,\n",
       "  4893.930963299633,\n",
       "  4899.484589546389,\n",
       "  4905.585231229132,\n",
       "  4912.196002603444,\n",
       "  4918.793373815739,\n",
       "  4925.474051517933])"
      ]
     },
     "execution_count": 44,
     "metadata": {},
     "output_type": "execute_result"
    }
   ],
   "source": [
    "predictors, bic_f"
   ]
  },
  {
   "cell_type": "markdown",
   "id": "b43bdc00",
   "metadata": {},
   "source": [
    "### Run Backward Stepwise Selection"
   ]
  },
  {
   "cell_type": "code",
   "execution_count": 45,
   "id": "2b691f52",
   "metadata": {},
   "outputs": [
    {
     "name": "stdout",
     "output_type": "stream",
     "text": [
      "When the RSS is the smallest, number of predictors: 4\n",
      "AIC value is 5036.9974799266\n",
      "BIC value is 5041.715284621624\n"
     ]
    }
   ],
   "source": [
    "models3 = pd.DataFrame(columns = [\"RSS\", \"model\"], index = range(1, len(X.columns)))\n",
    "\n",
    "predictors = X.columns\n",
    "\n",
    "while(len(predictors) > 1):\n",
    "    models3.loc[len(predictors) - 1], results = backward(predictors)\n",
    "    predictors = models3.loc[len(predictors) -1][\"model\"].model.exog_names\n",
    "    \n",
    "bic_b = []\n",
    "\n",
    "for m in models3.model:\n",
    "    bic_b.append(m.bic)\n",
    "    \n",
    "num_of_predictors = np.array(bic_b).argmin()\n",
    "print(\"When the RSS is the smallest, number of predictors:\",num_of_predictors) \n",
    "print(\"AIC value is\", results[0].get(\"AIC\"))\n",
    "print(\"BIC value is\", results[0].get(\"BIC\"))"
   ]
  },
  {
   "cell_type": "code",
   "execution_count": 46,
   "id": "a24c983d",
   "metadata": {},
   "outputs": [
    {
     "data": {
      "text/plain": [
       "(['RAM'],\n",
       " [5041.715284621624,\n",
       "  4946.228966391631,\n",
       "  4914.20050727932,\n",
       "  4893.763605618674,\n",
       "  4889.30722507216,\n",
       "  4893.930963299633,\n",
       "  4899.484589546389,\n",
       "  4905.585231229132,\n",
       "  4912.196002603444,\n",
       "  4918.793373815739])"
      ]
     },
     "execution_count": 46,
     "metadata": {},
     "output_type": "execute_result"
    }
   ],
   "source": [
    "predictors, bic_b"
   ]
  },
  {
   "cell_type": "markdown",
   "id": "b85f5534",
   "metadata": {},
   "source": [
    "In both methods, the results are almost identical."
   ]
  },
  {
   "cell_type": "markdown",
   "id": "f3c0e710",
   "metadata": {},
   "source": [
    "### Forward Stepwise Selection using the Validaiton Set Approach"
   ]
  },
  {
   "cell_type": "markdown",
   "id": "52121469",
   "metadata": {},
   "source": [
    "* We can directly estimate the <span style=\"color:red\">test error</span>, using the Validation Set Approach."
   ]
  },
  {
   "cell_type": "code",
   "execution_count": 47,
   "id": "9afd793f",
   "metadata": {},
   "outputs": [],
   "source": [
    "from sklearn.model_selection import train_test_split\n",
    "from sklearn.metrics import mean_squared_error\n",
    "\n",
    "X_train_05, X_test_05, y_train_05, y_test_05 = train_test_split(X,y,test_size=0.5,random_state=3)\n",
    "X_train_06, X_test_04, y_train_06, y_test_04 = train_test_split(X,y,test_size=0.4,random_state=3)\n",
    "X_train_07, X_test_03, y_train_07, y_test_03 = train_test_split(X,y,test_size=0.3,random_state=3)\n",
    "X_train_08, X_test_02, y_train_08, y_test_02 = train_test_split(X,y,test_size=0.2,random_state=3)\n",
    "X_train_09, X_test_01, y_train_09, y_test_01 = train_test_split(X,y,test_size=0.1,random_state=3)"
   ]
  },
  {
   "cell_type": "code",
   "execution_count": 48,
   "id": "536e4d81",
   "metadata": {},
   "outputs": [],
   "source": [
    "def processSubset(feature_set, X_train, y_train, X_test, y_test):\n",
    "    \n",
    "    # Fit model one feature_set and calculate RSS\n",
    "    model = sm.OLS(y_train, X_train[list(feature_set)])\n",
    "    regr = model.fit()\n",
    "    RSS = ((regr.predict(X_test[list(feature_set)]) - y_test) ** 2).sum()\n",
    "    AIC = regr.aic\n",
    "    BIC = regr.bic\n",
    "    return {\"model\" : regr, \"RSS\" : RSS, \"AIC\" : AIC, \"BIC\" : BIC}\n",
    "\n",
    "def forward(predictors, X_train, y_train, X_test, y_test):\n",
    "    \n",
    "    # Pull out predictors we still need to process\n",
    "    remaining_predictors = [p for p in X.columns if p not in predictors]\n",
    "    \n",
    "    results = []\n",
    "    \n",
    "    for p in remaining_predictors:\n",
    "        results.append(processSubset(predictors + [p], X_train, y_train, \n",
    "                                    X_test, y_test))\n",
    "        \n",
    "    # wrap everything up in a nice dataframe\n",
    "    models = pd.DataFrame(results)\n",
    "    \n",
    "    # Choose the model with the Lowest RSS\n",
    "    best_model = models.loc[models[\"RSS\"].argmin()]\n",
    "    \n",
    "    # Return the best model, along with some other useful information about the model\n",
    "    return best_model, results"
   ]
  },
  {
   "cell_type": "code",
   "execution_count": 49,
   "id": "20c19dca",
   "metadata": {},
   "outputs": [
    {
     "data": {
      "text/plain": [
       "Text(0.5, 1.0, 'test size: 0.5\\nAIC value is 2397.040181\\nBIC value is 2441.298105')"
      ]
     },
     "execution_count": 49,
     "metadata": {},
     "output_type": "execute_result"
    },
    {
     "data": {
      "text/plain": [
       "[<matplotlib.lines.Line2D at 0x273e71ddb08>]"
      ]
     },
     "execution_count": 49,
     "metadata": {},
     "output_type": "execute_result"
    },
    {
     "data": {
      "text/plain": [
       "Text(0.5, 0, '# Predictors')"
      ]
     },
     "execution_count": 49,
     "metadata": {},
     "output_type": "execute_result"
    },
    {
     "data": {
      "text/plain": [
       "Text(0, 0.5, 'RSS')"
      ]
     },
     "execution_count": 49,
     "metadata": {},
     "output_type": "execute_result"
    },
    {
     "data": {
      "text/plain": [
       "[<matplotlib.lines.Line2D at 0x273e71f4148>]"
      ]
     },
     "execution_count": 49,
     "metadata": {},
     "output_type": "execute_result"
    },
    {
     "data": {
      "image/png": "[encoded data removed]",
      "text/plain": [
       "<Figure size 640x480 with 1 Axes>"
      ]
     },
     "metadata": {},
     "output_type": "display_data"
    }
   ],
   "source": [
    "models_train = pd.DataFrame(columns = [\"RSS\", \"model\"])\n",
    "\n",
    "predictors = []\n",
    "\n",
    "for i in range(1, len(X.columns) + 1):\n",
    "    models_train.loc[i], results = forward(predictors, X_train_05, y_train_05, X_test_05, y_test_05)\n",
    "    predictors = models_train.loc[i][\"model\"].model.exog_names\n",
    "\n",
    "plt.title(\"test size: 0.5\\nAIC value is %f\\nBIC value is %f\" % (results[0].get(\"AIC\"), \n",
    "                                                               results[0].get(\"BIC\")))\n",
    "plt.plot(models_train[\"RSS\"])\n",
    "plt.xlabel(\"# Predictors\")\n",
    "plt.ylabel(\"RSS\")\n",
    "plt.plot(models_train[\"RSS\"].argmin(), models_train[\"RSS\"].min(), 'or')  "
   ]
  },
  {
   "cell_type": "code",
   "execution_count": 50,
   "id": "64a2ed58",
   "metadata": {},
   "outputs": [
    {
     "data": {
      "text/plain": [
       "Text(0.5, 1.0, 'test size: 0.4\\nAIC value is 2857.526465\\nBIC value is 2903.798800')"
      ]
     },
     "execution_count": 50,
     "metadata": {},
     "output_type": "execute_result"
    },
    {
     "data": {
      "text/plain": [
       "[<matplotlib.lines.Line2D at 0x273e6d1da48>]"
      ]
     },
     "execution_count": 50,
     "metadata": {},
     "output_type": "execute_result"
    },
    {
     "data": {
      "text/plain": [
       "Text(0.5, 0, '# Predictors')"
      ]
     },
     "execution_count": 50,
     "metadata": {},
     "output_type": "execute_result"
    },
    {
     "data": {
      "text/plain": [
       "Text(0, 0.5, 'RSS')"
      ]
     },
     "execution_count": 50,
     "metadata": {},
     "output_type": "execute_result"
    },
    {
     "data": {
      "text/plain": [
       "[<matplotlib.lines.Line2D at 0x273e71c0688>]"
      ]
     },
     "execution_count": 50,
     "metadata": {},
     "output_type": "execute_result"
    },
    {
     "data": {
      "image/png": "[encoded data removed]",
      "text/plain": [
       "<Figure size 640x480 with 1 Axes>"
      ]
     },
     "metadata": {},
     "output_type": "display_data"
    }
   ],
   "source": [
    "models_train = pd.DataFrame(columns = [\"RSS\", \"model\"])\n",
    "\n",
    "predictors = []\n",
    "\n",
    "for i in range(1, len(X.columns) + 1):\n",
    "    models_train.loc[i], results = forward(predictors, X_train_06, y_train_06, X_test_04, y_test_04)\n",
    "    predictors = models_train.loc[i][\"model\"].model.exog_names\n",
    "    \n",
    "plt.title(\"test size: 0.4\\nAIC value is %f\\nBIC value is %f\" % (results[0].get(\"AIC\"), \n",
    "                                                               results[0].get(\"BIC\")))\n",
    "plt.plot(models_train[\"RSS\"])\n",
    "plt.xlabel(\"# Predictors\")\n",
    "plt.ylabel(\"RSS\")\n",
    "plt.plot(models_train[\"RSS\"].argmin(), models_train[\"RSS\"].min(), 'or')"
   ]
  },
  {
   "cell_type": "code",
   "execution_count": 51,
   "id": "6c75a525",
   "metadata": {},
   "outputs": [
    {
     "data": {
      "text/plain": [
       "Text(0.5, 1.0, 'test size: 0.3\\nAIC value is 3328.191250\\nBIC value is 3376.146563')"
      ]
     },
     "execution_count": 51,
     "metadata": {},
     "output_type": "execute_result"
    },
    {
     "data": {
      "text/plain": [
       "[<matplotlib.lines.Line2D at 0x273e6a9e608>]"
      ]
     },
     "execution_count": 51,
     "metadata": {},
     "output_type": "execute_result"
    },
    {
     "data": {
      "text/plain": [
       "Text(0.5, 0, '# Predictors')"
      ]
     },
     "execution_count": 51,
     "metadata": {},
     "output_type": "execute_result"
    },
    {
     "data": {
      "text/plain": [
       "Text(0, 0.5, 'RSS')"
      ]
     },
     "execution_count": 51,
     "metadata": {},
     "output_type": "execute_result"
    },
    {
     "data": {
      "text/plain": [
       "[<matplotlib.lines.Line2D at 0x273e715f208>]"
      ]
     },
     "execution_count": 51,
     "metadata": {},
     "output_type": "execute_result"
    },
    {
     "data": {
      "image/png": "[encoded data removed]",
      "text/plain": [
       "<Figure size 640x480 with 1 Axes>"
      ]
     },
     "metadata": {},
     "output_type": "display_data"
    }
   ],
   "source": [
    "models_train = pd.DataFrame(columns = [\"RSS\", \"model\"])\n",
    "\n",
    "predictors = []\n",
    "\n",
    "for i in range(1, len(X.columns) + 1):\n",
    "    models_train.loc[i], results  = forward(predictors, X_train_07, y_train_07, X_test_03, y_test_03)\n",
    "    predictors = models_train.loc[i][\"model\"].model.exog_names\n",
    "    \n",
    "plt.title(\"test size: 0.3\\nAIC value is %f\\nBIC value is %f\" % (results[0].get(\"AIC\"), \n",
    "                                                               results[0].get(\"BIC\")))\n",
    "plt.plot(models_train[\"RSS\"])\n",
    "plt.xlabel(\"# Predictors\")\n",
    "plt.ylabel(\"RSS\")\n",
    "plt.plot(models_train[\"RSS\"].argmin(), models_train[\"RSS\"].min(), 'or')"
   ]
  },
  {
   "cell_type": "code",
   "execution_count": 52,
   "id": "490a1223",
   "metadata": {},
   "outputs": [
    {
     "data": {
      "text/plain": [
       "Text(0.5, 1.0, 'test size: 0.2\\nAIC value is 3871.188271\\nBIC value is 3920.619563')"
      ]
     },
     "execution_count": 52,
     "metadata": {},
     "output_type": "execute_result"
    },
    {
     "data": {
      "text/plain": [
       "[<matplotlib.lines.Line2D at 0x273e6ad8448>]"
      ]
     },
     "execution_count": 52,
     "metadata": {},
     "output_type": "execute_result"
    },
    {
     "data": {
      "text/plain": [
       "Text(0.5, 0, '# Predictors')"
      ]
     },
     "execution_count": 52,
     "metadata": {},
     "output_type": "execute_result"
    },
    {
     "data": {
      "text/plain": [
       "Text(0, 0.5, 'RSS')"
      ]
     },
     "execution_count": 52,
     "metadata": {},
     "output_type": "execute_result"
    },
    {
     "data": {
      "text/plain": [
       "[<matplotlib.lines.Line2D at 0x273e6ad03c8>]"
      ]
     },
     "execution_count": 52,
     "metadata": {},
     "output_type": "execute_result"
    },
    {
     "data": {
      "image/png": "[encoded data removed]",
      "text/plain": [
       "<Figure size 640x480 with 1 Axes>"
      ]
     },
     "metadata": {},
     "output_type": "display_data"
    }
   ],
   "source": [
    "models_train = pd.DataFrame(columns = [\"RSS\", \"model\"])\n",
    "\n",
    "predictors = []\n",
    "\n",
    "for i in range(1, len(X.columns) + 1):\n",
    "    models_train.loc[i], results  = forward(predictors, X_train_08, y_train_08, X_test_02, y_test_02)\n",
    "    predictors = models_train.loc[i][\"model\"].model.exog_names\n",
    "    \n",
    "plt.title(\"test size: 0.2\\nAIC value is %f\\nBIC value is %f\" % (results[0].get(\"AIC\"), \n",
    "                                                               results[0].get(\"BIC\")))\n",
    "plt.plot(models_train[\"RSS\"])\n",
    "plt.xlabel(\"# Predictors\")\n",
    "plt.ylabel(\"RSS\")\n",
    "plt.plot(models_train[\"RSS\"].argmin(), models_train[\"RSS\"].min(), 'or')"
   ]
  },
  {
   "cell_type": "code",
   "execution_count": 53,
   "id": "e7379fc2",
   "metadata": {},
   "outputs": [
    {
     "data": {
      "text/plain": [
       "Text(0.5, 1.0, 'test size: 0.1\\nAIC value is 4382.175375\\nBIC value is 4432.907826')"
      ]
     },
     "execution_count": 53,
     "metadata": {},
     "output_type": "execute_result"
    },
    {
     "data": {
      "text/plain": [
       "[<matplotlib.lines.Line2D at 0x273e6b5c548>]"
      ]
     },
     "execution_count": 53,
     "metadata": {},
     "output_type": "execute_result"
    },
    {
     "data": {
      "text/plain": [
       "Text(0.5, 0, '# Predictors')"
      ]
     },
     "execution_count": 53,
     "metadata": {},
     "output_type": "execute_result"
    },
    {
     "data": {
      "text/plain": [
       "Text(0, 0.5, 'RSS')"
      ]
     },
     "execution_count": 53,
     "metadata": {},
     "output_type": "execute_result"
    },
    {
     "data": {
      "text/plain": [
       "[<matplotlib.lines.Line2D at 0x273e6b57b48>]"
      ]
     },
     "execution_count": 53,
     "metadata": {},
     "output_type": "execute_result"
    },
    {
     "data": {
      "image/png": "[encoded data removed]",
      "text/plain": [
       "<Figure size 640x480 with 1 Axes>"
      ]
     },
     "metadata": {},
     "output_type": "display_data"
    }
   ],
   "source": [
    "models_train = pd.DataFrame(columns = [\"RSS\", \"model\"])\n",
    "\n",
    "predictors = []\n",
    "\n",
    "for i in range(1, len(X.columns) + 1):\n",
    "    models_train.loc[i], results  = forward(predictors, X_train_09, y_train_09, X_test_01, y_test_01)\n",
    "    predictors = models_train.loc[i][\"model\"].model.exog_names\n",
    "    \n",
    "plt.title(\"test size: 0.1\\nAIC value is %f\\nBIC value is %f\" % (results[0].get(\"AIC\"), \n",
    "                                                               results[0].get(\"BIC\")))\n",
    "plt.plot(models_train[\"RSS\"])\n",
    "plt.xlabel(\"# Predictors\")\n",
    "plt.ylabel(\"RSS\")\n",
    "plt.plot(models_train[\"RSS\"].argmin(), models_train[\"RSS\"].min(), 'or')"
   ]
  },
  {
   "cell_type": "markdown",
   "id": "93fe790c",
   "metadata": {},
   "source": [
    "Finally, I tried the Validation Set Approach while decreasing the test size by 0.1 from 0.5 to 0.1. As a result, as the test size decreased, the model size decreased, and the k had a minimum value when the test size was 0.2. Therefore, in this result, it seems appropriate to set the test size to 0.2. The rationale here is that if a set of models appear to be more or less equally good, then we might as well choose the simplest model—that is, the model with the smallest number of predictors based on the one-standard-error rule."
   ]
  }
 ],
 "metadata": {
  "kernelspec": {
   "display_name": "Python 3 (ipykernel)",
   "language": "python",
   "name": "python3"
  },
  "language_info": {
   "codemirror_mode": {
    "name": "ipython",
    "version": 3
   },
   "file_extension": ".py",
   "mimetype": "text/x-python",
   "name": "python",
   "nbconvert_exporter": "python",
   "pygments_lexer": "ipython3",
   "version": "3.7.11"
  }
 },
 "nbformat": 4,
 "nbformat_minor": 5
}
